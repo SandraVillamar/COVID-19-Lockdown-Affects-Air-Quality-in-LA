{
 "cells": [
  {
   "cell_type": "markdown",
   "metadata": {},
   "source": [
    "# COGS 108 - Final Project "
   ]
  },
  {
   "cell_type": "markdown",
   "metadata": {},
   "source": [
    "## Permissions"
   ]
  },
  {
   "cell_type": "markdown",
   "metadata": {},
   "source": [
    "Place an `X` in the appropriate bracket below to specify if you would like your group's project to be made available to the public. (Note that PIDs will be scraped from the public submission, but student names will be included.)\n",
    "\n",
    "* [  ] YES - make available\n",
    "* [  ] NO - keep private"
   ]
  },
  {
   "cell_type": "markdown",
   "metadata": {},
   "source": [
    "# Overview"
   ]
  },
  {
   "cell_type": "markdown",
   "metadata": {},
   "source": [
    "*Fill in your overview here*"
   ]
  },
  {
   "cell_type": "markdown",
   "metadata": {},
   "source": [
    "# Names\n",
    "\n",
    "- Aaron Chen\n",
    "- Ian Rebmann\n",
    "- Sandra Villamar\n",
    "- Cathleen Pena\n"
   ]
  },
  {
   "cell_type": "markdown",
   "metadata": {},
   "source": [
    "# Group Members IDs\n",
    "\n",
    "- A15490376\n",
    "- A16102000\n",
    "- A14356262\n",
    "- A15112037"
   ]
  },
  {
   "cell_type": "markdown",
   "metadata": {},
   "source": [
    "# Research Question\n",
    "\n",
    "Has the air quality—in particular, the level of CO, NO2, O3, or pm2.5—changed in Los Angeles County since the COVID-19 lockdown regulations were in place? How did it change? Can we conclude that the COVID-19 lockdown is a reasonable guess for this change? Or are there other factors such as weather that may have contributed to a change in the air pollution?"
   ]
  },
  {
   "cell_type": "markdown",
   "metadata": {},
   "source": [
    "# Background and Prior Work\n",
    "\n",
    "Our group decided to choose a question related to COVID-19 because we felt that this pandemic is by far the most prevalent factor that has significantly changed our daily lives in the past weeks. In addition, we wanted to incorporate our other interest with environment-related topics. Therefore, we discussed in what ways the COVID-19 lockdown has affected our normal activities and noticed that the lockdown could have an impact on the level of air pollution. We wanted to see if there is a change in air pollution and if so, how significant this change is. We specifically chose Los Angeles County because we wanted to choose an area in California that is known to have bad air pollution as well as an area with a big population, since our findings could then be relevant to a greater audience. \n",
    "\n",
    "This question is important to ask because if the lockdown has indeed contributed to an improvement in air pollution, then LA County (as well as other counties) could continue to restrict certain activities that are possible in a remote setting. On the other hand, if the lockdown has not contributed to a significant change in air pollution, then we will know to focus on other possible sources in search for finding a solution for better air quality. \n",
    "\n",
    "While searching for our topic, we came across a data science project that studied the change in air pollution in Lombardy, Italy, comparing current COVID-19 lockdown dates to previous years. This project can be found in the first reference link. The data scientists explored air quality data from NO2, Benzene, SO2, pm2.5, and pm10, across the years 2018, 2019, and 2020. They discovered a significant drop in some pollutants and no change in others. They also looked at other factors that are known to improve air quality such as wind, temperature, and precipitation, to see how they changed in relation to the decrease of some pollutant levels. After this analysis, they concluded that the intensity of human activity is the only factor that significantly changed throughout the years and is hence a reasonable guess to why the air quality improved in Lombardy, Italy.  Another study posted to “World Economic Forum” found that some of the world's most polluted cities have seen a large increase in air quality. They plot levels of pm2.5 and post satellite images taken before and during the COVID-19 lockdown to demonstrate how drastic our footprint is on the atmosphere.\n",
    "\n",
    "**References:**\n",
    "- 1) https://towardsdatascience.com/is-covid-19-lockdown-cleaning-the-skies-over-milan-42dbba1ec812\n",
    "- 2) https://www.weforum.org/agenda/2020/04/coronavirus-covid19-air-pollution-enviroment-nature-lockdown"
   ]
  },
  {
   "cell_type": "markdown",
   "metadata": {},
   "source": [
    "# Hypothesis\n",
    "\n",
    "We hypothesize that all four pollutants have significantly reduced in level in Los Angeles County due to the COVID-19 lockdown. We believe this because activities such as transportation and manufacturing have notably decreased due to the restrictions of the lockdown. These are all known sources that contribute to air pollution."
   ]
  },
  {
   "cell_type": "markdown",
   "metadata": {},
   "source": [
    "# Dataset(s)"
   ]
  },
  {
   "cell_type": "markdown",
   "metadata": {},
   "source": [
    "*Fill in your dataset information here*\n",
    "\n",
    "(Copy this information for each dataset)\n",
    "- Dataset Name:\n",
    "- Link to the dataset:\n",
    "- Number of observations:\n",
    "\n",
    "1-2 sentences describing each dataset. \n",
    "\n",
    "If you plan to use multiple datasets, add 1-2 sentences about how you plan to combine these datasets."
   ]
  },
  {
   "cell_type": "markdown",
   "metadata": {},
   "source": [
    "# Setup"
   ]
  },
  {
   "cell_type": "code",
   "execution_count": 1,
   "metadata": {},
   "outputs": [],
   "source": [
    "import pandas as pd\n",
    "import numpy as np\n",
    "import math\n",
    "import matplotlib.pyplot as plt\n",
    "import seaborn as sns"
   ]
  },
  {
   "cell_type": "markdown",
   "metadata": {},
   "source": [
    "# Data Cleaning"
   ]
  },
  {
   "cell_type": "markdown",
   "metadata": {},
   "source": [
    "### Load  and Clean First Datasets:"
   ]
  },
  {
   "cell_type": "code",
   "execution_count": 2,
   "metadata": {},
   "outputs": [
    {
     "data": {
      "text/html": [
       "<div>\n",
       "<style scoped>\n",
       "    .dataframe tbody tr th:only-of-type {\n",
       "        vertical-align: middle;\n",
       "    }\n",
       "\n",
       "    .dataframe tbody tr th {\n",
       "        vertical-align: top;\n",
       "    }\n",
       "\n",
       "    .dataframe thead th {\n",
       "        text-align: right;\n",
       "    }\n",
       "</style>\n",
       "<table border=\"1\" class=\"dataframe\">\n",
       "  <thead>\n",
       "    <tr style=\"text-align: right;\">\n",
       "      <th></th>\n",
       "      <th>STATION</th>\n",
       "      <th>NAME</th>\n",
       "      <th>DATE</th>\n",
       "      <th>AWND</th>\n",
       "      <th>PRCP</th>\n",
       "      <th>TMAX</th>\n",
       "      <th>TMIN</th>\n",
       "    </tr>\n",
       "  </thead>\n",
       "  <tbody>\n",
       "    <tr>\n",
       "      <th>0</th>\n",
       "      <td>USW00093134</td>\n",
       "      <td>LOS ANGELES DOWNTOWN USC, CA US</td>\n",
       "      <td>1/1/2018</td>\n",
       "      <td>0.22</td>\n",
       "      <td>0.0</td>\n",
       "      <td>71</td>\n",
       "      <td>47</td>\n",
       "    </tr>\n",
       "    <tr>\n",
       "      <th>1</th>\n",
       "      <td>USW00093134</td>\n",
       "      <td>LOS ANGELES DOWNTOWN USC, CA US</td>\n",
       "      <td>1/2/2018</td>\n",
       "      <td>0.67</td>\n",
       "      <td>0.0</td>\n",
       "      <td>78</td>\n",
       "      <td>52</td>\n",
       "    </tr>\n",
       "    <tr>\n",
       "      <th>2</th>\n",
       "      <td>USW00093134</td>\n",
       "      <td>LOS ANGELES DOWNTOWN USC, CA US</td>\n",
       "      <td>1/3/2018</td>\n",
       "      <td>0.22</td>\n",
       "      <td>0.0</td>\n",
       "      <td>74</td>\n",
       "      <td>53</td>\n",
       "    </tr>\n",
       "  </tbody>\n",
       "</table>\n",
       "</div>"
      ],
      "text/plain": [
       "       STATION                             NAME      DATE  AWND  PRCP  TMAX  \\\n",
       "0  USW00093134  LOS ANGELES DOWNTOWN USC, CA US  1/1/2018  0.22   0.0    71   \n",
       "1  USW00093134  LOS ANGELES DOWNTOWN USC, CA US  1/2/2018  0.67   0.0    78   \n",
       "2  USW00093134  LOS ANGELES DOWNTOWN USC, CA US  1/3/2018  0.22   0.0    74   \n",
       "\n",
       "   TMIN  \n",
       "0    47  \n",
       "1    52  \n",
       "2    53  "
      ]
     },
     "metadata": {},
     "output_type": "display_data"
    },
    {
     "data": {
      "text/html": [
       "<div>\n",
       "<style scoped>\n",
       "    .dataframe tbody tr th:only-of-type {\n",
       "        vertical-align: middle;\n",
       "    }\n",
       "\n",
       "    .dataframe tbody tr th {\n",
       "        vertical-align: top;\n",
       "    }\n",
       "\n",
       "    .dataframe thead th {\n",
       "        text-align: right;\n",
       "    }\n",
       "</style>\n",
       "<table border=\"1\" class=\"dataframe\">\n",
       "  <thead>\n",
       "    <tr style=\"text-align: right;\">\n",
       "      <th></th>\n",
       "      <th>date</th>\n",
       "      <th>pm25</th>\n",
       "      <th>pm10</th>\n",
       "      <th>o3</th>\n",
       "      <th>no2</th>\n",
       "      <th>so2</th>\n",
       "      <th>co</th>\n",
       "    </tr>\n",
       "  </thead>\n",
       "  <tbody>\n",
       "    <tr>\n",
       "      <th>0</th>\n",
       "      <td>5/2/2020</td>\n",
       "      <td>55</td>\n",
       "      <td>29</td>\n",
       "      <td>34</td>\n",
       "      <td>9</td>\n",
       "      <td></td>\n",
       "      <td>2</td>\n",
       "    </tr>\n",
       "    <tr>\n",
       "      <th>1</th>\n",
       "      <td>5/3/2020</td>\n",
       "      <td>48</td>\n",
       "      <td>22</td>\n",
       "      <td>27</td>\n",
       "      <td>6</td>\n",
       "      <td>1</td>\n",
       "      <td>2</td>\n",
       "    </tr>\n",
       "    <tr>\n",
       "      <th>2</th>\n",
       "      <td>5/4/2020</td>\n",
       "      <td>37</td>\n",
       "      <td>34</td>\n",
       "      <td>39</td>\n",
       "      <td>12</td>\n",
       "      <td>1</td>\n",
       "      <td>3</td>\n",
       "    </tr>\n",
       "  </tbody>\n",
       "</table>\n",
       "</div>"
      ],
      "text/plain": [
       "       date  pm25  pm10  o3  no2  so2  co\n",
       "0  5/2/2020    55    29  34    9        2\n",
       "1  5/3/2020    48    22  27    6    1   2\n",
       "2  5/4/2020    37    34  39   12    1   3"
      ]
     },
     "metadata": {},
     "output_type": "display_data"
    }
   ],
   "source": [
    "dfw = pd.read_csv(\"Los_Angeles_Downtown_Weather.csv\")\n",
    "dfaqi = pd.read_csv(\"Los_Angeles_North_Main_Street_Air_Quality.csv\")\n",
    "display(dfw.head(3))\n",
    "display(dfaqi.head(3))"
   ]
  },
  {
   "cell_type": "markdown",
   "metadata": {},
   "source": [
    "##### Fix and Drop Unnecessary Columns:"
   ]
  },
  {
   "cell_type": "code",
   "execution_count": 3,
   "metadata": {},
   "outputs": [],
   "source": [
    "dfw = dfw.drop(columns=['NAME','STATION'])\n",
    "dfw.columns = ['date', 'average wind speed', 'precipitation', 'max temp', 'min temp']\n",
    "dfaqi.columns = ['date', 'pm25', 'pm10', 'o3', 'no2', 'so2', 'co']\n",
    "dfaqi = dfaqi.drop(columns=['pm10', 'so2'])"
   ]
  },
  {
   "cell_type": "markdown",
   "metadata": {},
   "source": [
    "##### Filter Data to 2018 until 2020:"
   ]
  },
  {
   "cell_type": "code",
   "execution_count": 4,
   "metadata": {},
   "outputs": [
    {
     "data": {
      "text/html": [
       "<div>\n",
       "<style scoped>\n",
       "    .dataframe tbody tr th:only-of-type {\n",
       "        vertical-align: middle;\n",
       "    }\n",
       "\n",
       "    .dataframe tbody tr th {\n",
       "        vertical-align: top;\n",
       "    }\n",
       "\n",
       "    .dataframe thead th {\n",
       "        text-align: right;\n",
       "    }\n",
       "</style>\n",
       "<table border=\"1\" class=\"dataframe\">\n",
       "  <thead>\n",
       "    <tr style=\"text-align: right;\">\n",
       "      <th></th>\n",
       "      <th>date</th>\n",
       "      <th>pm25</th>\n",
       "      <th>o3</th>\n",
       "      <th>no2</th>\n",
       "      <th>co</th>\n",
       "    </tr>\n",
       "  </thead>\n",
       "  <tbody>\n",
       "    <tr>\n",
       "      <th>2305</th>\n",
       "      <td>2020-05-04</td>\n",
       "      <td>37</td>\n",
       "      <td>39</td>\n",
       "      <td>12</td>\n",
       "      <td>3</td>\n",
       "    </tr>\n",
       "    <tr>\n",
       "      <th>2306</th>\n",
       "      <td>2020-05-05</td>\n",
       "      <td>56</td>\n",
       "      <td>47</td>\n",
       "      <td>17</td>\n",
       "      <td>4</td>\n",
       "    </tr>\n",
       "    <tr>\n",
       "      <th>2307</th>\n",
       "      <td>2020-05-06</td>\n",
       "      <td>57</td>\n",
       "      <td>52</td>\n",
       "      <td>21</td>\n",
       "      <td>4</td>\n",
       "    </tr>\n",
       "    <tr>\n",
       "      <th>2308</th>\n",
       "      <td>2020-05-07</td>\n",
       "      <td>55</td>\n",
       "      <td>64</td>\n",
       "      <td>20</td>\n",
       "      <td>4</td>\n",
       "    </tr>\n",
       "    <tr>\n",
       "      <th>2309</th>\n",
       "      <td>2020-05-08</td>\n",
       "      <td>59</td>\n",
       "      <td>25</td>\n",
       "      <td>25</td>\n",
       "      <td>6</td>\n",
       "    </tr>\n",
       "  </tbody>\n",
       "</table>\n",
       "</div>"
      ],
      "text/plain": [
       "           date pm25  o3 no2 co\n",
       "2305 2020-05-04   37  39  12  3\n",
       "2306 2020-05-05   56  47  17  4\n",
       "2307 2020-05-06   57  52  21  4\n",
       "2308 2020-05-07   55  64  20  4\n",
       "2309 2020-05-08   59  25  25  6"
      ]
     },
     "execution_count": 4,
     "metadata": {},
     "output_type": "execute_result"
    }
   ],
   "source": [
    "dfw['date'] = pd.to_datetime(dfw['date'], errors='coerce')\n",
    "dfaqi['date'] = pd.to_datetime(dfaqi['date'], errors='coerce')\n",
    "\n",
    "dfw = dfw.sort_values(by='date').reset_index(drop=True).drop_duplicates()\n",
    "dfaqi = dfaqi.sort_values(by='date').reset_index(drop=True).drop_duplicates()\n",
    "\n",
    "dfaqi = dfaqi[dfaqi['date'].dt.year >= 2018]\n",
    "              \n",
    "#drop last date: 2020-05-09 since 3/4 pollutants are missing values for this day\n",
    "#dfaqi = dfaqi.drop(pd.to_datetime('2020-05-09'))\n",
    "dfaqi = dfaqi.drop(dfaqi.tail(1).index)\n",
    "dfaqi.tail()"
   ]
  },
  {
   "cell_type": "markdown",
   "metadata": {},
   "source": [
    "##### Check Missing Entries:"
   ]
  },
  {
   "cell_type": "code",
   "execution_count": 5,
   "metadata": {},
   "outputs": [
    {
     "data": {
      "text/html": [
       "<div>\n",
       "<style scoped>\n",
       "    .dataframe tbody tr th:only-of-type {\n",
       "        vertical-align: middle;\n",
       "    }\n",
       "\n",
       "    .dataframe tbody tr th {\n",
       "        vertical-align: top;\n",
       "    }\n",
       "\n",
       "    .dataframe thead th {\n",
       "        text-align: right;\n",
       "    }\n",
       "</style>\n",
       "<table border=\"1\" class=\"dataframe\">\n",
       "  <thead>\n",
       "    <tr style=\"text-align: right;\">\n",
       "      <th></th>\n",
       "      <th>date</th>\n",
       "      <th>pm25</th>\n",
       "      <th>o3</th>\n",
       "      <th>no2</th>\n",
       "      <th>co</th>\n",
       "    </tr>\n",
       "  </thead>\n",
       "  <tbody>\n",
       "    <tr>\n",
       "      <th>1817</th>\n",
       "      <td>2019-01-01</td>\n",
       "      <td></td>\n",
       "      <td>25</td>\n",
       "      <td>20</td>\n",
       "      <td>6</td>\n",
       "    </tr>\n",
       "    <tr>\n",
       "      <th>2080</th>\n",
       "      <td>2019-09-21</td>\n",
       "      <td></td>\n",
       "      <td>53</td>\n",
       "      <td>17</td>\n",
       "      <td>5</td>\n",
       "    </tr>\n",
       "    <tr>\n",
       "      <th>2081</th>\n",
       "      <td>2019-09-22</td>\n",
       "      <td></td>\n",
       "      <td>50</td>\n",
       "      <td>18</td>\n",
       "      <td>6</td>\n",
       "    </tr>\n",
       "    <tr>\n",
       "      <th>2082</th>\n",
       "      <td>2019-09-23</td>\n",
       "      <td></td>\n",
       "      <td>37</td>\n",
       "      <td>16</td>\n",
       "      <td>4</td>\n",
       "    </tr>\n",
       "    <tr>\n",
       "      <th>2083</th>\n",
       "      <td>2019-09-24</td>\n",
       "      <td></td>\n",
       "      <td>30</td>\n",
       "      <td>20</td>\n",
       "      <td>6</td>\n",
       "    </tr>\n",
       "    <tr>\n",
       "      <th>2084</th>\n",
       "      <td>2019-09-25</td>\n",
       "      <td></td>\n",
       "      <td>38</td>\n",
       "      <td>16</td>\n",
       "      <td>3</td>\n",
       "    </tr>\n",
       "    <tr>\n",
       "      <th>2181</th>\n",
       "      <td>2020-01-01</td>\n",
       "      <td></td>\n",
       "      <td>25</td>\n",
       "      <td>19</td>\n",
       "      <td>5</td>\n",
       "    </tr>\n",
       "    <tr>\n",
       "      <th>2276</th>\n",
       "      <td>2020-04-05</td>\n",
       "      <td></td>\n",
       "      <td>21</td>\n",
       "      <td>2</td>\n",
       "      <td>1</td>\n",
       "    </tr>\n",
       "    <tr>\n",
       "      <th>2277</th>\n",
       "      <td>2020-04-06</td>\n",
       "      <td></td>\n",
       "      <td>27</td>\n",
       "      <td>5</td>\n",
       "      <td>1</td>\n",
       "    </tr>\n",
       "    <tr>\n",
       "      <th>2278</th>\n",
       "      <td>2020-04-07</td>\n",
       "      <td></td>\n",
       "      <td>23</td>\n",
       "      <td>9</td>\n",
       "      <td>2</td>\n",
       "    </tr>\n",
       "  </tbody>\n",
       "</table>\n",
       "</div>"
      ],
      "text/plain": [
       "           date pm25  o3 no2 co\n",
       "1817 2019-01-01       25  20  6\n",
       "2080 2019-09-21       53  17  5\n",
       "2081 2019-09-22       50  18  6\n",
       "2082 2019-09-23       37  16  4\n",
       "2083 2019-09-24       30  20  6\n",
       "2084 2019-09-25       38  16  3\n",
       "2181 2020-01-01       25  19  5\n",
       "2276 2020-04-05       21   2  1\n",
       "2277 2020-04-06       27   5  1\n",
       "2278 2020-04-07       23   9  2"
      ]
     },
     "execution_count": 5,
     "metadata": {},
     "output_type": "execute_result"
    }
   ],
   "source": [
    "dfaqi[(dfaqi['pm25'] == ' ')]"
   ]
  },
  {
   "cell_type": "code",
   "execution_count": 6,
   "metadata": {},
   "outputs": [
    {
     "data": {
      "text/html": [
       "<div>\n",
       "<style scoped>\n",
       "    .dataframe tbody tr th:only-of-type {\n",
       "        vertical-align: middle;\n",
       "    }\n",
       "\n",
       "    .dataframe tbody tr th {\n",
       "        vertical-align: top;\n",
       "    }\n",
       "\n",
       "    .dataframe thead th {\n",
       "        text-align: right;\n",
       "    }\n",
       "</style>\n",
       "<table border=\"1\" class=\"dataframe\">\n",
       "  <thead>\n",
       "    <tr style=\"text-align: right;\">\n",
       "      <th></th>\n",
       "      <th>date</th>\n",
       "      <th>pm25</th>\n",
       "      <th>o3</th>\n",
       "      <th>no2</th>\n",
       "      <th>co</th>\n",
       "    </tr>\n",
       "  </thead>\n",
       "  <tbody>\n",
       "    <tr>\n",
       "      <th>1516</th>\n",
       "      <td>2018-03-06</td>\n",
       "      <td>31</td>\n",
       "      <td></td>\n",
       "      <td>26</td>\n",
       "      <td>12</td>\n",
       "    </tr>\n",
       "    <tr>\n",
       "      <th>1816</th>\n",
       "      <td>2018-12-31</td>\n",
       "      <td>53</td>\n",
       "      <td></td>\n",
       "      <td></td>\n",
       "      <td></td>\n",
       "    </tr>\n",
       "    <tr>\n",
       "      <th>2180</th>\n",
       "      <td>2019-12-30</td>\n",
       "      <td>56</td>\n",
       "      <td></td>\n",
       "      <td></td>\n",
       "      <td></td>\n",
       "    </tr>\n",
       "  </tbody>\n",
       "</table>\n",
       "</div>"
      ],
      "text/plain": [
       "           date pm25 o3 no2  co\n",
       "1516 2018-03-06   31     26  12\n",
       "1816 2018-12-31   53           \n",
       "2180 2019-12-30   56           "
      ]
     },
     "execution_count": 6,
     "metadata": {},
     "output_type": "execute_result"
    }
   ],
   "source": [
    "dfaqi[(dfaqi['o3'] == ' ')]"
   ]
  },
  {
   "cell_type": "code",
   "execution_count": 7,
   "metadata": {},
   "outputs": [
    {
     "data": {
      "text/html": [
       "<div>\n",
       "<style scoped>\n",
       "    .dataframe tbody tr th:only-of-type {\n",
       "        vertical-align: middle;\n",
       "    }\n",
       "\n",
       "    .dataframe tbody tr th {\n",
       "        vertical-align: top;\n",
       "    }\n",
       "\n",
       "    .dataframe thead th {\n",
       "        text-align: right;\n",
       "    }\n",
       "</style>\n",
       "<table border=\"1\" class=\"dataframe\">\n",
       "  <thead>\n",
       "    <tr style=\"text-align: right;\">\n",
       "      <th></th>\n",
       "      <th>date</th>\n",
       "      <th>pm25</th>\n",
       "      <th>o3</th>\n",
       "      <th>no2</th>\n",
       "      <th>co</th>\n",
       "    </tr>\n",
       "  </thead>\n",
       "  <tbody>\n",
       "    <tr>\n",
       "      <th>1816</th>\n",
       "      <td>2018-12-31</td>\n",
       "      <td>53</td>\n",
       "      <td></td>\n",
       "      <td></td>\n",
       "      <td></td>\n",
       "    </tr>\n",
       "    <tr>\n",
       "      <th>2180</th>\n",
       "      <td>2019-12-30</td>\n",
       "      <td>56</td>\n",
       "      <td></td>\n",
       "      <td></td>\n",
       "      <td></td>\n",
       "    </tr>\n",
       "  </tbody>\n",
       "</table>\n",
       "</div>"
      ],
      "text/plain": [
       "           date pm25 o3 no2 co\n",
       "1816 2018-12-31   53          \n",
       "2180 2019-12-30   56          "
      ]
     },
     "execution_count": 7,
     "metadata": {},
     "output_type": "execute_result"
    }
   ],
   "source": [
    "dfaqi[(dfaqi['no2'] == ' ')]"
   ]
  },
  {
   "cell_type": "code",
   "execution_count": 8,
   "metadata": {},
   "outputs": [
    {
     "data": {
      "text/html": [
       "<div>\n",
       "<style scoped>\n",
       "    .dataframe tbody tr th:only-of-type {\n",
       "        vertical-align: middle;\n",
       "    }\n",
       "\n",
       "    .dataframe tbody tr th {\n",
       "        vertical-align: top;\n",
       "    }\n",
       "\n",
       "    .dataframe thead th {\n",
       "        text-align: right;\n",
       "    }\n",
       "</style>\n",
       "<table border=\"1\" class=\"dataframe\">\n",
       "  <thead>\n",
       "    <tr style=\"text-align: right;\">\n",
       "      <th></th>\n",
       "      <th>date</th>\n",
       "      <th>pm25</th>\n",
       "      <th>o3</th>\n",
       "      <th>no2</th>\n",
       "      <th>co</th>\n",
       "    </tr>\n",
       "  </thead>\n",
       "  <tbody>\n",
       "    <tr>\n",
       "      <th>1816</th>\n",
       "      <td>2018-12-31</td>\n",
       "      <td>53</td>\n",
       "      <td></td>\n",
       "      <td></td>\n",
       "      <td></td>\n",
       "    </tr>\n",
       "    <tr>\n",
       "      <th>2164</th>\n",
       "      <td>2019-12-14</td>\n",
       "      <td>85</td>\n",
       "      <td>9</td>\n",
       "      <td>21</td>\n",
       "      <td></td>\n",
       "    </tr>\n",
       "    <tr>\n",
       "      <th>2165</th>\n",
       "      <td>2019-12-15</td>\n",
       "      <td>79</td>\n",
       "      <td>29</td>\n",
       "      <td>11</td>\n",
       "      <td></td>\n",
       "    </tr>\n",
       "    <tr>\n",
       "      <th>2166</th>\n",
       "      <td>2019-12-16</td>\n",
       "      <td>25</td>\n",
       "      <td>20</td>\n",
       "      <td>26</td>\n",
       "      <td></td>\n",
       "    </tr>\n",
       "    <tr>\n",
       "      <th>2167</th>\n",
       "      <td>2019-12-17</td>\n",
       "      <td>31</td>\n",
       "      <td>22</td>\n",
       "      <td>26</td>\n",
       "      <td></td>\n",
       "    </tr>\n",
       "    <tr>\n",
       "      <th>2170</th>\n",
       "      <td>2019-12-20</td>\n",
       "      <td>55</td>\n",
       "      <td>18</td>\n",
       "      <td>29</td>\n",
       "      <td></td>\n",
       "    </tr>\n",
       "    <tr>\n",
       "      <th>2180</th>\n",
       "      <td>2019-12-30</td>\n",
       "      <td>56</td>\n",
       "      <td></td>\n",
       "      <td></td>\n",
       "      <td></td>\n",
       "    </tr>\n",
       "  </tbody>\n",
       "</table>\n",
       "</div>"
      ],
      "text/plain": [
       "           date pm25  o3 no2 co\n",
       "1816 2018-12-31   53           \n",
       "2164 2019-12-14   85   9  21   \n",
       "2165 2019-12-15   79  29  11   \n",
       "2166 2019-12-16   25  20  26   \n",
       "2167 2019-12-17   31  22  26   \n",
       "2170 2019-12-20   55  18  29   \n",
       "2180 2019-12-30   56           "
      ]
     },
     "execution_count": 8,
     "metadata": {},
     "output_type": "execute_result"
    }
   ],
   "source": [
    "dfaqi[(dfaqi['co'] == ' ')]"
   ]
  },
  {
   "cell_type": "markdown",
   "metadata": {},
   "source": [
    "##### Fix Missing Entries:"
   ]
  },
  {
   "cell_type": "code",
   "execution_count": 9,
   "metadata": {},
   "outputs": [],
   "source": [
    "#since the entries are missing at random, we decide to replace by 0\n",
    "dfaqi = dfaqi.replace(' ', '0')"
   ]
  },
  {
   "cell_type": "markdown",
   "metadata": {},
   "source": [
    "##### Check  and Fix Data Types:"
   ]
  },
  {
   "cell_type": "code",
   "execution_count": 10,
   "metadata": {},
   "outputs": [
    {
     "name": "stdout",
     "output_type": "stream",
     "text": [
      "date                  datetime64[ns]\n",
      "average wind speed           float64\n",
      "precipitation                float64\n",
      "max temp                       int64\n",
      "min temp                       int64\n",
      "dtype: object\n",
      "\n",
      "date    datetime64[ns]\n",
      "pm25            object\n",
      "o3              object\n",
      "no2             object\n",
      "co              object\n",
      "dtype: object\n"
     ]
    }
   ],
   "source": [
    "print(dfw.dtypes)\n",
    "print()\n",
    "print(dfaqi.dtypes)"
   ]
  },
  {
   "cell_type": "code",
   "execution_count": 11,
   "metadata": {},
   "outputs": [],
   "source": [
    "dfaqi = dfaqi.astype({'pm25': 'int32', 'o3': 'int32', 'no2': 'int32', 'co': 'int32'})"
   ]
  },
  {
   "cell_type": "code",
   "execution_count": 12,
   "metadata": {},
   "outputs": [
    {
     "name": "stdout",
     "output_type": "stream",
     "text": [
      "date                  datetime64[ns]\n",
      "average wind speed           float64\n",
      "precipitation                float64\n",
      "max temp                       int64\n",
      "min temp                       int64\n",
      "dtype: object\n",
      "\n",
      "date    datetime64[ns]\n",
      "pm25             int32\n",
      "o3               int32\n",
      "no2              int32\n",
      "co               int32\n",
      "dtype: object\n"
     ]
    }
   ],
   "source": [
    "print(dfw.dtypes)\n",
    "print()\n",
    "print(dfaqi.dtypes)"
   ]
  },
  {
   "cell_type": "markdown",
   "metadata": {},
   "source": [
    "##### Separate Data by Years:"
   ]
  },
  {
   "cell_type": "code",
   "execution_count": 13,
   "metadata": {},
   "outputs": [],
   "source": [
    "dfw2018=dfw[dfw['date'].dt.year == 2018].sort_values(by='date').reset_index(drop=True)\n",
    "dfw2019=dfw[dfw['date'].dt.year == 2019].sort_values(by='date').reset_index(drop=True)\n",
    "dfw2020=dfw[dfw['date'].dt.year == 2020].sort_values(by='date').reset_index(drop=True)"
   ]
  },
  {
   "cell_type": "code",
   "execution_count": 14,
   "metadata": {},
   "outputs": [],
   "source": [
    "dfaqi2018=dfaqi[dfaqi['date'].dt.year == 2018].sort_values(by='date').reset_index(drop=True)\n",
    "dfaqi2019=dfaqi[dfaqi['date'].dt.year == 2019].sort_values(by='date').reset_index(drop=True)\n",
    "dfaqi2020=dfaqi[dfaqi['date'].dt.year == 2020].sort_values(by='date').reset_index(drop=True)"
   ]
  },
  {
   "cell_type": "markdown",
   "metadata": {},
   "source": [
    "### Load and Clean Second Datasets:"
   ]
  },
  {
   "cell_type": "code",
   "execution_count": 15,
   "metadata": {},
   "outputs": [
    {
     "data": {
      "text/html": [
       "<div>\n",
       "<style scoped>\n",
       "    .dataframe tbody tr th:only-of-type {\n",
       "        vertical-align: middle;\n",
       "    }\n",
       "\n",
       "    .dataframe tbody tr th {\n",
       "        vertical-align: top;\n",
       "    }\n",
       "\n",
       "    .dataframe thead th {\n",
       "        text-align: right;\n",
       "    }\n",
       "</style>\n",
       "<table border=\"1\" class=\"dataframe\">\n",
       "  <thead>\n",
       "    <tr style=\"text-align: right;\">\n",
       "      <th></th>\n",
       "      <th>Date</th>\n",
       "      <th>Country</th>\n",
       "      <th>City</th>\n",
       "      <th>Specie</th>\n",
       "      <th>count</th>\n",
       "      <th>min</th>\n",
       "      <th>max</th>\n",
       "      <th>median</th>\n",
       "      <th>variance</th>\n",
       "    </tr>\n",
       "  </thead>\n",
       "  <tbody>\n",
       "    <tr>\n",
       "      <th>0</th>\n",
       "      <td>2019-03-26</td>\n",
       "      <td>US</td>\n",
       "      <td>Los Angeles</td>\n",
       "      <td>co</td>\n",
       "      <td>24</td>\n",
       "      <td>2.2</td>\n",
       "      <td>10.6</td>\n",
       "      <td>5.3</td>\n",
       "      <td>62.80</td>\n",
       "    </tr>\n",
       "    <tr>\n",
       "      <th>1</th>\n",
       "      <td>2018-12-31</td>\n",
       "      <td>US</td>\n",
       "      <td>Los Angeles</td>\n",
       "      <td>co</td>\n",
       "      <td>20</td>\n",
       "      <td>3.5</td>\n",
       "      <td>11.2</td>\n",
       "      <td>7.3</td>\n",
       "      <td>80.10</td>\n",
       "    </tr>\n",
       "    <tr>\n",
       "      <th>2</th>\n",
       "      <td>2019-03-19</td>\n",
       "      <td>US</td>\n",
       "      <td>Los Angeles</td>\n",
       "      <td>co</td>\n",
       "      <td>23</td>\n",
       "      <td>1.7</td>\n",
       "      <td>11.3</td>\n",
       "      <td>3.6</td>\n",
       "      <td>122.33</td>\n",
       "    </tr>\n",
       "    <tr>\n",
       "      <th>3</th>\n",
       "      <td>2019-03-24</td>\n",
       "      <td>US</td>\n",
       "      <td>Los Angeles</td>\n",
       "      <td>co</td>\n",
       "      <td>24</td>\n",
       "      <td>2.2</td>\n",
       "      <td>5.9</td>\n",
       "      <td>2.8</td>\n",
       "      <td>17.06</td>\n",
       "    </tr>\n",
       "    <tr>\n",
       "      <th>4</th>\n",
       "      <td>2019-02-02</td>\n",
       "      <td>US</td>\n",
       "      <td>Los Angeles</td>\n",
       "      <td>co</td>\n",
       "      <td>24</td>\n",
       "      <td>1.6</td>\n",
       "      <td>4.3</td>\n",
       "      <td>2.2</td>\n",
       "      <td>6.35</td>\n",
       "    </tr>\n",
       "  </tbody>\n",
       "</table>\n",
       "</div>"
      ],
      "text/plain": [
       "         Date Country         City Specie  count  min   max  median  variance\n",
       "0  2019-03-26      US  Los Angeles     co     24  2.2  10.6     5.3     62.80\n",
       "1  2018-12-31      US  Los Angeles     co     20  3.5  11.2     7.3     80.10\n",
       "2  2019-03-19      US  Los Angeles     co     23  1.7  11.3     3.6    122.33\n",
       "3  2019-03-24      US  Los Angeles     co     24  2.2   5.9     2.8     17.06\n",
       "4  2019-02-02      US  Los Angeles     co     24  1.6   4.3     2.2      6.35"
      ]
     },
     "execution_count": 15,
     "metadata": {},
     "output_type": "execute_result"
    }
   ],
   "source": [
    "data_2018 = pd.read_csv('2018LosAngelesH1Data.csv')\n",
    "data_2020 = pd.read_csv('2020LosAngelesDataset.csv')\n",
    "\n",
    "Q1_2019 = pd.read_csv('2019Q1LosAngelesDataset.csv')\n",
    "Q2_2019 = pd.read_csv('Q2LosAngelesDataset.csv')\n",
    "Q3_2019 = pd.read_csv('Q3LosAngelesDataset.csv')\n",
    "Q4_2019 = pd.read_csv('Q4LosAngelesDataset.csv')\n",
    "\n",
    "data_2019 = pd.concat([Q1_2019, Q2_2019, Q3_2019, Q4_2019])\n",
    "data_2019.head()"
   ]
  },
  {
   "cell_type": "code",
   "execution_count": 16,
   "metadata": {},
   "outputs": [],
   "source": [
    "assert len(Q1_2019) + len(Q2_2019) + len(Q3_2019) + len(Q4_2019) == len(data_2019)"
   ]
  },
  {
   "cell_type": "markdown",
   "metadata": {},
   "source": [
    "##### check and fix types for the columns:"
   ]
  },
  {
   "cell_type": "code",
   "execution_count": 17,
   "metadata": {},
   "outputs": [
    {
     "data": {
      "text/plain": [
       "Date         object\n",
       "Country      object\n",
       "City         object\n",
       "Specie       object\n",
       "count         int64\n",
       "min         float64\n",
       "max         float64\n",
       "median      float64\n",
       "variance    float64\n",
       "dtype: object"
      ]
     },
     "execution_count": 17,
     "metadata": {},
     "output_type": "execute_result"
    }
   ],
   "source": [
    "data_2019.dtypes"
   ]
  },
  {
   "cell_type": "code",
   "execution_count": 18,
   "metadata": {},
   "outputs": [
    {
     "data": {
      "text/html": [
       "<div>\n",
       "<style scoped>\n",
       "    .dataframe tbody tr th:only-of-type {\n",
       "        vertical-align: middle;\n",
       "    }\n",
       "\n",
       "    .dataframe tbody tr th {\n",
       "        vertical-align: top;\n",
       "    }\n",
       "\n",
       "    .dataframe thead th {\n",
       "        text-align: right;\n",
       "    }\n",
       "</style>\n",
       "<table border=\"1\" class=\"dataframe\">\n",
       "  <thead>\n",
       "    <tr style=\"text-align: right;\">\n",
       "      <th></th>\n",
       "      <th>Date</th>\n",
       "      <th>Country</th>\n",
       "      <th>City</th>\n",
       "      <th>Specie</th>\n",
       "      <th>count</th>\n",
       "      <th>min</th>\n",
       "      <th>max</th>\n",
       "      <th>median</th>\n",
       "      <th>variance</th>\n",
       "    </tr>\n",
       "  </thead>\n",
       "  <tbody>\n",
       "    <tr>\n",
       "      <th>0</th>\n",
       "      <td>2018-12-31</td>\n",
       "      <td>US</td>\n",
       "      <td>Los Angeles</td>\n",
       "      <td>wind-speed</td>\n",
       "      <td>60</td>\n",
       "      <td>0.0</td>\n",
       "      <td>0.0</td>\n",
       "      <td>0.0</td>\n",
       "      <td>0.00</td>\n",
       "    </tr>\n",
       "    <tr>\n",
       "      <th>1</th>\n",
       "      <td>2018-12-31</td>\n",
       "      <td>US</td>\n",
       "      <td>Los Angeles</td>\n",
       "      <td>wind-gust</td>\n",
       "      <td>60</td>\n",
       "      <td>0.1</td>\n",
       "      <td>7.0</td>\n",
       "      <td>3.0</td>\n",
       "      <td>23.38</td>\n",
       "    </tr>\n",
       "    <tr>\n",
       "      <th>2</th>\n",
       "      <td>2018-12-31</td>\n",
       "      <td>US</td>\n",
       "      <td>Los Angeles</td>\n",
       "      <td>humidity</td>\n",
       "      <td>60</td>\n",
       "      <td>0.0</td>\n",
       "      <td>0.0</td>\n",
       "      <td>0.0</td>\n",
       "      <td>0.00</td>\n",
       "    </tr>\n",
       "    <tr>\n",
       "      <th>3</th>\n",
       "      <td>2018-12-31</td>\n",
       "      <td>US</td>\n",
       "      <td>Los Angeles</td>\n",
       "      <td>pm10</td>\n",
       "      <td>64</td>\n",
       "      <td>11.0</td>\n",
       "      <td>72.0</td>\n",
       "      <td>25.0</td>\n",
       "      <td>1208.63</td>\n",
       "    </tr>\n",
       "    <tr>\n",
       "      <th>4</th>\n",
       "      <td>2018-12-31</td>\n",
       "      <td>US</td>\n",
       "      <td>Los Angeles</td>\n",
       "      <td>o3</td>\n",
       "      <td>15</td>\n",
       "      <td>0.8</td>\n",
       "      <td>27.2</td>\n",
       "      <td>24.1</td>\n",
       "      <td>1303.62</td>\n",
       "    </tr>\n",
       "  </tbody>\n",
       "</table>\n",
       "</div>"
      ],
      "text/plain": [
       "        Date Country         City      Specie  count   min   max  median  \\\n",
       "0 2018-12-31      US  Los Angeles  wind-speed     60   0.0   0.0     0.0   \n",
       "1 2018-12-31      US  Los Angeles   wind-gust     60   0.1   7.0     3.0   \n",
       "2 2018-12-31      US  Los Angeles    humidity     60   0.0   0.0     0.0   \n",
       "3 2018-12-31      US  Los Angeles        pm10     64  11.0  72.0    25.0   \n",
       "4 2018-12-31      US  Los Angeles          o3     15   0.8  27.2    24.1   \n",
       "\n",
       "   variance  \n",
       "0      0.00  \n",
       "1     23.38  \n",
       "2      0.00  \n",
       "3   1208.63  \n",
       "4   1303.62  "
      ]
     },
     "execution_count": 18,
     "metadata": {},
     "output_type": "execute_result"
    }
   ],
   "source": [
    "data_2018['Date'] = pd.to_datetime(data_2018['Date'])\n",
    "data_2019['Date'] = pd.to_datetime(data_2019['Date'])\n",
    "data_2020['Date'] = pd.to_datetime(data_2020['Date'])\n",
    "data_2018 = data_2018.sort_values(by='Date').reset_index(drop=True)\n",
    "data_2019 = data_2019.sort_values(by='Date').reset_index(drop=True)\n",
    "data_2020 = data_2020.sort_values(by='Date').reset_index(drop=True)\n",
    "data_2019.head()"
   ]
  },
  {
   "cell_type": "code",
   "execution_count": 19,
   "metadata": {},
   "outputs": [],
   "source": [
    "#data_2018.head() #starts 01/01/18, ends 07/01/18\n",
    "#data_2019.tail() #starts 12/31/18, ends 01/05/20\n",
    "#data_2020.tail() #starts 12/30/20, ends 04/20/20"
   ]
  },
  {
   "cell_type": "code",
   "execution_count": 20,
   "metadata": {},
   "outputs": [
    {
     "data": {
      "text/plain": [
       "Date        datetime64[ns]\n",
       "Country             object\n",
       "City                object\n",
       "Specie              object\n",
       "count                int64\n",
       "min                float64\n",
       "max                float64\n",
       "median             float64\n",
       "variance           float64\n",
       "dtype: object"
      ]
     },
     "execution_count": 20,
     "metadata": {},
     "output_type": "execute_result"
    }
   ],
   "source": [
    "data_2019.dtypes"
   ]
  },
  {
   "cell_type": "markdown",
   "metadata": {},
   "source": [
    "##### Fix values in the column so that they are homogeneous:\n",
    "'wind-speed' and 'wind speed' is the same and so are 'wind-gust' and 'wind gust'"
   ]
  },
  {
   "cell_type": "code",
   "execution_count": 21,
   "metadata": {},
   "outputs": [
    {
     "data": {
      "text/plain": [
       "array(['wind-speed', 'wind-gust', 'humidity', 'pm10', 'o3', 'dew', 'no2',\n",
       "       'pressure', 'temperature', 'co', 'pm25', 'so2', 'wind speed',\n",
       "       'wind gust'], dtype=object)"
      ]
     },
     "execution_count": 21,
     "metadata": {},
     "output_type": "execute_result"
    }
   ],
   "source": [
    "data_2019['Specie'].unique()"
   ]
  },
  {
   "cell_type": "code",
   "execution_count": 22,
   "metadata": {},
   "outputs": [
    {
     "data": {
      "text/plain": [
       "array(['no2', 'o3', 'co', 'pm10', 'pm25', 'humidity', 'pressure',\n",
       "       'temperature', 'wind gust', 'wind speed', 'so2', 'dew'],\n",
       "      dtype=object)"
      ]
     },
     "execution_count": 22,
     "metadata": {},
     "output_type": "execute_result"
    }
   ],
   "source": [
    "data_2018 = data_2018.replace({'wind-speed':'wind speed', 'wind-gust':'wind gust'})\n",
    "data_2019 = data_2019.replace({'wind-speed':'wind speed', 'wind-gust':'wind gust'})\n",
    "data_2020 = data_2020.replace({'wind-speed':'wind speed', 'wind-gust':'wind gust'})\n",
    "data_2020['Specie'].unique()"
   ]
  },
  {
   "cell_type": "markdown",
   "metadata": {},
   "source": [
    "##### Combine data from all years:\n",
    "Drop any duplicate rows and sort on 'Date'."
   ]
  },
  {
   "cell_type": "code",
   "execution_count": 23,
   "metadata": {},
   "outputs": [
    {
     "data": {
      "text/html": [
       "<div>\n",
       "<style scoped>\n",
       "    .dataframe tbody tr th:only-of-type {\n",
       "        vertical-align: middle;\n",
       "    }\n",
       "\n",
       "    .dataframe tbody tr th {\n",
       "        vertical-align: top;\n",
       "    }\n",
       "\n",
       "    .dataframe thead th {\n",
       "        text-align: right;\n",
       "    }\n",
       "</style>\n",
       "<table border=\"1\" class=\"dataframe\">\n",
       "  <thead>\n",
       "    <tr style=\"text-align: right;\">\n",
       "      <th></th>\n",
       "      <th>Date</th>\n",
       "      <th>Country</th>\n",
       "      <th>City</th>\n",
       "      <th>Specie</th>\n",
       "      <th>count</th>\n",
       "      <th>min</th>\n",
       "      <th>max</th>\n",
       "      <th>median</th>\n",
       "      <th>variance</th>\n",
       "    </tr>\n",
       "  </thead>\n",
       "  <tbody>\n",
       "    <tr>\n",
       "      <th>0</th>\n",
       "      <td>2018-01-01</td>\n",
       "      <td>US</td>\n",
       "      <td>Los Angeles</td>\n",
       "      <td>no2</td>\n",
       "      <td>48</td>\n",
       "      <td>10.2</td>\n",
       "      <td>38.9</td>\n",
       "      <td>25.1</td>\n",
       "      <td>421.71</td>\n",
       "    </tr>\n",
       "    <tr>\n",
       "      <th>1</th>\n",
       "      <td>2018-01-01</td>\n",
       "      <td>US</td>\n",
       "      <td>Los Angeles</td>\n",
       "      <td>so2</td>\n",
       "      <td>3</td>\n",
       "      <td>1.5</td>\n",
       "      <td>1.5</td>\n",
       "      <td>1.5</td>\n",
       "      <td>0.00</td>\n",
       "    </tr>\n",
       "    <tr>\n",
       "      <th>2</th>\n",
       "      <td>2018-01-01</td>\n",
       "      <td>US</td>\n",
       "      <td>Los Angeles</td>\n",
       "      <td>o3</td>\n",
       "      <td>19</td>\n",
       "      <td>0.8</td>\n",
       "      <td>36.8</td>\n",
       "      <td>17.6</td>\n",
       "      <td>1974.41</td>\n",
       "    </tr>\n",
       "    <tr>\n",
       "      <th>3</th>\n",
       "      <td>2018-01-01</td>\n",
       "      <td>US</td>\n",
       "      <td>Los Angeles</td>\n",
       "      <td>co</td>\n",
       "      <td>24</td>\n",
       "      <td>3.4</td>\n",
       "      <td>43.4</td>\n",
       "      <td>13.6</td>\n",
       "      <td>901.89</td>\n",
       "    </tr>\n",
       "    <tr>\n",
       "      <th>4</th>\n",
       "      <td>2018-01-01</td>\n",
       "      <td>US</td>\n",
       "      <td>Los Angeles</td>\n",
       "      <td>pm25</td>\n",
       "      <td>68</td>\n",
       "      <td>30.0</td>\n",
       "      <td>309.0</td>\n",
       "      <td>162.0</td>\n",
       "      <td>34853.00</td>\n",
       "    </tr>\n",
       "    <tr>\n",
       "      <th>5</th>\n",
       "      <td>2018-01-01</td>\n",
       "      <td>US</td>\n",
       "      <td>Los Angeles</td>\n",
       "      <td>pm10</td>\n",
       "      <td>24</td>\n",
       "      <td>37.0</td>\n",
       "      <td>90.0</td>\n",
       "      <td>62.0</td>\n",
       "      <td>1759.55</td>\n",
       "    </tr>\n",
       "    <tr>\n",
       "      <th>6</th>\n",
       "      <td>2018-01-02</td>\n",
       "      <td>US</td>\n",
       "      <td>Los Angeles</td>\n",
       "      <td>pm10</td>\n",
       "      <td>24</td>\n",
       "      <td>51.0</td>\n",
       "      <td>78.0</td>\n",
       "      <td>61.0</td>\n",
       "      <td>486.50</td>\n",
       "    </tr>\n",
       "    <tr>\n",
       "      <th>7</th>\n",
       "      <td>2018-01-02</td>\n",
       "      <td>US</td>\n",
       "      <td>Los Angeles</td>\n",
       "      <td>co</td>\n",
       "      <td>24</td>\n",
       "      <td>7.7</td>\n",
       "      <td>48.9</td>\n",
       "      <td>17.8</td>\n",
       "      <td>1835.46</td>\n",
       "    </tr>\n",
       "    <tr>\n",
       "      <th>8</th>\n",
       "      <td>2018-01-02</td>\n",
       "      <td>US</td>\n",
       "      <td>Los Angeles</td>\n",
       "      <td>pm25</td>\n",
       "      <td>72</td>\n",
       "      <td>53.0</td>\n",
       "      <td>177.0</td>\n",
       "      <td>127.0</td>\n",
       "      <td>10782.90</td>\n",
       "    </tr>\n",
       "    <tr>\n",
       "      <th>9</th>\n",
       "      <td>2018-01-02</td>\n",
       "      <td>US</td>\n",
       "      <td>Los Angeles</td>\n",
       "      <td>no2</td>\n",
       "      <td>48</td>\n",
       "      <td>22.3</td>\n",
       "      <td>66.4</td>\n",
       "      <td>38.0</td>\n",
       "      <td>1184.92</td>\n",
       "    </tr>\n",
       "  </tbody>\n",
       "</table>\n",
       "</div>"
      ],
      "text/plain": [
       "        Date Country         City Specie  count   min    max  median  variance\n",
       "0 2018-01-01      US  Los Angeles    no2     48  10.2   38.9    25.1    421.71\n",
       "1 2018-01-01      US  Los Angeles    so2      3   1.5    1.5     1.5      0.00\n",
       "2 2018-01-01      US  Los Angeles     o3     19   0.8   36.8    17.6   1974.41\n",
       "3 2018-01-01      US  Los Angeles     co     24   3.4   43.4    13.6    901.89\n",
       "4 2018-01-01      US  Los Angeles   pm25     68  30.0  309.0   162.0  34853.00\n",
       "5 2018-01-01      US  Los Angeles   pm10     24  37.0   90.0    62.0   1759.55\n",
       "6 2018-01-02      US  Los Angeles   pm10     24  51.0   78.0    61.0    486.50\n",
       "7 2018-01-02      US  Los Angeles     co     24   7.7   48.9    17.8   1835.46\n",
       "8 2018-01-02      US  Los Angeles   pm25     72  53.0  177.0   127.0  10782.90\n",
       "9 2018-01-02      US  Los Angeles    no2     48  22.3   66.4    38.0   1184.92"
      ]
     },
     "execution_count": 23,
     "metadata": {},
     "output_type": "execute_result"
    }
   ],
   "source": [
    "data = pd.concat([data_2018, data_2019, data_2020])\n",
    "data = data.sort_values(by='Date').reset_index(drop=True).drop_duplicates()\n",
    "data.head(10)"
   ]
  },
  {
   "cell_type": "markdown",
   "metadata": {},
   "source": [
    "#### Create new data frame using only specie and count, group them by date and get the counts of each specie:\n",
    "##### Group by specie and create its' own data frame of the date and count"
   ]
  },
  {
   "cell_type": "code",
   "execution_count": 24,
   "metadata": {},
   "outputs": [],
   "source": [
    "species = list(data.Specie.unique())\n",
    "dfs = []\n",
    "for specie in species:\n",
    "    df = data[data['Specie'] == specie][['Date', 'count']]\n",
    "    dfs.append(df)"
   ]
  },
  {
   "cell_type": "code",
   "execution_count": 25,
   "metadata": {},
   "outputs": [],
   "source": [
    "no2, so2, o3, co, pm25, pm10, temperature, humidity, wind_speed, pressure, wind_gust, dew = dfs[0], dfs[1], dfs[2], dfs[3], dfs[4], dfs[5], dfs[6], dfs[7], dfs[8], dfs[9], dfs[10], dfs[11]"
   ]
  },
  {
   "cell_type": "markdown",
   "metadata": {},
   "source": [
    "##### Rename columns so that when we merge them, the names are specific and not all 'count'"
   ]
  },
  {
   "cell_type": "code",
   "execution_count": 26,
   "metadata": {},
   "outputs": [],
   "source": [
    "no2 = no2.rename(columns={\"count\": \"no2_count\"}) \n",
    "so2 = so2.rename(columns={\"count\": \"so2_count\"})\n",
    "o3 = o3.rename(columns={\"count\": \"o3_count\"})\n",
    "co = co.rename(columns={\"count\": \"co_count\"})\n",
    "pm25 = pm25.rename(columns={\"count\": \"pm25_count\"})\n",
    "pm10 = pm10.rename(columns={\"count\": \"pm10_count\"})\n",
    "temperature = temperature.rename(columns={\"count\": \"temperature_count\"})\n",
    "humidity = humidity.rename(columns={\"count\": \"humidity_count\"})\n",
    "wind_speed = wind_speed.rename(columns={\"count\": \"wind_speed_count\"})\n",
    "pressure = pressure.rename(columns={\"count\": \"pressure_count\"})\n",
    "wind_gust = wind_gust.rename(columns={\"count\": \"wind_gust_count\"})\n",
    "dew = dew.rename(columns={\"count\": \"dew_count\"})"
   ]
  },
  {
   "cell_type": "markdown",
   "metadata": {},
   "source": [
    "##### Merge all dataframes together"
   ]
  },
  {
   "cell_type": "code",
   "execution_count": 27,
   "metadata": {},
   "outputs": [
    {
     "data": {
      "text/html": [
       "<div>\n",
       "<style scoped>\n",
       "    .dataframe tbody tr th:only-of-type {\n",
       "        vertical-align: middle;\n",
       "    }\n",
       "\n",
       "    .dataframe tbody tr th {\n",
       "        vertical-align: top;\n",
       "    }\n",
       "\n",
       "    .dataframe thead th {\n",
       "        text-align: right;\n",
       "    }\n",
       "</style>\n",
       "<table border=\"1\" class=\"dataframe\">\n",
       "  <thead>\n",
       "    <tr style=\"text-align: right;\">\n",
       "      <th></th>\n",
       "      <th>Date</th>\n",
       "      <th>no2_count</th>\n",
       "      <th>so2_count</th>\n",
       "      <th>o3_count</th>\n",
       "      <th>co_count</th>\n",
       "      <th>pm25_count</th>\n",
       "      <th>pm10_count</th>\n",
       "      <th>temperature_count</th>\n",
       "      <th>humidity_count</th>\n",
       "      <th>wind_speed_count</th>\n",
       "      <th>pressure_count</th>\n",
       "      <th>wind_gust_count</th>\n",
       "      <th>dew_count</th>\n",
       "    </tr>\n",
       "  </thead>\n",
       "  <tbody>\n",
       "    <tr>\n",
       "      <th>0</th>\n",
       "      <td>2018-01-01</td>\n",
       "      <td>48</td>\n",
       "      <td>3.0</td>\n",
       "      <td>19.0</td>\n",
       "      <td>24.0</td>\n",
       "      <td>68</td>\n",
       "      <td>24.0</td>\n",
       "      <td>NaN</td>\n",
       "      <td>NaN</td>\n",
       "      <td>NaN</td>\n",
       "      <td>NaN</td>\n",
       "      <td>NaN</td>\n",
       "      <td>NaN</td>\n",
       "    </tr>\n",
       "    <tr>\n",
       "      <th>1</th>\n",
       "      <td>2018-01-02</td>\n",
       "      <td>48</td>\n",
       "      <td>NaN</td>\n",
       "      <td>21.0</td>\n",
       "      <td>24.0</td>\n",
       "      <td>72</td>\n",
       "      <td>24.0</td>\n",
       "      <td>NaN</td>\n",
       "      <td>NaN</td>\n",
       "      <td>NaN</td>\n",
       "      <td>NaN</td>\n",
       "      <td>NaN</td>\n",
       "      <td>NaN</td>\n",
       "    </tr>\n",
       "    <tr>\n",
       "      <th>2</th>\n",
       "      <td>2018-01-03</td>\n",
       "      <td>48</td>\n",
       "      <td>NaN</td>\n",
       "      <td>21.0</td>\n",
       "      <td>24.0</td>\n",
       "      <td>72</td>\n",
       "      <td>24.0</td>\n",
       "      <td>NaN</td>\n",
       "      <td>NaN</td>\n",
       "      <td>NaN</td>\n",
       "      <td>NaN</td>\n",
       "      <td>NaN</td>\n",
       "      <td>NaN</td>\n",
       "    </tr>\n",
       "    <tr>\n",
       "      <th>3</th>\n",
       "      <td>2018-01-04</td>\n",
       "      <td>47</td>\n",
       "      <td>4.0</td>\n",
       "      <td>21.0</td>\n",
       "      <td>24.0</td>\n",
       "      <td>72</td>\n",
       "      <td>24.0</td>\n",
       "      <td>NaN</td>\n",
       "      <td>NaN</td>\n",
       "      <td>NaN</td>\n",
       "      <td>NaN</td>\n",
       "      <td>NaN</td>\n",
       "      <td>NaN</td>\n",
       "    </tr>\n",
       "    <tr>\n",
       "      <th>4</th>\n",
       "      <td>2018-01-05</td>\n",
       "      <td>48</td>\n",
       "      <td>NaN</td>\n",
       "      <td>20.0</td>\n",
       "      <td>24.0</td>\n",
       "      <td>70</td>\n",
       "      <td>24.0</td>\n",
       "      <td>NaN</td>\n",
       "      <td>NaN</td>\n",
       "      <td>NaN</td>\n",
       "      <td>NaN</td>\n",
       "      <td>NaN</td>\n",
       "      <td>NaN</td>\n",
       "    </tr>\n",
       "  </tbody>\n",
       "</table>\n",
       "</div>"
      ],
      "text/plain": [
       "        Date  no2_count  so2_count  o3_count  co_count  pm25_count  \\\n",
       "0 2018-01-01         48        3.0      19.0      24.0          68   \n",
       "1 2018-01-02         48        NaN      21.0      24.0          72   \n",
       "2 2018-01-03         48        NaN      21.0      24.0          72   \n",
       "3 2018-01-04         47        4.0      21.0      24.0          72   \n",
       "4 2018-01-05         48        NaN      20.0      24.0          70   \n",
       "\n",
       "   pm10_count  temperature_count  humidity_count  wind_speed_count  \\\n",
       "0        24.0                NaN             NaN               NaN   \n",
       "1        24.0                NaN             NaN               NaN   \n",
       "2        24.0                NaN             NaN               NaN   \n",
       "3        24.0                NaN             NaN               NaN   \n",
       "4        24.0                NaN             NaN               NaN   \n",
       "\n",
       "   pressure_count  wind_gust_count  dew_count  \n",
       "0             NaN              NaN        NaN  \n",
       "1             NaN              NaN        NaN  \n",
       "2             NaN              NaN        NaN  \n",
       "3             NaN              NaN        NaN  \n",
       "4             NaN              NaN        NaN  "
      ]
     },
     "execution_count": 27,
     "metadata": {},
     "output_type": "execute_result"
    }
   ],
   "source": [
    "data2 = pd.merge(no2, so2, how='outer', on='Date')\n",
    "data2 = pd.merge(data2, o3, how='outer', on='Date')\n",
    "data2 = pd.merge(data2, co, how='outer', on='Date')\n",
    "data2 = pd.merge(data2, pm25, how='outer', on='Date')\n",
    "data2 = pd.merge(data2, pm10, how='outer', on='Date')\n",
    "data2 = pd.merge(data2, temperature, how='outer', on='Date')\n",
    "data2 = pd.merge(data2, humidity, how='outer', on='Date')\n",
    "data2 = pd.merge(data2, wind_speed, how='outer', on='Date')\n",
    "data2 = pd.merge(data2, pressure, how='outer', on='Date')\n",
    "data2 = pd.merge(data2, wind_gust, how='outer', on='Date')\n",
    "data2 = pd.merge(data2, dew, how='outer', on='Date')\n",
    "data2.head()"
   ]
  },
  {
   "cell_type": "markdown",
   "metadata": {},
   "source": [
    "# Data Analysis & Results"
   ]
  },
  {
   "cell_type": "markdown",
   "metadata": {},
   "source": [
    "### Boxplots of Pollution Levels through 2018, 2019, and 2020"
   ]
  },
  {
   "cell_type": "markdown",
   "metadata": {},
   "source": [
    "These boxplots display the AQI levels of each pollutant. We will use the same timeframe of the first phase lockdown dates of 2020 (March 19th to May 8th), throughout 2018 and 2019 as well. This way, we can compare the air quality during the lockdown in 2020 to previous years' air quality."
   ]
  },
  {
   "cell_type": "markdown",
   "metadata": {},
   "source": [
    "#### Boxplot for pm2.5"
   ]
  },
  {
   "cell_type": "code",
   "execution_count": 28,
   "metadata": {},
   "outputs": [
    {
     "data": {
      "image/png": "[encoded data removed]",
      "text/plain": [
       "<Figure size 432x288 with 1 Axes>"
      ]
     },
     "metadata": {
      "needs_background": "light"
     },
     "output_type": "display_data"
    }
   ],
   "source": [
    "#only use dates from March 19 to May 8\n",
    "lockdown_dates_2018 = (dfaqi['date'] >= '2018-3-19') & (dfaqi['date'] <= '2018-5-8')\n",
    "lockdown_dates_2019 = (dfaqi['date'] >= '2019-3-19') & (dfaqi['date'] <= '2019-5-8')\n",
    "lockdown_dates_2020 = (dfaqi['date'] >= '2020-3-19') & (dfaqi['date'] <= '2020-5-8')\n",
    "\n",
    "#create dataframe for pm25 during lockdown dates\n",
    "df_pm25_lockdown = dfaqi.loc[:,['date', 'pm25']]\n",
    "df_pm25_lockdown = df_pm25_lockdown.loc[lockdown_dates_2018 | lockdown_dates_2019 | lockdown_dates_2020]\n",
    "#drop rows from each year if at least one year has a missing value\n",
    "pm25_dates_missing = ['2018-04-05', '2018-04-06', '2018-04-07', '2019-04-05', '2019-04-06', '2019-04-07',\n",
    "                     '2020-04-05', '2020-04-06', '2020-04-07']\n",
    "df_pm25_lockdown = df_pm25_lockdown[~df_pm25_lockdown['date'] .isin(pm25_dates_missing)]\n",
    "#add year column\n",
    "df_pm25_lockdown['year'] = df_pm25_lockdown['date'].dt.year\n",
    "\n",
    "#set up color palette\n",
    "years = df_pm25_lockdown['year'].unique()\n",
    "palette = dict(zip(years, sns.color_palette()))\n",
    "\n",
    "#generate boxplots\n",
    "ax = sns.boxplot(x='year', y='pm25', data=df_pm25_lockdown, palette=palette)\n",
    "ax.set_title('pm2.5 has changed???', loc='left')\n",
    "ax.set_ylabel('AQI Level of pm2.5')\n",
    "ax.set_xlabel('Year');"
   ]
  },
  {
   "cell_type": "markdown",
   "metadata": {},
   "source": [
    "\n",
    "#### Boxplot for O3"
   ]
  },
  {
   "cell_type": "code",
   "execution_count": 29,
   "metadata": {},
   "outputs": [
    {
     "data": {
      "image/png": "[encoded data removed]",
      "text/plain": [
       "<Figure size 432x288 with 1 Axes>"
      ]
     },
     "metadata": {
      "needs_background": "light"
     },
     "output_type": "display_data"
    }
   ],
   "source": [
    "#create dataframe for o3 during lockdown dates\n",
    "df_o3_lockdown = dfaqi.loc[:,['date', 'o3']]\n",
    "df_o3_lockdown = df_o3_lockdown.loc[lockdown_dates_2018 | lockdown_dates_2019 | lockdown_dates_2020]\n",
    "#no rows with missing data from any year: check!\n",
    "#add year column\n",
    "df_o3_lockdown['year'] = df_o3_lockdown['date'].dt.year\n",
    "\n",
    "#generate boxplots\n",
    "ax = sns.boxplot(x='year', y='o3', data=df_o3_lockdown, palette=palette)\n",
    "ax.set_title('O3 has changed???', loc='left')\n",
    "ax.set_ylabel('AQI Level of O3')\n",
    "ax.set_xlabel('Year');"
   ]
  },
  {
   "cell_type": "code",
   "execution_count": 30,
   "metadata": {},
   "outputs": [
    {
     "data": {
      "image/png": "[encoded data removed]",
      "text/plain": [
       "<Figure size 432x288 with 1 Axes>"
      ]
     },
     "metadata": {
      "needs_background": "light"
     },
     "output_type": "display_data"
    }
   ],
   "source": [
    "#create dataframe for no2 during lockdown dates\n",
    "df_no2_lockdown = dfaqi.loc[:,['date', 'no2']]\n",
    "df_no2_lockdown = df_no2_lockdown.loc[lockdown_dates_2018 | lockdown_dates_2019 | lockdown_dates_2020]\n",
    "#no rows with missing data from any year: check!\n",
    "#add year column\n",
    "df_no2_lockdown['year'] = df_no2_lockdown['date'].dt.year\n",
    "\n",
    "#generate boxplots\n",
    "ax = sns.boxplot(x='year', y='no2', data=df_no2_lockdown, palette=palette)\n",
    "ax.set_title('NO2 has changed???', loc='left')\n",
    "ax.set_ylabel('AQI Level of NO2')\n",
    "ax.set_xlabel('Year');"
   ]
  },
  {
   "cell_type": "markdown",
   "metadata": {},
   "source": [
    "#### Boxplot for CO"
   ]
  },
  {
   "cell_type": "code",
   "execution_count": 31,
   "metadata": {},
   "outputs": [
    {
     "data": {
      "image/png": "[encoded data removed]",
      "text/plain": [
       "<Figure size 432x288 with 1 Axes>"
      ]
     },
     "metadata": {
      "needs_background": "light"
     },
     "output_type": "display_data"
    }
   ],
   "source": [
    "#create dataframe for co during lockdown dates\n",
    "df_co_lockdown = dfaqi.loc[:,['date', 'co']]\n",
    "df_co_lockdown = df_co_lockdown.loc[lockdown_dates_2018 | lockdown_dates_2019 | lockdown_dates_2020]\n",
    "#no rows with missing data from any year: check!\n",
    "#add year column\n",
    "df_co_lockdown['year'] = df_co_lockdown['date'].dt.year\n",
    "\n",
    "#generate boxplots\n",
    "ax = sns.boxplot(x='year', y='co', data=df_co_lockdown, palette=palette)\n",
    "ax.set_title('CO has changed???', loc='left')\n",
    "ax.set_ylabel('AQI Level of CO')\n",
    "ax.set_xlabel('Year');"
   ]
  },
  {
   "cell_type": "markdown",
   "metadata": {},
   "source": [
    "### Correlation heatmaps of measures:"
   ]
  },
  {
   "cell_type": "code",
   "execution_count": 32,
   "metadata": {},
   "outputs": [
    {
     "data": {
      "text/html": [
       "<div>\n",
       "<style scoped>\n",
       "    .dataframe tbody tr th:only-of-type {\n",
       "        vertical-align: middle;\n",
       "    }\n",
       "\n",
       "    .dataframe tbody tr th {\n",
       "        vertical-align: top;\n",
       "    }\n",
       "\n",
       "    .dataframe thead th {\n",
       "        text-align: right;\n",
       "    }\n",
       "</style>\n",
       "<table border=\"1\" class=\"dataframe\">\n",
       "  <thead>\n",
       "    <tr style=\"text-align: right;\">\n",
       "      <th></th>\n",
       "      <th>no2_count</th>\n",
       "      <th>so2_count</th>\n",
       "      <th>o3_count</th>\n",
       "      <th>co_count</th>\n",
       "      <th>pm25_count</th>\n",
       "      <th>pm10_count</th>\n",
       "      <th>temperature_count</th>\n",
       "      <th>humidity_count</th>\n",
       "      <th>wind_speed_count</th>\n",
       "      <th>pressure_count</th>\n",
       "      <th>wind_gust_count</th>\n",
       "      <th>dew_count</th>\n",
       "    </tr>\n",
       "  </thead>\n",
       "  <tbody>\n",
       "    <tr>\n",
       "      <th>no2_count</th>\n",
       "      <td>1.000000</td>\n",
       "      <td>0.241592</td>\n",
       "      <td>0.312999</td>\n",
       "      <td>0.572573</td>\n",
       "      <td>0.416887</td>\n",
       "      <td>0.170415</td>\n",
       "      <td>0.356648</td>\n",
       "      <td>0.441377</td>\n",
       "      <td>0.112410</td>\n",
       "      <td>0.345189</td>\n",
       "      <td>0.099798</td>\n",
       "      <td>0.131723</td>\n",
       "    </tr>\n",
       "    <tr>\n",
       "      <th>so2_count</th>\n",
       "      <td>0.241592</td>\n",
       "      <td>1.000000</td>\n",
       "      <td>0.197872</td>\n",
       "      <td>0.436737</td>\n",
       "      <td>-0.061190</td>\n",
       "      <td>-0.110938</td>\n",
       "      <td>-0.092296</td>\n",
       "      <td>-0.129918</td>\n",
       "      <td>-0.087926</td>\n",
       "      <td>-0.125249</td>\n",
       "      <td>-0.125035</td>\n",
       "      <td>0.109989</td>\n",
       "    </tr>\n",
       "    <tr>\n",
       "      <th>o3_count</th>\n",
       "      <td>0.312999</td>\n",
       "      <td>0.197872</td>\n",
       "      <td>1.000000</td>\n",
       "      <td>0.490907</td>\n",
       "      <td>0.174042</td>\n",
       "      <td>0.189599</td>\n",
       "      <td>0.217634</td>\n",
       "      <td>0.290489</td>\n",
       "      <td>0.290627</td>\n",
       "      <td>0.226205</td>\n",
       "      <td>0.256962</td>\n",
       "      <td>-0.091814</td>\n",
       "    </tr>\n",
       "    <tr>\n",
       "      <th>co_count</th>\n",
       "      <td>0.572573</td>\n",
       "      <td>0.436737</td>\n",
       "      <td>0.490907</td>\n",
       "      <td>1.000000</td>\n",
       "      <td>0.378589</td>\n",
       "      <td>0.093573</td>\n",
       "      <td>0.389305</td>\n",
       "      <td>0.362337</td>\n",
       "      <td>0.218559</td>\n",
       "      <td>0.302663</td>\n",
       "      <td>0.137061</td>\n",
       "      <td>0.019761</td>\n",
       "    </tr>\n",
       "    <tr>\n",
       "      <th>pm25_count</th>\n",
       "      <td>0.416887</td>\n",
       "      <td>-0.061190</td>\n",
       "      <td>0.174042</td>\n",
       "      <td>0.378589</td>\n",
       "      <td>1.000000</td>\n",
       "      <td>0.251620</td>\n",
       "      <td>0.287850</td>\n",
       "      <td>0.381133</td>\n",
       "      <td>0.140289</td>\n",
       "      <td>0.281772</td>\n",
       "      <td>0.234076</td>\n",
       "      <td>0.035051</td>\n",
       "    </tr>\n",
       "    <tr>\n",
       "      <th>pm10_count</th>\n",
       "      <td>0.170415</td>\n",
       "      <td>-0.110938</td>\n",
       "      <td>0.189599</td>\n",
       "      <td>0.093573</td>\n",
       "      <td>0.251620</td>\n",
       "      <td>1.000000</td>\n",
       "      <td>0.048986</td>\n",
       "      <td>0.199219</td>\n",
       "      <td>0.254380</td>\n",
       "      <td>0.176731</td>\n",
       "      <td>0.406199</td>\n",
       "      <td>-0.118973</td>\n",
       "    </tr>\n",
       "    <tr>\n",
       "      <th>temperature_count</th>\n",
       "      <td>0.356648</td>\n",
       "      <td>-0.092296</td>\n",
       "      <td>0.217634</td>\n",
       "      <td>0.389305</td>\n",
       "      <td>0.287850</td>\n",
       "      <td>0.048986</td>\n",
       "      <td>1.000000</td>\n",
       "      <td>0.675689</td>\n",
       "      <td>0.680486</td>\n",
       "      <td>0.564878</td>\n",
       "      <td>0.237521</td>\n",
       "      <td>0.060722</td>\n",
       "    </tr>\n",
       "    <tr>\n",
       "      <th>humidity_count</th>\n",
       "      <td>0.441377</td>\n",
       "      <td>-0.129918</td>\n",
       "      <td>0.290489</td>\n",
       "      <td>0.362337</td>\n",
       "      <td>0.381133</td>\n",
       "      <td>0.199219</td>\n",
       "      <td>0.675689</td>\n",
       "      <td>1.000000</td>\n",
       "      <td>0.412318</td>\n",
       "      <td>0.850366</td>\n",
       "      <td>0.441547</td>\n",
       "      <td>0.051335</td>\n",
       "    </tr>\n",
       "    <tr>\n",
       "      <th>wind_speed_count</th>\n",
       "      <td>0.112410</td>\n",
       "      <td>-0.087926</td>\n",
       "      <td>0.290627</td>\n",
       "      <td>0.218559</td>\n",
       "      <td>0.140289</td>\n",
       "      <td>0.254380</td>\n",
       "      <td>0.680486</td>\n",
       "      <td>0.412318</td>\n",
       "      <td>1.000000</td>\n",
       "      <td>0.443045</td>\n",
       "      <td>0.576802</td>\n",
       "      <td>-0.122710</td>\n",
       "    </tr>\n",
       "    <tr>\n",
       "      <th>pressure_count</th>\n",
       "      <td>0.345189</td>\n",
       "      <td>-0.125249</td>\n",
       "      <td>0.226205</td>\n",
       "      <td>0.302663</td>\n",
       "      <td>0.281772</td>\n",
       "      <td>0.176731</td>\n",
       "      <td>0.564878</td>\n",
       "      <td>0.850366</td>\n",
       "      <td>0.443045</td>\n",
       "      <td>1.000000</td>\n",
       "      <td>0.533535</td>\n",
       "      <td>0.063600</td>\n",
       "    </tr>\n",
       "    <tr>\n",
       "      <th>wind_gust_count</th>\n",
       "      <td>0.099798</td>\n",
       "      <td>-0.125035</td>\n",
       "      <td>0.256962</td>\n",
       "      <td>0.137061</td>\n",
       "      <td>0.234076</td>\n",
       "      <td>0.406199</td>\n",
       "      <td>0.237521</td>\n",
       "      <td>0.441547</td>\n",
       "      <td>0.576802</td>\n",
       "      <td>0.533535</td>\n",
       "      <td>1.000000</td>\n",
       "      <td>-0.181554</td>\n",
       "    </tr>\n",
       "    <tr>\n",
       "      <th>dew_count</th>\n",
       "      <td>0.131723</td>\n",
       "      <td>0.109989</td>\n",
       "      <td>-0.091814</td>\n",
       "      <td>0.019761</td>\n",
       "      <td>0.035051</td>\n",
       "      <td>-0.118973</td>\n",
       "      <td>0.060722</td>\n",
       "      <td>0.051335</td>\n",
       "      <td>-0.122710</td>\n",
       "      <td>0.063600</td>\n",
       "      <td>-0.181554</td>\n",
       "      <td>1.000000</td>\n",
       "    </tr>\n",
       "  </tbody>\n",
       "</table>\n",
       "</div>"
      ],
      "text/plain": [
       "                   no2_count  so2_count  o3_count  co_count  pm25_count  \\\n",
       "no2_count           1.000000   0.241592  0.312999  0.572573    0.416887   \n",
       "so2_count           0.241592   1.000000  0.197872  0.436737   -0.061190   \n",
       "o3_count            0.312999   0.197872  1.000000  0.490907    0.174042   \n",
       "co_count            0.572573   0.436737  0.490907  1.000000    0.378589   \n",
       "pm25_count          0.416887  -0.061190  0.174042  0.378589    1.000000   \n",
       "pm10_count          0.170415  -0.110938  0.189599  0.093573    0.251620   \n",
       "temperature_count   0.356648  -0.092296  0.217634  0.389305    0.287850   \n",
       "humidity_count      0.441377  -0.129918  0.290489  0.362337    0.381133   \n",
       "wind_speed_count    0.112410  -0.087926  0.290627  0.218559    0.140289   \n",
       "pressure_count      0.345189  -0.125249  0.226205  0.302663    0.281772   \n",
       "wind_gust_count     0.099798  -0.125035  0.256962  0.137061    0.234076   \n",
       "dew_count           0.131723   0.109989 -0.091814  0.019761    0.035051   \n",
       "\n",
       "                   pm10_count  temperature_count  humidity_count  \\\n",
       "no2_count            0.170415           0.356648        0.441377   \n",
       "so2_count           -0.110938          -0.092296       -0.129918   \n",
       "o3_count             0.189599           0.217634        0.290489   \n",
       "co_count             0.093573           0.389305        0.362337   \n",
       "pm25_count           0.251620           0.287850        0.381133   \n",
       "pm10_count           1.000000           0.048986        0.199219   \n",
       "temperature_count    0.048986           1.000000        0.675689   \n",
       "humidity_count       0.199219           0.675689        1.000000   \n",
       "wind_speed_count     0.254380           0.680486        0.412318   \n",
       "pressure_count       0.176731           0.564878        0.850366   \n",
       "wind_gust_count      0.406199           0.237521        0.441547   \n",
       "dew_count           -0.118973           0.060722        0.051335   \n",
       "\n",
       "                   wind_speed_count  pressure_count  wind_gust_count  \\\n",
       "no2_count                  0.112410        0.345189         0.099798   \n",
       "so2_count                 -0.087926       -0.125249        -0.125035   \n",
       "o3_count                   0.290627        0.226205         0.256962   \n",
       "co_count                   0.218559        0.302663         0.137061   \n",
       "pm25_count                 0.140289        0.281772         0.234076   \n",
       "pm10_count                 0.254380        0.176731         0.406199   \n",
       "temperature_count          0.680486        0.564878         0.237521   \n",
       "humidity_count             0.412318        0.850366         0.441547   \n",
       "wind_speed_count           1.000000        0.443045         0.576802   \n",
       "pressure_count             0.443045        1.000000         0.533535   \n",
       "wind_gust_count            0.576802        0.533535         1.000000   \n",
       "dew_count                 -0.122710        0.063600        -0.181554   \n",
       "\n",
       "                   dew_count  \n",
       "no2_count           0.131723  \n",
       "so2_count           0.109989  \n",
       "o3_count           -0.091814  \n",
       "co_count            0.019761  \n",
       "pm25_count          0.035051  \n",
       "pm10_count         -0.118973  \n",
       "temperature_count   0.060722  \n",
       "humidity_count      0.051335  \n",
       "wind_speed_count   -0.122710  \n",
       "pressure_count      0.063600  \n",
       "wind_gust_count    -0.181554  \n",
       "dew_count           1.000000  "
      ]
     },
     "execution_count": 32,
     "metadata": {},
     "output_type": "execute_result"
    }
   ],
   "source": [
    "data2.corr()"
   ]
  },
  {
   "cell_type": "code",
   "execution_count": 33,
   "metadata": {},
   "outputs": [
    {
     "data": {
      "text/html": [
       "<div>\n",
       "<style scoped>\n",
       "    .dataframe tbody tr th:only-of-type {\n",
       "        vertical-align: middle;\n",
       "    }\n",
       "\n",
       "    .dataframe tbody tr th {\n",
       "        vertical-align: top;\n",
       "    }\n",
       "\n",
       "    .dataframe thead th {\n",
       "        text-align: right;\n",
       "    }\n",
       "</style>\n",
       "<table border=\"1\" class=\"dataframe\">\n",
       "  <thead>\n",
       "    <tr style=\"text-align: right;\">\n",
       "      <th></th>\n",
       "      <th>average wind speed</th>\n",
       "      <th>precipitation</th>\n",
       "      <th>max temp</th>\n",
       "      <th>min temp</th>\n",
       "    </tr>\n",
       "  </thead>\n",
       "  <tbody>\n",
       "    <tr>\n",
       "      <th>average wind speed</th>\n",
       "      <td>1.000000</td>\n",
       "      <td>0.395229</td>\n",
       "      <td>-0.290949</td>\n",
       "      <td>-0.028904</td>\n",
       "    </tr>\n",
       "    <tr>\n",
       "      <th>precipitation</th>\n",
       "      <td>0.395229</td>\n",
       "      <td>1.000000</td>\n",
       "      <td>-0.302606</td>\n",
       "      <td>-0.129266</td>\n",
       "    </tr>\n",
       "    <tr>\n",
       "      <th>max temp</th>\n",
       "      <td>-0.290949</td>\n",
       "      <td>-0.302606</td>\n",
       "      <td>1.000000</td>\n",
       "      <td>0.740979</td>\n",
       "    </tr>\n",
       "    <tr>\n",
       "      <th>min temp</th>\n",
       "      <td>-0.028904</td>\n",
       "      <td>-0.129266</td>\n",
       "      <td>0.740979</td>\n",
       "      <td>1.000000</td>\n",
       "    </tr>\n",
       "  </tbody>\n",
       "</table>\n",
       "</div>"
      ],
      "text/plain": [
       "                    average wind speed  precipitation  max temp  min temp\n",
       "average wind speed            1.000000       0.395229 -0.290949 -0.028904\n",
       "precipitation                 0.395229       1.000000 -0.302606 -0.129266\n",
       "max temp                     -0.290949      -0.302606  1.000000  0.740979\n",
       "min temp                     -0.028904      -0.129266  0.740979  1.000000"
      ]
     },
     "execution_count": 33,
     "metadata": {},
     "output_type": "execute_result"
    }
   ],
   "source": [
    "dfw.corr()"
   ]
  },
  {
   "cell_type": "code",
   "execution_count": 34,
   "metadata": {},
   "outputs": [
    {
     "data": {
      "text/html": [
       "<div>\n",
       "<style scoped>\n",
       "    .dataframe tbody tr th:only-of-type {\n",
       "        vertical-align: middle;\n",
       "    }\n",
       "\n",
       "    .dataframe tbody tr th {\n",
       "        vertical-align: top;\n",
       "    }\n",
       "\n",
       "    .dataframe thead th {\n",
       "        text-align: right;\n",
       "    }\n",
       "</style>\n",
       "<table border=\"1\" class=\"dataframe\">\n",
       "  <thead>\n",
       "    <tr style=\"text-align: right;\">\n",
       "      <th></th>\n",
       "      <th>pm25</th>\n",
       "      <th>o3</th>\n",
       "      <th>no2</th>\n",
       "      <th>co</th>\n",
       "    </tr>\n",
       "  </thead>\n",
       "  <tbody>\n",
       "    <tr>\n",
       "      <th>pm25</th>\n",
       "      <td>1.000000</td>\n",
       "      <td>0.208443</td>\n",
       "      <td>0.159160</td>\n",
       "      <td>0.331157</td>\n",
       "    </tr>\n",
       "    <tr>\n",
       "      <th>o3</th>\n",
       "      <td>0.208443</td>\n",
       "      <td>1.000000</td>\n",
       "      <td>-0.264063</td>\n",
       "      <td>-0.149338</td>\n",
       "    </tr>\n",
       "    <tr>\n",
       "      <th>no2</th>\n",
       "      <td>0.159160</td>\n",
       "      <td>-0.264063</td>\n",
       "      <td>1.000000</td>\n",
       "      <td>0.702398</td>\n",
       "    </tr>\n",
       "    <tr>\n",
       "      <th>co</th>\n",
       "      <td>0.331157</td>\n",
       "      <td>-0.149338</td>\n",
       "      <td>0.702398</td>\n",
       "      <td>1.000000</td>\n",
       "    </tr>\n",
       "  </tbody>\n",
       "</table>\n",
       "</div>"
      ],
      "text/plain": [
       "          pm25        o3       no2        co\n",
       "pm25  1.000000  0.208443  0.159160  0.331157\n",
       "o3    0.208443  1.000000 -0.264063 -0.149338\n",
       "no2   0.159160 -0.264063  1.000000  0.702398\n",
       "co    0.331157 -0.149338  0.702398  1.000000"
      ]
     },
     "execution_count": 34,
     "metadata": {},
     "output_type": "execute_result"
    }
   ],
   "source": [
    "dfaqi.corr()"
   ]
  },
  {
   "cell_type": "code",
   "execution_count": 35,
   "metadata": {},
   "outputs": [
    {
     "data": {
      "text/plain": [
       "<matplotlib.axes._subplots.AxesSubplot at 0x7f15855dae80>"
      ]
     },
     "execution_count": 35,
     "metadata": {},
     "output_type": "execute_result"
    },
    {
     "data": {
      "image/png": "[encoded data removed]",
      "text/plain": [
       "<Figure size 432x288 with 2 Axes>"
      ]
     },
     "metadata": {
      "needs_background": "light"
     },
     "output_type": "display_data"
    }
   ],
   "source": [
    "correlation_heatmap_1 = sns.heatmap(data2.corr(), annot=False)\n",
    "correlation_heatmap_1"
   ]
  },
  {
   "cell_type": "code",
   "execution_count": 36,
   "metadata": {},
   "outputs": [
    {
     "data": {
      "text/plain": [
       "<matplotlib.axes._subplots.AxesSubplot at 0x7f1581536400>"
      ]
     },
     "execution_count": 36,
     "metadata": {},
     "output_type": "execute_result"
    },
    {
     "data": {
      "image/png": "[encoded data removed]",
      "text/plain": [
       "<Figure size 432x288 with 2 Axes>"
      ]
     },
     "metadata": {
      "needs_background": "light"
     },
     "output_type": "display_data"
    }
   ],
   "source": [
    "correlation_heatmap_2 = sns.heatmap(dfw.corr(), annot=False)\n",
    "correlation_heatmap_2"
   ]
  },
  {
   "cell_type": "code",
   "execution_count": 37,
   "metadata": {},
   "outputs": [
    {
     "data": {
      "text/plain": [
       "<matplotlib.axes._subplots.AxesSubplot at 0x7f158150b630>"
      ]
     },
     "execution_count": 37,
     "metadata": {},
     "output_type": "execute_result"
    },
    {
     "data": {
      "image/png": "[encoded data removed]",
      "text/plain": [
       "<Figure size 432x288 with 2 Axes>"
      ]
     },
     "metadata": {
      "needs_background": "light"
     },
     "output_type": "display_data"
    }
   ],
   "source": [
    "correlation_heatmap_3 = sns.heatmap(dfaqi.corr(), annot=False)\n",
    "correlation_heatmap_3"
   ]
  },
  {
   "cell_type": "markdown",
   "metadata": {},
   "source": [
    "#### Permutation Test for PM 2.5:"
   ]
  },
  {
   "cell_type": "code",
   "execution_count": 38,
   "metadata": {},
   "outputs": [
    {
     "data": {
      "text/html": [
       "<div>\n",
       "<style scoped>\n",
       "    .dataframe tbody tr th:only-of-type {\n",
       "        vertical-align: middle;\n",
       "    }\n",
       "\n",
       "    .dataframe tbody tr th {\n",
       "        vertical-align: top;\n",
       "    }\n",
       "\n",
       "    .dataframe thead th {\n",
       "        text-align: right;\n",
       "    }\n",
       "</style>\n",
       "<table border=\"1\" class=\"dataframe\">\n",
       "  <thead>\n",
       "    <tr style=\"text-align: right;\">\n",
       "      <th></th>\n",
       "      <th>date</th>\n",
       "      <th>pm25</th>\n",
       "      <th>o3</th>\n",
       "      <th>no2</th>\n",
       "      <th>co</th>\n",
       "      <th>lockdown</th>\n",
       "    </tr>\n",
       "  </thead>\n",
       "  <tbody>\n",
       "    <tr>\n",
       "      <th>0</th>\n",
       "      <td>2018-01-01</td>\n",
       "      <td>133</td>\n",
       "      <td>31</td>\n",
       "      <td>25</td>\n",
       "      <td>14</td>\n",
       "      <td>False</td>\n",
       "    </tr>\n",
       "    <tr>\n",
       "      <th>1</th>\n",
       "      <td>2018-01-02</td>\n",
       "      <td>148</td>\n",
       "      <td>19</td>\n",
       "      <td>39</td>\n",
       "      <td>24</td>\n",
       "      <td>False</td>\n",
       "    </tr>\n",
       "    <tr>\n",
       "      <th>2</th>\n",
       "      <td>2018-01-03</td>\n",
       "      <td>133</td>\n",
       "      <td>4</td>\n",
       "      <td>41</td>\n",
       "      <td>17</td>\n",
       "      <td>False</td>\n",
       "    </tr>\n",
       "  </tbody>\n",
       "</table>\n",
       "</div>"
      ],
      "text/plain": [
       "        date  pm25  o3  no2  co  lockdown\n",
       "0 2018-01-01   133  31   25  14     False\n",
       "1 2018-01-02   148  19   39  24     False\n",
       "2 2018-01-03   133   4   41  17     False"
      ]
     },
     "execution_count": 38,
     "metadata": {},
     "output_type": "execute_result"
    }
   ],
   "source": [
    "lockdown = pd.to_datetime(\"2020-03-19\")\n",
    "dfaqi2 = dfaqi\n",
    "dfaqi2['lockdown'] = dfaqi['date']>= lockdown\n",
    "dfaqi2 = dfaqi2.reset_index(drop=True)\n",
    "dfaqi2.head(3)"
   ]
  },
  {
   "cell_type": "code",
   "execution_count": 39,
   "metadata": {},
   "outputs": [
    {
     "data": {
      "text/plain": [
       "-16.030687367883957"
      ]
     },
     "execution_count": 39,
     "metadata": {},
     "output_type": "execute_result"
    }
   ],
   "source": [
    "pm25_and_lockdown = dfaqi2[['pm25', 'lockdown']]\n",
    "\n",
    "obs_diff = (pm25_and_lockdown.groupby('lockdown')['pm25'].mean().diff().iloc[-1])\n",
    "obs_diff"
   ]
  },
  {
   "cell_type": "code",
   "execution_count": 40,
   "metadata": {},
   "outputs": [
    {
     "data": {
      "text/plain": [
       "<matplotlib.collections.PathCollection at 0x7f15879406d8>"
      ]
     },
     "execution_count": 40,
     "metadata": {},
     "output_type": "execute_result"
    },
    {
     "data": {
      "image/png": "[encoded data removed]",
      "text/plain": [
       "<Figure size 432x288 with 1 Axes>"
      ]
     },
     "metadata": {
      "needs_background": "light"
     },
     "output_type": "display_data"
    }
   ],
   "source": [
    "n_repititions = 1000\n",
    "differences = []\n",
    "\n",
    "for _ in range(n_repititions):\n",
    "    shuffled_pm25 = (\n",
    "    pm25_and_lockdown['pm25']\n",
    "    .sample(replace=False, frac=1)\n",
    "    .reset_index(drop=True)\n",
    "    )\n",
    "    \n",
    "    original_and_shuffled = (pm25_and_lockdown.assign(**{'shuffled_pm25': shuffled_pm25}))\n",
    "    group_means = (original_and_shuffled.groupby('lockdown').mean().loc[:, 'shuffled_pm25'])\n",
    "    difference = group_means.diff().iloc[-1]\n",
    "    differences.append(difference)\n",
    "    \n",
    "pd.Series(differences).plot(kind='hist', density=True)\n",
    "plt.scatter(obs_diff, 0, color='red', s=40)"
   ]
  },
  {
   "cell_type": "code",
   "execution_count": 41,
   "metadata": {},
   "outputs": [
    {
     "data": {
      "text/plain": [
       "0.0"
      ]
     },
     "execution_count": 41,
     "metadata": {},
     "output_type": "execute_result"
    }
   ],
   "source": [
    "pval = np.count_nonzero(differences<= obs_diff) / n_repititions\n",
    "pval"
   ]
  },
  {
   "cell_type": "code",
   "execution_count": 42,
   "metadata": {},
   "outputs": [
    {
     "data": {
      "text/plain": [
       "Ks_2sampResult(statistic=0.33573875646913043, pvalue=2.6208659097631325e-05)"
      ]
     },
     "execution_count": 42,
     "metadata": {},
     "output_type": "execute_result"
    }
   ],
   "source": [
    "from scipy.stats import ks_2samp\n",
    "gp1 = pm25_and_lockdown.loc[pm25_and_lockdown.lockdown==True, 'pm25']\n",
    "gp2 = pm25_and_lockdown.loc[pm25_and_lockdown.lockdown==False, 'pm25']\n",
    "ks_2samp(gp1, gp2)"
   ]
  },
  {
   "cell_type": "markdown",
   "metadata": {},
   "source": [
    "#### Permutation Test for $O_3$:"
   ]
  },
  {
   "cell_type": "code",
   "execution_count": 43,
   "metadata": {},
   "outputs": [
    {
     "data": {
      "text/plain": [
       "1.396530359355637"
      ]
     },
     "execution_count": 43,
     "metadata": {},
     "output_type": "execute_result"
    }
   ],
   "source": [
    "o3_and_lockdown = dfaqi2[['o3', 'lockdown']]\n",
    "\n",
    "obs_diff = (o3_and_lockdown.groupby('lockdown')['o3'].mean().diff().iloc[-1])\n",
    "obs_diff"
   ]
  },
  {
   "cell_type": "code",
   "execution_count": 44,
   "metadata": {},
   "outputs": [
    {
     "data": {
      "text/plain": [
       "<matplotlib.collections.PathCollection at 0x7f1585859be0>"
      ]
     },
     "execution_count": 44,
     "metadata": {},
     "output_type": "execute_result"
    },
    {
     "data": {
      "image/png": "[encoded data removed]",
      "text/plain": [
       "<Figure size 432x288 with 1 Axes>"
      ]
     },
     "metadata": {
      "needs_background": "light"
     },
     "output_type": "display_data"
    }
   ],
   "source": [
    "n_repititions = 1000\n",
    "differences = []\n",
    "\n",
    "for _ in range(n_repititions):\n",
    "    shuffled_o3 = (\n",
    "    o3_and_lockdown['o3']\n",
    "    .sample(replace=False, frac=1)\n",
    "    .reset_index(drop=True)\n",
    "    )\n",
    "    \n",
    "    original_and_shuffled = (o3_and_lockdown.assign(**{'shuffled_o3': shuffled_o3}))\n",
    "    group_means = (original_and_shuffled.groupby('lockdown').mean().loc[:, 'shuffled_o3'])\n",
    "    difference = group_means.diff().iloc[-1]\n",
    "    differences.append(difference)\n",
    "    \n",
    "pd.Series(differences).plot(kind='hist', density=True)\n",
    "plt.scatter(obs_diff, 0, color='red', s=40)"
   ]
  },
  {
   "cell_type": "code",
   "execution_count": 45,
   "metadata": {},
   "outputs": [
    {
     "data": {
      "text/plain": [
       "0.847"
      ]
     },
     "execution_count": 45,
     "metadata": {},
     "output_type": "execute_result"
    }
   ],
   "source": [
    "pval = np.count_nonzero(differences<= obs_diff) / n_repititions\n",
    "pval"
   ]
  },
  {
   "cell_type": "code",
   "execution_count": 46,
   "metadata": {},
   "outputs": [
    {
     "data": {
      "text/plain": [
       "Ks_2sampResult(statistic=0.16786937823456516, pvalue=0.1203065012813612)"
      ]
     },
     "execution_count": 46,
     "metadata": {},
     "output_type": "execute_result"
    }
   ],
   "source": [
    "gp1 = o3_and_lockdown.loc[o3_and_lockdown.lockdown==True, 'o3']\n",
    "gp2 = o3_and_lockdown.loc[o3_and_lockdown.lockdown==False, 'o3']\n",
    "ks_2samp(gp1, gp2)"
   ]
  },
  {
   "cell_type": "markdown",
   "metadata": {},
   "source": [
    "#### Permutation Test for $NO_2$:"
   ]
  },
  {
   "cell_type": "code",
   "execution_count": 47,
   "metadata": {},
   "outputs": [
    {
     "data": {
      "text/plain": [
       "-7.253371236970624"
      ]
     },
     "execution_count": 47,
     "metadata": {},
     "output_type": "execute_result"
    }
   ],
   "source": [
    "no2_and_lockdown = dfaqi2[['no2', 'lockdown']]\n",
    "\n",
    "obs_diff = (no2_and_lockdown.groupby('lockdown')['no2'].mean().diff().iloc[-1])\n",
    "obs_diff"
   ]
  },
  {
   "cell_type": "code",
   "execution_count": 48,
   "metadata": {},
   "outputs": [
    {
     "data": {
      "text/plain": [
       "<matplotlib.collections.PathCollection at 0x7f15858c1f98>"
      ]
     },
     "execution_count": 48,
     "metadata": {},
     "output_type": "execute_result"
    },
    {
     "data": {
      "image/png": "[encoded data removed]",
      "text/plain": [
       "<Figure size 432x288 with 1 Axes>"
      ]
     },
     "metadata": {
      "needs_background": "light"
     },
     "output_type": "display_data"
    }
   ],
   "source": [
    "n_repititions = 1000\n",
    "differences = []\n",
    "\n",
    "for _ in range(n_repititions):\n",
    "    shuffled_no2 = (\n",
    "    no2_and_lockdown['no2']\n",
    "    .sample(replace=False, frac=1)\n",
    "    .reset_index(drop=True)\n",
    "    )\n",
    "    \n",
    "    original_and_shuffled = (no2_and_lockdown.assign(**{'shuffled_no2': shuffled_no2}))\n",
    "    group_means = (original_and_shuffled.groupby('lockdown').mean().loc[:, 'shuffled_no2'])\n",
    "    difference = group_means.diff().iloc[-1]\n",
    "    differences.append(difference)\n",
    "    \n",
    "pd.Series(differences).plot(kind='hist', density=True)\n",
    "plt.scatter(obs_diff, 0, color='red', s=40)"
   ]
  },
  {
   "cell_type": "code",
   "execution_count": 49,
   "metadata": {},
   "outputs": [
    {
     "data": {
      "text/plain": [
       "0.0"
      ]
     },
     "execution_count": 49,
     "metadata": {},
     "output_type": "execute_result"
    }
   ],
   "source": [
    "pval = np.count_nonzero(differences<= obs_diff) / n_repititions\n",
    "pval"
   ]
  },
  {
   "cell_type": "code",
   "execution_count": 50,
   "metadata": {},
   "outputs": [
    {
     "data": {
      "text/plain": [
       "Ks_2sampResult(statistic=0.41278518842481227, pvalue=8.324763926200237e-08)"
      ]
     },
     "execution_count": 50,
     "metadata": {},
     "output_type": "execute_result"
    }
   ],
   "source": [
    "gp1 = no2_and_lockdown.loc[no2_and_lockdown.lockdown==True, 'no2']\n",
    "gp2 = no2_and_lockdown.loc[no2_and_lockdown.lockdown==False, 'no2']\n",
    "ks_2samp(gp1, gp2)"
   ]
  },
  {
   "cell_type": "markdown",
   "metadata": {},
   "source": [
    "#### Permutation Test for $CO$:"
   ]
  },
  {
   "cell_type": "code",
   "execution_count": 51,
   "metadata": {},
   "outputs": [
    {
     "data": {
      "text/plain": [
       "-2.9493403309279103"
      ]
     },
     "execution_count": 51,
     "metadata": {},
     "output_type": "execute_result"
    }
   ],
   "source": [
    "co_and_lockdown = dfaqi2[['co', 'lockdown']]\n",
    "\n",
    "obs_diff = (co_and_lockdown.groupby('lockdown')['co'].mean().diff().iloc[-1])\n",
    "obs_diff"
   ]
  },
  {
   "cell_type": "code",
   "execution_count": 52,
   "metadata": {},
   "outputs": [
    {
     "data": {
      "text/plain": [
       "<matplotlib.collections.PathCollection at 0x7f15813aa518>"
      ]
     },
     "execution_count": 52,
     "metadata": {},
     "output_type": "execute_result"
    },
    {
     "data": {
      "image/png": "[encoded data removed]",
      "text/plain": [
       "<Figure size 432x288 with 1 Axes>"
      ]
     },
     "metadata": {
      "needs_background": "light"
     },
     "output_type": "display_data"
    }
   ],
   "source": [
    "n_repititions = 1000\n",
    "differences = []\n",
    "\n",
    "for _ in range(n_repititions):\n",
    "    shuffled_co = (\n",
    "    co_and_lockdown['co']\n",
    "    .sample(replace=False, frac=1)\n",
    "    .reset_index(drop=True)\n",
    "    )\n",
    "    \n",
    "    original_and_shuffled = (co_and_lockdown.assign(**{'shuffled_co': shuffled_co}))\n",
    "    group_means = (original_and_shuffled.groupby('lockdown').mean().loc[:, 'shuffled_co'])\n",
    "    difference = group_means.diff().iloc[-1]\n",
    "    differences.append(difference)\n",
    "    \n",
    "pd.Series(differences).plot(kind='hist', density=True)\n",
    "plt.scatter(obs_diff, 0, color='red', s=40)"
   ]
  },
  {
   "cell_type": "code",
   "execution_count": 53,
   "metadata": {},
   "outputs": [
    {
     "data": {
      "text/plain": [
       "0.0"
      ]
     },
     "execution_count": 53,
     "metadata": {},
     "output_type": "execute_result"
    }
   ],
   "source": [
    "pval = np.count_nonzero(differences<= obs_diff) / n_repititions\n",
    "pval"
   ]
  },
  {
   "cell_type": "code",
   "execution_count": 54,
   "metadata": {},
   "outputs": [
    {
     "data": {
      "text/plain": [
       "Ks_2sampResult(statistic=0.5696479335228515, pvalue=1.7582836578391386e-14)"
      ]
     },
     "execution_count": 54,
     "metadata": {},
     "output_type": "execute_result"
    }
   ],
   "source": [
    "gp1 = co_and_lockdown.loc[co_and_lockdown.lockdown==True, 'co']\n",
    "gp2 = co_and_lockdown.loc[co_and_lockdown.lockdown==False, 'co']\n",
    "ks_2samp(gp1, gp2)"
   ]
  },
  {
   "cell_type": "markdown",
   "metadata": {},
   "source": [
    "## no2 Levels: February 2018 v.s. 2020 (pre-quarantine)"
   ]
  },
  {
   "cell_type": "code",
   "execution_count": 55,
   "metadata": {},
   "outputs": [],
   "source": [
    "# forming DFs for no2 monthly compare\n",
    "df18Feb = dfaqi2018[dfaqi2018['date'].dt.month == 2].sort_values(by='date').reset_index(drop=True)\n",
    "df18Feb = df18Feb[['no2']]\n",
    "df20Feb = dfaqi2020[dfaqi2020['date'].dt.month == 2].sort_values(by='date').reset_index(drop=True)\n",
    "df20Feb = df20Feb[['no2']]\n",
    "#display(df18Feb)\n",
    "#display(df20Feb)\n",
    "#set lables\n",
    "#ax = plt.gca()\n",
    "#ax.set_xlabel(\"days in February\")\n",
    "#ax.set_ylabel(\"no2 AQI levels\")\n",
    "#no2comp18VS20 = pd.DataFrame({'lab':['A', 'B', 'C'], 'val':[10, 30, 20]})\n",
    "#print(\"2018 no2 levels\")\n",
    "#no2_18Feb = df18Feb.reset_index()\n",
    "#no2_18Feb = df18Feb.reset_index().plot.bar(x='index', y='no2',ylim=(0, 50),ax=ax)\n",
    "\n"
   ]
  },
  {
   "cell_type": "code",
   "execution_count": 56,
   "metadata": {},
   "outputs": [
    {
     "data": {
      "image/png": "[encoded data removed]",
      "text/plain": [
       "<Figure size 432x288 with 1 Axes>"
      ]
     },
     "metadata": {
      "needs_background": "light"
     },
     "output_type": "display_data"
    }
   ],
   "source": [
    "#ax = no2_18Feb.plot() \n",
    "#no2_20Feb.plot(ax=ax)\n",
    "#newdf5.plot(ax=ax)\n",
    "# new data frame\n",
    "no2_20_18_Feb = df18Feb\n",
    "no2_20_18_Feb['no2_2020'] = df20Feb\n",
    "ax2 = plt.gca()\n",
    "ax2.set_xlabel(\"days in February\")\n",
    "ax2.set_ylabel(\"no2 AQI levels\")\n",
    "#display(no2_20_18_Feb)\n",
    "ax = no2_20_18_Feb.plot.bar(rot=0, ax = ax2)"
   ]
  },
  {
   "cell_type": "code",
   "execution_count": 57,
   "metadata": {},
   "outputs": [],
   "source": [
    "#ax1 = plt.gca()\n",
    "#ax1.set_xlabel(\"days in February\")\n",
    "#ax1.set_ylabel(\"no2 AQI levels\")\n",
    "#print(\"2020 no2 levels\")\n",
    "#no2_20Feb = df20Feb.reset_index().plot.bar(x='index', y='no2',ylim=(0, 50),ax=ax1)"
   ]
  },
  {
   "cell_type": "code",
   "execution_count": null,
   "metadata": {},
   "outputs": [],
   "source": []
  },
  {
   "cell_type": "markdown",
   "metadata": {},
   "source": [
    "## no2 Levels: March 2018 v.s. 2020 (start Q at 19th)"
   ]
  },
  {
   "cell_type": "code",
   "execution_count": 58,
   "metadata": {},
   "outputs": [],
   "source": [
    "# forming DFs for no2 mar compare\n",
    "df18Mar = dfaqi2018[dfaqi2018['date'].dt.month == 3].sort_values(by='date').reset_index(drop=True)\n",
    "df18Mar = df18Mar[['no2']]\n",
    "df20Mar = dfaqi2020[dfaqi2020['date'].dt.month == 3].sort_values(by='date').reset_index(drop=True)\n",
    "df20Mar = df20Mar[['no2']]\n",
    "#display(df18Mar)\n",
    "#display(df20Mar)\n"
   ]
  },
  {
   "cell_type": "code",
   "execution_count": 59,
   "metadata": {},
   "outputs": [
    {
     "data": {
      "image/png": "[encoded data removed]",
      "text/plain": [
       "<Figure size 432x288 with 1 Axes>"
      ]
     },
     "metadata": {
      "needs_background": "light"
     },
     "output_type": "display_data"
    }
   ],
   "source": [
    "ax6 = plt.gca()\n",
    "ax6.set_xlabel(\"days in March\")\n",
    "ax6.set_ylabel(\"no2 AQI levels\")\n",
    "#combine plots\n",
    "no2_20_18_Mar = df18Mar\n",
    "no2_20_18_Mar['no2_2020'] = df20Mar\n",
    "#display(no2_20_18_Mar)\n",
    "ax = no2_20_18_Mar.plot.bar(rot=0,ax=ax6)"
   ]
  },
  {
   "cell_type": "code",
   "execution_count": 60,
   "metadata": {},
   "outputs": [],
   "source": [
    "#ax3 = plt.gca()\n",
    "#ax3.set_xlabel(\"days in March\")\n",
    "#ax3.set_ylabel(\"no2 AQI levels\")\n",
    "#no2comp18VS20 = pd.DataFrame({'lab':['A', 'B', 'C'], 'val':[10, 30, 20]})\n",
    "#print(\"TOP : 2018 no2 levels\")\n",
    "#no2_18Mar = df18Mar.reset_index().plot.bar(x='index', y='no2',ylim=(0, 50),ax=ax3)\n",
    "\n"
   ]
  },
  {
   "cell_type": "code",
   "execution_count": 61,
   "metadata": {},
   "outputs": [],
   "source": [
    "#ax4 = plt.gca()\n",
    "#ax4.set_xlabel(\"days in March\")\n",
    "#ax4.set_ylabel(\"no2 AQI levels\")\n",
    "#print(\"2020 no2 levels\")\n",
    "#no2_20Feb = df20Feb.reset_index().plot.bar(x='index', y='no2',ylim=(0, 50),ax=ax4)\n"
   ]
  },
  {
   "cell_type": "code",
   "execution_count": 62,
   "metadata": {},
   "outputs": [],
   "source": [
    "#ax5 = plt.gca()\n",
    "#ax5.set_xlabel(\"days in March\")\n",
    "#ax5.set_ylabel(\"no2 AQI levels\")\n",
    "#print(\"BOT : 2020 no2 levels\")\n",
    "#no2_20Mar = df20Mar.reset_index().plot.bar(x='index', y='no2',ylim=(0, 50),ax=ax5)"
   ]
  },
  {
   "cell_type": "code",
   "execution_count": null,
   "metadata": {},
   "outputs": [],
   "source": []
  },
  {
   "cell_type": "code",
   "execution_count": null,
   "metadata": {},
   "outputs": [],
   "source": []
  },
  {
   "cell_type": "code",
   "execution_count": null,
   "metadata": {},
   "outputs": [],
   "source": []
  },
  {
   "cell_type": "markdown",
   "metadata": {},
   "source": [
    "## ## no2 Levels: Apirl 2018 v.s. 2020"
   ]
  },
  {
   "cell_type": "code",
   "execution_count": 63,
   "metadata": {},
   "outputs": [],
   "source": [
    "# forming DFs for no2 monthly compare\n",
    "df18Apr = dfaqi2018[dfaqi2018['date'].dt.month == 4].sort_values(by='date').reset_index(drop=True)\n",
    "df18Apr = df18Apr[['no2']]\n",
    "df20Apr = dfaqi2020[dfaqi2020['date'].dt.month == 4].sort_values(by='date').reset_index(drop=True)\n",
    "df20Apr = df20Apr[['no2']]\n",
    "#display(df18Apr)\n",
    "#display(df20Apr)\n",
    "########### solo bars ###################\n",
    "#no2comp18VS20 = pd.DataFrame({'lab':['A', 'B', 'C'], 'val':[10, 30, 20]})\n",
    "#print(\"2018 no2 levels\")\n",
    "#no2_18Apr = df18Apr.reset_index().plot.bar(x='index', y='no2',ylim=(0, 50))\n",
    "#print(\"2020 no2 levels\")\n",
    "#no2_20Apr = df20Apr.reset_index().plot.bar(x='index', y='no2',ylim=(0, 50))"
   ]
  },
  {
   "cell_type": "code",
   "execution_count": 64,
   "metadata": {},
   "outputs": [
    {
     "data": {
      "image/png": "[encoded data removed]",
      "text/plain": [
       "<Figure size 432x288 with 1 Axes>"
      ]
     },
     "metadata": {
      "needs_background": "light"
     },
     "output_type": "display_data"
    }
   ],
   "source": [
    "ax7 = plt.gca()\n",
    "ax7.set_xlabel(\"days in Apirl\")\n",
    "ax7.set_ylabel(\"no2 AQI levels\")\n",
    "#combine plots\n",
    "no2_20_18_Apr = df18Apr\n",
    "no2_20_18_Apr['no2_2020'] = df20Apr\n",
    "#display(no2_20_18_Mar)\n",
    "ax = no2_20_18_Apr.plot.bar(rot=0, ax=ax7)"
   ]
  },
  {
   "cell_type": "code",
   "execution_count": null,
   "metadata": {},
   "outputs": [],
   "source": []
  },
  {
   "cell_type": "code",
   "execution_count": null,
   "metadata": {},
   "outputs": [],
   "source": []
  },
  {
   "cell_type": "markdown",
   "metadata": {},
   "source": [
    "## start of weather analyses"
   ]
  },
  {
   "cell_type": "code",
   "execution_count": 67,
   "metadata": {},
   "outputs": [],
   "source": [
    "dfw2018['no2'] = dfaqi2018['no2']\n",
    "dfw2019['no2'] = dfaqi2019['no2']\n",
    "dfw2020['no2'] = dfaqi2020['no2']\n",
    "#display(dfw2018)\n",
    "\n"
   ]
  },
  {
   "cell_type": "code",
   "execution_count": 68,
   "metadata": {},
   "outputs": [
    {
     "data": {
      "text/plain": [
       "<matplotlib.axes._subplots.AxesSubplot at 0x7f1580ec5668>"
      ]
     },
     "execution_count": 68,
     "metadata": {},
     "output_type": "execute_result"
    },
    {
     "data": {
      "image/png": "[encoded data removed]",
      "text/plain": [
       "<Figure size 432x288 with 1 Axes>"
      ]
     },
     "metadata": {
      "needs_background": "light"
     },
     "output_type": "display_data"
    }
   ],
   "source": [
    "#graph 1\n",
    "#wlp_no2 = dfw2018.plot.line(subplots=True)\n",
    "# graph 2\n",
    "ax = plt.gca()\n",
    "ax.set_xlabel(\"days in 2018\")\n",
    "ax.set_ylabel(\"normalized\")\n",
    "# no2 2018\n",
    "dfw2018.plot(kind='line',y='max temp', color='orange',ax=ax)\n",
    "dfw2018.plot(kind='line',y='no2', color='green', ax=ax)\n",
    "dfw2018.plot(kind='line',y='precipitation', color='blue', ax=ax)"
   ]
  },
  {
   "cell_type": "code",
   "execution_count": 69,
   "metadata": {},
   "outputs": [
    {
     "data": {
      "text/plain": [
       "<matplotlib.axes._subplots.AxesSubplot at 0x7f1580eefb38>"
      ]
     },
     "execution_count": 69,
     "metadata": {},
     "output_type": "execute_result"
    },
    {
     "data": {
      "image/png": "[encoded data removed]",
      "text/plain": [
       "<Figure size 432x288 with 1 Axes>"
      ]
     },
     "metadata": {
      "needs_background": "light"
     },
     "output_type": "display_data"
    }
   ],
   "source": [
    "ax = plt.gca()\n",
    "ax.set_xlabel(\"days in 2018\")\n",
    "ax.set_ylabel(\"normalized\")\n",
    "# no2 2020\n",
    "dfw2020.plot(kind='line',y='max temp', color='orange',ax=ax)\n",
    "dfw2020.plot(kind='line',y='no2', color='green', ax=ax)\n",
    "dfw2020.plot(kind='line',y='precipitation', color='blue', ax=ax)"
   ]
  },
  {
   "cell_type": "code",
   "execution_count": 70,
   "metadata": {},
   "outputs": [],
   "source": [
    "dfw2018_o3 = dfw2018\n",
    "dfw2019_o3 = dfw2019\n",
    "dfw2020_o3 = dfw2020\n",
    "dfw2018_o3['o3'] = dfaqi2018['o3']\n",
    "dfw2019_o3['o3'] = dfaqi2019['o3']\n",
    "dfw2020_o3['o3'] = dfaqi2020['o3']\n",
    "#display(dfw2018)"
   ]
  },
  {
   "cell_type": "code",
   "execution_count": 71,
   "metadata": {},
   "outputs": [
    {
     "data": {
      "text/plain": [
       "<matplotlib.axes._subplots.AxesSubplot at 0x7f1580df32e8>"
      ]
     },
     "execution_count": 71,
     "metadata": {},
     "output_type": "execute_result"
    },
    {
     "data": {
      "image/png": "[encoded data removed]",
      "text/plain": [
       "<Figure size 432x288 with 1 Axes>"
      ]
     },
     "metadata": {
      "needs_background": "light"
     },
     "output_type": "display_data"
    }
   ],
   "source": [
    "#graph 1\n",
    "#wlp_no2 = dfw2018.plot.line(subplots=True)\n",
    "# graph 2\n",
    "ax = plt.gca()\n",
    "ax.set_xlabel(\"days in 2018\")\n",
    "ax.set_ylabel(\"normalized\")\n",
    "# no2 2018\n",
    "dfw2018_o3.plot(kind='line',y='max temp', color='orange',ax=ax)\n",
    "dfw2018_o3.plot(kind='line',y='o3', color='green', ax=ax)\n",
    "dfw2018_o3.plot(kind='line',y='precipitation', color='blue', ax=ax)"
   ]
  },
  {
   "cell_type": "code",
   "execution_count": 72,
   "metadata": {},
   "outputs": [
    {
     "data": {
      "text/plain": [
       "<matplotlib.axes._subplots.AxesSubplot at 0x7f1580d9a0f0>"
      ]
     },
     "execution_count": 72,
     "metadata": {},
     "output_type": "execute_result"
    },
    {
     "data": {
      "image/png": "[encoded data removed]",
      "text/plain": [
       "<Figure size 432x288 with 1 Axes>"
      ]
     },
     "metadata": {
      "needs_background": "light"
     },
     "output_type": "display_data"
    }
   ],
   "source": [
    "# graph 2\n",
    "ax = plt.gca()\n",
    "ax.set_xlabel(\"days in 2018\")\n",
    "ax.set_ylabel(\"normalized\")\n",
    "# no2 2018\n",
    "dfw2020_o3.plot(kind='line',y='max temp', color='orange',ax=ax)\n",
    "dfw2020_o3.plot(kind='line',y='o3', color='green', ax=ax)\n",
    "dfw2020_o3.plot(kind='line',y='precipitation', color='blue', ax=ax)"
   ]
  },
  {
   "cell_type": "code",
   "execution_count": null,
   "metadata": {},
   "outputs": [],
   "source": []
  },
  {
   "cell_type": "code",
   "execution_count": null,
   "metadata": {},
   "outputs": [],
   "source": []
  },
  {
   "cell_type": "code",
   "execution_count": null,
   "metadata": {},
   "outputs": [],
   "source": []
  },
  {
   "cell_type": "code",
   "execution_count": null,
   "metadata": {},
   "outputs": [],
   "source": []
  },
  {
   "cell_type": "code",
   "execution_count": 73,
   "metadata": {},
   "outputs": [],
   "source": [
    "#https://www.environment.gov.au/protection/publications/factsheet-nitrogen-dioxide-no2\n",
    "#https://www.environment.nsw.gov.au/topics/air/understanding-air-quality-data/units-and-conversion-factors"
   ]
  },
  {
   "cell_type": "markdown",
   "metadata": {},
   "source": [
    "# Ethics & Privacy"
   ]
  },
  {
   "cell_type": "markdown",
   "metadata": {},
   "source": [
    "*Fill in your ethics & privacy discussion here*"
   ]
  },
  {
   "cell_type": "markdown",
   "metadata": {},
   "source": [
    "# Conclusion & Discussion"
   ]
  },
  {
   "cell_type": "markdown",
   "metadata": {},
   "source": [
    "*Fill in your discussion information here*"
   ]
  },
  {
   "cell_type": "markdown",
   "metadata": {},
   "source": [
    "# Team Contributions"
   ]
  },
  {
   "cell_type": "markdown",
   "metadata": {},
   "source": [
    "*Specify who in your group worked on which parts of the project.*"
   ]
  }
 ],
 "metadata": {
  "kernelspec": {
   "display_name": "Python 3",
   "language": "python",
   "name": "python3"
  },
  "language_info": {
   "codemirror_mode": {
    "name": "ipython",
    "version": 3
   },
   "file_extension": ".py",
   "mimetype": "text/x-python",
   "name": "python",
   "nbconvert_exporter": "python",
   "pygments_lexer": "ipython3",
   "version": "3.6.7"
  }
 },
 "nbformat": 4,
 "nbformat_minor": 2
}

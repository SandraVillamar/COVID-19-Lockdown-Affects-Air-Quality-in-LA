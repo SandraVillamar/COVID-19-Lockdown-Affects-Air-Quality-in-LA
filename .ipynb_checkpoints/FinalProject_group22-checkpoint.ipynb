{
 "cells": [
  {
   "cell_type": "markdown",
   "metadata": {},
   "source": [
    "# The Effects of COVID-19 Lockdown on Air Pollution in LA County "
   ]
  },
  {
   "cell_type": "markdown",
   "metadata": {},
   "source": [
    "## Permissions"
   ]
  },
  {
   "cell_type": "markdown",
   "metadata": {},
   "source": [
    "Place an `X` in the appropriate bracket below to specify if you would like your group's project to be made available to the public. (Note that PIDs will be scraped from the public submission, but student names will be included.)\n",
    "\n",
    "* [ X ] YES - make available\n",
    "* [  ] NO - keep private"
   ]
  },
  {
   "cell_type": "markdown",
   "metadata": {},
   "source": [
    "# Overview"
   ]
  },
  {
   "cell_type": "markdown",
   "metadata": {},
   "source": [
    "For our project we decided to look at two important problems in the world right now: the COVID-19 pandemic and air pollution. We specifically focused on LA County, to figure out whether the COVID-19 lockdown regulations had contributed to an improvement in air quality. We started by visualizing and comparing the AQI levels of the pollutants pm2.5, O3, NO2, and CO, from the years 2018, 2019, and 2020. We found that all four pollutants had a significant drop in 2020. We also analyzed weather trends in order to see if there was a major fluctuation which could have contributed to the significant drop in pollution in 2020. All in all, after considering possible confounding variables and performing multiple analyses to compare the pollution level between different years, we came to the conclusion that the regulations imposed by the COVID-19 lockdown is most likely the reason for the improvement in air quality in LA County."
   ]
  },
  {
   "cell_type": "markdown",
   "metadata": {},
   "source": [
    "# Names\n",
    "\n",
    "- Aaron Chen\n",
    "- Cathleen Pena\n",
    "- Ian Rebmann\n",
    "- Sandra Villamar"
   ]
  },
  {
   "cell_type": "markdown",
   "metadata": {},
   "source": [
    "# Group Members IDs\n",
    "\n",
    "- A15490376\n",
    "- A15112037\n",
    "- A16102000\n",
    "- A14356262"
   ]
  },
  {
   "cell_type": "markdown",
   "metadata": {},
   "source": [
    "# Research Question\n",
    "\n",
    "Has the air quality—in particular, the level of CO, NO2, O3, or pm2.5—changed in Los Angeles County since the COVID-19 lockdown regulations were in place? How did it change? Can we conclude that the COVID-19 lockdown is a reasonable guess for this change? Or are there other factors such as weather that may have contributed to a change in the air pollution?"
   ]
  },
  {
   "cell_type": "markdown",
   "metadata": {},
   "source": [
    "# Background and Prior Work\n",
    "\n",
    "Our group decided to choose a question related to COVID-19 because we felt that this pandemic is by far the most prevalent factor that has significantly changed our daily lives in the past weeks. In addition, we wanted to incorporate our other interest with environment-related topics. Therefore, we discussed in what ways the COVID-19 lockdown has affected our normal activities and noticed that the lockdown could have an impact on the level of air pollution. We wanted to see if there is a change in air pollution and if so, how significant this change is. We specifically chose Los Angeles County because we wanted to choose an area in California that is known to have poor air quality as well as an area with a big population, since our findings could then be relevant to a greater audience.  \n",
    "\n",
    "This question is important to ask because improving air quality has proven to be a prominent topic that has consistently shown up in nationwide as well as worldwide discussions. In the United States alone, “the cost of poor air quality to the U.S. from air pollution related illness has been estimated at $150 billion per year [1].” This is because poor air quality leads to several respiratory and cardiovascular health problems, affecting individuals as well as entire communities. Moreover, sensitive ecosystems can and have been damaged as well. That being said, if the lockdown has indeed contributed to an improvement in air quality, then LA County (as well as other counties) could continue to restrict certain activities that are possible in a remote setting. On the other hand, if the lockdown has not contributed to a significant change in air pollution, then we will know to focus on other possible sources in search for finding a solution for better air quality. \n",
    "\n",
    "While searching for our topic, we came across a data science project that studied the change in air pollution in Lombardy, Italy, comparing current COVID-19 lockdown dates to previous years [2]. The data scientists explored air quality data from NO2, Benzene, SO2, pm2.5, and pm10, across the years 2018, 2019, and 2020. They discovered a significant drop in some pollutants and no change in others. They also looked at other natural factors that are known to affect air quality such as wind, temperature, and precipitation, to see how they changed in relation to the decrease of some pollutant levels. They considered these weather factors because sunshine and heat cause pollutants to undergo chemical reactions faster, contributing to the development of smog. On the other hand, rain and wind help wash away pollutants or spread them out from a particular area, which typically results in improved air quality [3]. Nonetheless, after this analysis, they concluded that the intensity of human activity is the only factor that significantly changed throughout the years and is hence a reasonable guess to why the air quality improved in Lombardy, Italy.  \n",
    "\n",
    "Another study posted to the *World Economic Forum* found that some of the world's most polluted cities have seen a large improvement in air quality [4]. In order to show this, the scientists plotted levels of various pollutants in India, China, and South Korea. They also displayed satellite images of these locations taken before and during the COVID-19 lockdown. Both of these visualizations demonstrated how drastic the change in air quality was in these regions, after just a few weeks of lockdown regulations.\n",
    "\n",
    "**References:**\n",
    "- [1] https://www.weather.gov/sti/stimodeling_airquality_background\n",
    "- [2] https://towardsdatascience.com/is-covid-19-lockdown-cleaning-the-skies-over-milan-42dbba1ec812\n",
    "- [3] https://www.weather.gov/wrn/summer-article-clearing-the-air\n",
    "- [4] https://www.weforum.org/agenda/2020/04/coronavirus-covid19-air-pollution-enviroment-nature-lockdown"
   ]
  },
  {
   "cell_type": "markdown",
   "metadata": {},
   "source": [
    "# Hypothesis\n",
    "\n",
    "We hypothesize that all four pollutants have significantly reduced in level in Los Angeles County due to the COVID-19 lockdown. We believe this because activities such as transportation and manufacturing have notably decreased due to the restrictions of the lockdown. These are all known sources that contribute to air pollution."
   ]
  },
  {
   "cell_type": "markdown",
   "metadata": {},
   "source": [
    "# Datasets"
   ]
  },
  {
   "cell_type": "markdown",
   "metadata": {},
   "source": [
    "#### Dataset #1\n",
    "- Dataset Name: Los Angeles Downtown Weather \n",
    "- [Link to Weather Dataset!](https://www.ncdc.noaa.gov/cdo-web/confirmation)\n",
    "- Number of observations: 855\n",
    "- Description: This dataset contains information on the weather in downtown Los Angeles. It contains the station ID and name, the date the data was collected, and the average windspeed, precipitation, and maximum and minimum temperature for that day. Station and Name are nominal data, date is ordinal data, and the rest of the data are numerical. We will be using this dataset to see if there were any significant weather changes that could correlate to a possible change in pollutant levels during the COVID-19 lockdown.\n",
    "\n",
    "#### Dataset #2\n",
    "- Dataset Name: Los Angeles North Main Street Air Quality \n",
    "- [Link to Air Quaility Dataset!](https://aqicn.org/city/los-angeles/)\n",
    "- Number of observations: 2311\n",
    "- Description: This dataset contains information on the pollutant levels for each day in downtown Los Angeles. It contains the date the data was collected as well as the AQI (air quality index) level for the pollutants pm2.5, pm10, O3, NO2, SO2, and CO. Date is ordinal data and the pollutant levels are numerical data. We will use this dataset to find out if there is a relationship between air pollution and lockdown regulations.\n",
    "\n",
    "#### Other:\n",
    "For point of reference, we got the lockdown dates and other information [HERE!](https://www.gov.ca.gov/california-takes-action-to-combat-covid-19/)"
   ]
  },
  {
   "cell_type": "markdown",
   "metadata": {},
   "source": [
    "# Setup"
   ]
  },
  {
   "cell_type": "code",
   "execution_count": 7,
   "metadata": {},
   "outputs": [],
   "source": [
    "import math\n",
    "import matplotlib.pyplot as plt\n",
    "import matplotlib.dates as mdates\n",
    "import matplotlib.lines as mlines\n",
    "import numpy as np\n",
    "import pandas as pd\n",
    "import scipy as sp\n",
    "from scipy import interpolate\n",
    "import seaborn as sns\n",
    "import statsmodels.api as sm\n",
    "from statsmodels.formula.api import ols\n",
    "from statsmodels.stats.multicomp import pairwise_tukeyhsd"
   ]
  },
  {
   "cell_type": "markdown",
   "metadata": {},
   "source": [
    "# Data Cleaning"
   ]
  },
  {
   "cell_type": "markdown",
   "metadata": {},
   "source": [
    "### Load  and Clean Datasets:"
   ]
  },
  {
   "cell_type": "code",
   "execution_count": 8,
   "metadata": {},
   "outputs": [
    {
     "data": {
      "text/html": [
       "<div>\n",
       "<style scoped>\n",
       "    .dataframe tbody tr th:only-of-type {\n",
       "        vertical-align: middle;\n",
       "    }\n",
       "\n",
       "    .dataframe tbody tr th {\n",
       "        vertical-align: top;\n",
       "    }\n",
       "\n",
       "    .dataframe thead th {\n",
       "        text-align: right;\n",
       "    }\n",
       "</style>\n",
       "<table border=\"1\" class=\"dataframe\">\n",
       "  <thead>\n",
       "    <tr style=\"text-align: right;\">\n",
       "      <th></th>\n",
       "      <th>STATION</th>\n",
       "      <th>NAME</th>\n",
       "      <th>DATE</th>\n",
       "      <th>AWND</th>\n",
       "      <th>PRCP</th>\n",
       "      <th>TMAX</th>\n",
       "      <th>TMIN</th>\n",
       "    </tr>\n",
       "  </thead>\n",
       "  <tbody>\n",
       "    <tr>\n",
       "      <th>0</th>\n",
       "      <td>USW00093134</td>\n",
       "      <td>LOS ANGELES DOWNTOWN USC, CA US</td>\n",
       "      <td>1/1/2018</td>\n",
       "      <td>0.22</td>\n",
       "      <td>0.0</td>\n",
       "      <td>71</td>\n",
       "      <td>47</td>\n",
       "    </tr>\n",
       "    <tr>\n",
       "      <th>1</th>\n",
       "      <td>USW00093134</td>\n",
       "      <td>LOS ANGELES DOWNTOWN USC, CA US</td>\n",
       "      <td>1/2/2018</td>\n",
       "      <td>0.67</td>\n",
       "      <td>0.0</td>\n",
       "      <td>78</td>\n",
       "      <td>52</td>\n",
       "    </tr>\n",
       "    <tr>\n",
       "      <th>2</th>\n",
       "      <td>USW00093134</td>\n",
       "      <td>LOS ANGELES DOWNTOWN USC, CA US</td>\n",
       "      <td>1/3/2018</td>\n",
       "      <td>0.22</td>\n",
       "      <td>0.0</td>\n",
       "      <td>74</td>\n",
       "      <td>53</td>\n",
       "    </tr>\n",
       "  </tbody>\n",
       "</table>\n",
       "</div>"
      ],
      "text/plain": [
       "       STATION                             NAME      DATE  AWND  PRCP  TMAX  \\\n",
       "0  USW00093134  LOS ANGELES DOWNTOWN USC, CA US  1/1/2018  0.22   0.0    71   \n",
       "1  USW00093134  LOS ANGELES DOWNTOWN USC, CA US  1/2/2018  0.67   0.0    78   \n",
       "2  USW00093134  LOS ANGELES DOWNTOWN USC, CA US  1/3/2018  0.22   0.0    74   \n",
       "\n",
       "   TMIN  \n",
       "0    47  \n",
       "1    52  \n",
       "2    53  "
      ]
     },
     "metadata": {},
     "output_type": "display_data"
    },
    {
     "data": {
      "text/html": [
       "<div>\n",
       "<style scoped>\n",
       "    .dataframe tbody tr th:only-of-type {\n",
       "        vertical-align: middle;\n",
       "    }\n",
       "\n",
       "    .dataframe tbody tr th {\n",
       "        vertical-align: top;\n",
       "    }\n",
       "\n",
       "    .dataframe thead th {\n",
       "        text-align: right;\n",
       "    }\n",
       "</style>\n",
       "<table border=\"1\" class=\"dataframe\">\n",
       "  <thead>\n",
       "    <tr style=\"text-align: right;\">\n",
       "      <th></th>\n",
       "      <th>date</th>\n",
       "      <th>pm25</th>\n",
       "      <th>pm10</th>\n",
       "      <th>o3</th>\n",
       "      <th>no2</th>\n",
       "      <th>so2</th>\n",
       "      <th>co</th>\n",
       "    </tr>\n",
       "  </thead>\n",
       "  <tbody>\n",
       "    <tr>\n",
       "      <th>0</th>\n",
       "      <td>5/2/2020</td>\n",
       "      <td>55</td>\n",
       "      <td>29</td>\n",
       "      <td>34</td>\n",
       "      <td>9</td>\n",
       "      <td></td>\n",
       "      <td>2</td>\n",
       "    </tr>\n",
       "    <tr>\n",
       "      <th>1</th>\n",
       "      <td>5/3/2020</td>\n",
       "      <td>48</td>\n",
       "      <td>22</td>\n",
       "      <td>27</td>\n",
       "      <td>6</td>\n",
       "      <td>1</td>\n",
       "      <td>2</td>\n",
       "    </tr>\n",
       "    <tr>\n",
       "      <th>2</th>\n",
       "      <td>5/4/2020</td>\n",
       "      <td>37</td>\n",
       "      <td>34</td>\n",
       "      <td>39</td>\n",
       "      <td>12</td>\n",
       "      <td>1</td>\n",
       "      <td>3</td>\n",
       "    </tr>\n",
       "  </tbody>\n",
       "</table>\n",
       "</div>"
      ],
      "text/plain": [
       "       date  pm25  pm10  o3  no2  so2  co\n",
       "0  5/2/2020    55    29  34    9        2\n",
       "1  5/3/2020    48    22  27    6    1   2\n",
       "2  5/4/2020    37    34  39   12    1   3"
      ]
     },
     "metadata": {},
     "output_type": "display_data"
    }
   ],
   "source": [
    "dfw = pd.read_csv(\"Los_Angeles_Downtown_Weather.csv\")\n",
    "dfaqi = pd.read_csv(\"Los_Angeles_North_Main_Street_Air_Quality.csv\")\n",
    "display(dfw.head(3))\n",
    "display(dfaqi.head(3))"
   ]
  },
  {
   "cell_type": "markdown",
   "metadata": {},
   "source": [
    "#### Rename and Drop Unnecessary Columns:"
   ]
  },
  {
   "cell_type": "code",
   "execution_count": 9,
   "metadata": {},
   "outputs": [],
   "source": [
    "dfw = dfw.drop(columns=['NAME','STATION'])\n",
    "dfw.columns = ['date', 'average wind speed', 'precipitation', 'max temp', 'min temp']\n",
    "dfaqi.columns = ['date', 'pm25', 'pm10', 'o3', 'no2', 'so2', 'co']\n",
    "dfaqi = dfaqi.drop(columns=['pm10', 'so2'])"
   ]
  },
  {
   "cell_type": "markdown",
   "metadata": {},
   "source": [
    "#### Filter Data from 2018 until 2020:"
   ]
  },
  {
   "cell_type": "code",
   "execution_count": 10,
   "metadata": {},
   "outputs": [
    {
     "data": {
      "text/html": [
       "<div>\n",
       "<style scoped>\n",
       "    .dataframe tbody tr th:only-of-type {\n",
       "        vertical-align: middle;\n",
       "    }\n",
       "\n",
       "    .dataframe tbody tr th {\n",
       "        vertical-align: top;\n",
       "    }\n",
       "\n",
       "    .dataframe thead th {\n",
       "        text-align: right;\n",
       "    }\n",
       "</style>\n",
       "<table border=\"1\" class=\"dataframe\">\n",
       "  <thead>\n",
       "    <tr style=\"text-align: right;\">\n",
       "      <th></th>\n",
       "      <th>date</th>\n",
       "      <th>pm25</th>\n",
       "      <th>o3</th>\n",
       "      <th>no2</th>\n",
       "      <th>co</th>\n",
       "    </tr>\n",
       "  </thead>\n",
       "  <tbody>\n",
       "    <tr>\n",
       "      <th>2305</th>\n",
       "      <td>2020-05-04</td>\n",
       "      <td>37</td>\n",
       "      <td>39</td>\n",
       "      <td>12</td>\n",
       "      <td>3</td>\n",
       "    </tr>\n",
       "    <tr>\n",
       "      <th>2306</th>\n",
       "      <td>2020-05-05</td>\n",
       "      <td>56</td>\n",
       "      <td>47</td>\n",
       "      <td>17</td>\n",
       "      <td>4</td>\n",
       "    </tr>\n",
       "    <tr>\n",
       "      <th>2307</th>\n",
       "      <td>2020-05-06</td>\n",
       "      <td>57</td>\n",
       "      <td>52</td>\n",
       "      <td>21</td>\n",
       "      <td>4</td>\n",
       "    </tr>\n",
       "    <tr>\n",
       "      <th>2308</th>\n",
       "      <td>2020-05-07</td>\n",
       "      <td>55</td>\n",
       "      <td>64</td>\n",
       "      <td>20</td>\n",
       "      <td>4</td>\n",
       "    </tr>\n",
       "    <tr>\n",
       "      <th>2309</th>\n",
       "      <td>2020-05-08</td>\n",
       "      <td>59</td>\n",
       "      <td>25</td>\n",
       "      <td>25</td>\n",
       "      <td>6</td>\n",
       "    </tr>\n",
       "  </tbody>\n",
       "</table>\n",
       "</div>"
      ],
      "text/plain": [
       "           date pm25  o3 no2 co\n",
       "2305 2020-05-04   37  39  12  3\n",
       "2306 2020-05-05   56  47  17  4\n",
       "2307 2020-05-06   57  52  21  4\n",
       "2308 2020-05-07   55  64  20  4\n",
       "2309 2020-05-08   59  25  25  6"
      ]
     },
     "execution_count": 10,
     "metadata": {},
     "output_type": "execute_result"
    }
   ],
   "source": [
    "dfw['date'] = pd.to_datetime(dfw['date'], errors='coerce')\n",
    "dfaqi['date'] = pd.to_datetime(dfaqi['date'], errors='coerce')\n",
    "\n",
    "dfw = dfw.sort_values(by='date').reset_index(drop=True).drop_duplicates()\n",
    "dfaqi = dfaqi.sort_values(by='date').reset_index(drop=True).drop_duplicates()\n",
    "\n",
    "#start dfaqi at Jan 1, 2018\n",
    "dfaqi = dfaqi[dfaqi['date'].dt.year >= 2018]\n",
    "              \n",
    "#end dfaqi at May 8, 2020    \n",
    "#drop last date: 2020-05-09 since 3/4 pollutants are missing values for this day\n",
    "dfaqi = dfaqi.drop(dfaqi.tail(1).index)\n",
    "dfaqi.tail()"
   ]
  },
  {
   "cell_type": "markdown",
   "metadata": {},
   "source": [
    "#### Check Missing Entries:"
   ]
  },
  {
   "cell_type": "code",
   "execution_count": 11,
   "metadata": {},
   "outputs": [
    {
     "data": {
      "text/html": [
       "<div>\n",
       "<style scoped>\n",
       "    .dataframe tbody tr th:only-of-type {\n",
       "        vertical-align: middle;\n",
       "    }\n",
       "\n",
       "    .dataframe tbody tr th {\n",
       "        vertical-align: top;\n",
       "    }\n",
       "\n",
       "    .dataframe thead th {\n",
       "        text-align: right;\n",
       "    }\n",
       "</style>\n",
       "<table border=\"1\" class=\"dataframe\">\n",
       "  <thead>\n",
       "    <tr style=\"text-align: right;\">\n",
       "      <th></th>\n",
       "      <th>date</th>\n",
       "      <th>pm25</th>\n",
       "      <th>o3</th>\n",
       "      <th>no2</th>\n",
       "      <th>co</th>\n",
       "    </tr>\n",
       "  </thead>\n",
       "  <tbody>\n",
       "    <tr>\n",
       "      <th>1817</th>\n",
       "      <td>2019-01-01</td>\n",
       "      <td></td>\n",
       "      <td>25</td>\n",
       "      <td>20</td>\n",
       "      <td>6</td>\n",
       "    </tr>\n",
       "    <tr>\n",
       "      <th>2080</th>\n",
       "      <td>2019-09-21</td>\n",
       "      <td></td>\n",
       "      <td>53</td>\n",
       "      <td>17</td>\n",
       "      <td>5</td>\n",
       "    </tr>\n",
       "    <tr>\n",
       "      <th>2081</th>\n",
       "      <td>2019-09-22</td>\n",
       "      <td></td>\n",
       "      <td>50</td>\n",
       "      <td>18</td>\n",
       "      <td>6</td>\n",
       "    </tr>\n",
       "    <tr>\n",
       "      <th>2082</th>\n",
       "      <td>2019-09-23</td>\n",
       "      <td></td>\n",
       "      <td>37</td>\n",
       "      <td>16</td>\n",
       "      <td>4</td>\n",
       "    </tr>\n",
       "    <tr>\n",
       "      <th>2083</th>\n",
       "      <td>2019-09-24</td>\n",
       "      <td></td>\n",
       "      <td>30</td>\n",
       "      <td>20</td>\n",
       "      <td>6</td>\n",
       "    </tr>\n",
       "    <tr>\n",
       "      <th>2084</th>\n",
       "      <td>2019-09-25</td>\n",
       "      <td></td>\n",
       "      <td>38</td>\n",
       "      <td>16</td>\n",
       "      <td>3</td>\n",
       "    </tr>\n",
       "    <tr>\n",
       "      <th>2181</th>\n",
       "      <td>2020-01-01</td>\n",
       "      <td></td>\n",
       "      <td>25</td>\n",
       "      <td>19</td>\n",
       "      <td>5</td>\n",
       "    </tr>\n",
       "    <tr>\n",
       "      <th>2276</th>\n",
       "      <td>2020-04-05</td>\n",
       "      <td></td>\n",
       "      <td>21</td>\n",
       "      <td>2</td>\n",
       "      <td>1</td>\n",
       "    </tr>\n",
       "    <tr>\n",
       "      <th>2277</th>\n",
       "      <td>2020-04-06</td>\n",
       "      <td></td>\n",
       "      <td>27</td>\n",
       "      <td>5</td>\n",
       "      <td>1</td>\n",
       "    </tr>\n",
       "    <tr>\n",
       "      <th>2278</th>\n",
       "      <td>2020-04-07</td>\n",
       "      <td></td>\n",
       "      <td>23</td>\n",
       "      <td>9</td>\n",
       "      <td>2</td>\n",
       "    </tr>\n",
       "  </tbody>\n",
       "</table>\n",
       "</div>"
      ],
      "text/plain": [
       "           date pm25  o3 no2 co\n",
       "1817 2019-01-01       25  20  6\n",
       "2080 2019-09-21       53  17  5\n",
       "2081 2019-09-22       50  18  6\n",
       "2082 2019-09-23       37  16  4\n",
       "2083 2019-09-24       30  20  6\n",
       "2084 2019-09-25       38  16  3\n",
       "2181 2020-01-01       25  19  5\n",
       "2276 2020-04-05       21   2  1\n",
       "2277 2020-04-06       27   5  1\n",
       "2278 2020-04-07       23   9  2"
      ]
     },
     "execution_count": 11,
     "metadata": {},
     "output_type": "execute_result"
    }
   ],
   "source": [
    "dfaqi[(dfaqi['pm25'] == ' ')]"
   ]
  },
  {
   "cell_type": "code",
   "execution_count": 12,
   "metadata": {},
   "outputs": [
    {
     "data": {
      "text/html": [
       "<div>\n",
       "<style scoped>\n",
       "    .dataframe tbody tr th:only-of-type {\n",
       "        vertical-align: middle;\n",
       "    }\n",
       "\n",
       "    .dataframe tbody tr th {\n",
       "        vertical-align: top;\n",
       "    }\n",
       "\n",
       "    .dataframe thead th {\n",
       "        text-align: right;\n",
       "    }\n",
       "</style>\n",
       "<table border=\"1\" class=\"dataframe\">\n",
       "  <thead>\n",
       "    <tr style=\"text-align: right;\">\n",
       "      <th></th>\n",
       "      <th>date</th>\n",
       "      <th>pm25</th>\n",
       "      <th>o3</th>\n",
       "      <th>no2</th>\n",
       "      <th>co</th>\n",
       "    </tr>\n",
       "  </thead>\n",
       "  <tbody>\n",
       "    <tr>\n",
       "      <th>1516</th>\n",
       "      <td>2018-03-06</td>\n",
       "      <td>31</td>\n",
       "      <td></td>\n",
       "      <td>26</td>\n",
       "      <td>12</td>\n",
       "    </tr>\n",
       "    <tr>\n",
       "      <th>1816</th>\n",
       "      <td>2018-12-31</td>\n",
       "      <td>53</td>\n",
       "      <td></td>\n",
       "      <td></td>\n",
       "      <td></td>\n",
       "    </tr>\n",
       "    <tr>\n",
       "      <th>2180</th>\n",
       "      <td>2019-12-30</td>\n",
       "      <td>56</td>\n",
       "      <td></td>\n",
       "      <td></td>\n",
       "      <td></td>\n",
       "    </tr>\n",
       "  </tbody>\n",
       "</table>\n",
       "</div>"
      ],
      "text/plain": [
       "           date pm25 o3 no2  co\n",
       "1516 2018-03-06   31     26  12\n",
       "1816 2018-12-31   53           \n",
       "2180 2019-12-30   56           "
      ]
     },
     "execution_count": 12,
     "metadata": {},
     "output_type": "execute_result"
    }
   ],
   "source": [
    "dfaqi[(dfaqi['o3'] == ' ')]"
   ]
  },
  {
   "cell_type": "code",
   "execution_count": 13,
   "metadata": {},
   "outputs": [
    {
     "data": {
      "text/html": [
       "<div>\n",
       "<style scoped>\n",
       "    .dataframe tbody tr th:only-of-type {\n",
       "        vertical-align: middle;\n",
       "    }\n",
       "\n",
       "    .dataframe tbody tr th {\n",
       "        vertical-align: top;\n",
       "    }\n",
       "\n",
       "    .dataframe thead th {\n",
       "        text-align: right;\n",
       "    }\n",
       "</style>\n",
       "<table border=\"1\" class=\"dataframe\">\n",
       "  <thead>\n",
       "    <tr style=\"text-align: right;\">\n",
       "      <th></th>\n",
       "      <th>date</th>\n",
       "      <th>pm25</th>\n",
       "      <th>o3</th>\n",
       "      <th>no2</th>\n",
       "      <th>co</th>\n",
       "    </tr>\n",
       "  </thead>\n",
       "  <tbody>\n",
       "    <tr>\n",
       "      <th>1816</th>\n",
       "      <td>2018-12-31</td>\n",
       "      <td>53</td>\n",
       "      <td></td>\n",
       "      <td></td>\n",
       "      <td></td>\n",
       "    </tr>\n",
       "    <tr>\n",
       "      <th>2180</th>\n",
       "      <td>2019-12-30</td>\n",
       "      <td>56</td>\n",
       "      <td></td>\n",
       "      <td></td>\n",
       "      <td></td>\n",
       "    </tr>\n",
       "  </tbody>\n",
       "</table>\n",
       "</div>"
      ],
      "text/plain": [
       "           date pm25 o3 no2 co\n",
       "1816 2018-12-31   53          \n",
       "2180 2019-12-30   56          "
      ]
     },
     "execution_count": 13,
     "metadata": {},
     "output_type": "execute_result"
    }
   ],
   "source": [
    "dfaqi[(dfaqi['no2'] == ' ')]"
   ]
  },
  {
   "cell_type": "code",
   "execution_count": 14,
   "metadata": {},
   "outputs": [
    {
     "data": {
      "text/html": [
       "<div>\n",
       "<style scoped>\n",
       "    .dataframe tbody tr th:only-of-type {\n",
       "        vertical-align: middle;\n",
       "    }\n",
       "\n",
       "    .dataframe tbody tr th {\n",
       "        vertical-align: top;\n",
       "    }\n",
       "\n",
       "    .dataframe thead th {\n",
       "        text-align: right;\n",
       "    }\n",
       "</style>\n",
       "<table border=\"1\" class=\"dataframe\">\n",
       "  <thead>\n",
       "    <tr style=\"text-align: right;\">\n",
       "      <th></th>\n",
       "      <th>date</th>\n",
       "      <th>pm25</th>\n",
       "      <th>o3</th>\n",
       "      <th>no2</th>\n",
       "      <th>co</th>\n",
       "    </tr>\n",
       "  </thead>\n",
       "  <tbody>\n",
       "    <tr>\n",
       "      <th>1816</th>\n",
       "      <td>2018-12-31</td>\n",
       "      <td>53</td>\n",
       "      <td></td>\n",
       "      <td></td>\n",
       "      <td></td>\n",
       "    </tr>\n",
       "    <tr>\n",
       "      <th>2164</th>\n",
       "      <td>2019-12-14</td>\n",
       "      <td>85</td>\n",
       "      <td>9</td>\n",
       "      <td>21</td>\n",
       "      <td></td>\n",
       "    </tr>\n",
       "    <tr>\n",
       "      <th>2165</th>\n",
       "      <td>2019-12-15</td>\n",
       "      <td>79</td>\n",
       "      <td>29</td>\n",
       "      <td>11</td>\n",
       "      <td></td>\n",
       "    </tr>\n",
       "    <tr>\n",
       "      <th>2166</th>\n",
       "      <td>2019-12-16</td>\n",
       "      <td>25</td>\n",
       "      <td>20</td>\n",
       "      <td>26</td>\n",
       "      <td></td>\n",
       "    </tr>\n",
       "    <tr>\n",
       "      <th>2167</th>\n",
       "      <td>2019-12-17</td>\n",
       "      <td>31</td>\n",
       "      <td>22</td>\n",
       "      <td>26</td>\n",
       "      <td></td>\n",
       "    </tr>\n",
       "    <tr>\n",
       "      <th>2170</th>\n",
       "      <td>2019-12-20</td>\n",
       "      <td>55</td>\n",
       "      <td>18</td>\n",
       "      <td>29</td>\n",
       "      <td></td>\n",
       "    </tr>\n",
       "    <tr>\n",
       "      <th>2180</th>\n",
       "      <td>2019-12-30</td>\n",
       "      <td>56</td>\n",
       "      <td></td>\n",
       "      <td></td>\n",
       "      <td></td>\n",
       "    </tr>\n",
       "  </tbody>\n",
       "</table>\n",
       "</div>"
      ],
      "text/plain": [
       "           date pm25  o3 no2 co\n",
       "1816 2018-12-31   53           \n",
       "2164 2019-12-14   85   9  21   \n",
       "2165 2019-12-15   79  29  11   \n",
       "2166 2019-12-16   25  20  26   \n",
       "2167 2019-12-17   31  22  26   \n",
       "2170 2019-12-20   55  18  29   \n",
       "2180 2019-12-30   56           "
      ]
     },
     "execution_count": 14,
     "metadata": {},
     "output_type": "execute_result"
    }
   ],
   "source": [
    "dfaqi[(dfaqi['co'] == ' ')]"
   ]
  },
  {
   "cell_type": "markdown",
   "metadata": {},
   "source": [
    "#### Fix Missing Entries:"
   ]
  },
  {
   "cell_type": "markdown",
   "metadata": {},
   "source": [
    "Since there are only a handful of missing entries and they are missing at random, we decided that the missing values will not greatly perturb our results or contribute to any substantial biases. We replace these missing values by the integer 0 (since no other entry in the dataset has a 0 entry), and make note of these missing values when we continue on to our visualizations and analyses."
   ]
  },
  {
   "cell_type": "code",
   "execution_count": 15,
   "metadata": {},
   "outputs": [],
   "source": [
    "#replace missing values by 0\n",
    "dfaqi = dfaqi.replace(' ', '0')"
   ]
  },
  {
   "cell_type": "markdown",
   "metadata": {},
   "source": [
    "#### Check  and Fix Data Types:"
   ]
  },
  {
   "cell_type": "code",
   "execution_count": 16,
   "metadata": {},
   "outputs": [
    {
     "name": "stdout",
     "output_type": "stream",
     "text": [
      "date                  datetime64[ns]\n",
      "average wind speed           float64\n",
      "precipitation                float64\n",
      "max temp                       int64\n",
      "min temp                       int64\n",
      "dtype: object\n",
      "\n",
      "date    datetime64[ns]\n",
      "pm25            object\n",
      "o3              object\n",
      "no2             object\n",
      "co              object\n",
      "dtype: object\n"
     ]
    }
   ],
   "source": [
    "print(dfw.dtypes)\n",
    "print()\n",
    "print(dfaqi.dtypes)"
   ]
  },
  {
   "cell_type": "code",
   "execution_count": 17,
   "metadata": {},
   "outputs": [],
   "source": [
    "dfaqi = dfaqi.astype({'pm25': 'int32', 'o3': 'int32', 'no2': 'int32', 'co': 'int32'})"
   ]
  },
  {
   "cell_type": "code",
   "execution_count": 18,
   "metadata": {},
   "outputs": [
    {
     "name": "stdout",
     "output_type": "stream",
     "text": [
      "date                  datetime64[ns]\n",
      "average wind speed           float64\n",
      "precipitation                float64\n",
      "max temp                       int64\n",
      "min temp                       int64\n",
      "dtype: object\n",
      "\n",
      "date    datetime64[ns]\n",
      "pm25             int32\n",
      "o3               int32\n",
      "no2              int32\n",
      "co               int32\n",
      "dtype: object\n"
     ]
    }
   ],
   "source": [
    "print(dfw.dtypes)\n",
    "print()\n",
    "print(dfaqi.dtypes)"
   ]
  },
  {
   "cell_type": "code",
   "execution_count": 19,
   "metadata": {},
   "outputs": [],
   "source": [
    "dfw2018=dfw[dfw['date'].dt.year == 2018].sort_values(by='date').reset_index(drop=True)\n",
    "dfw2019=dfw[dfw['date'].dt.year == 2019].sort_values(by='date').reset_index(drop=True)\n",
    "dfw2020=dfw[dfw['date'].dt.year == 2020].sort_values(by='date').reset_index(drop=True)"
   ]
  },
  {
   "cell_type": "code",
   "execution_count": 20,
   "metadata": {},
   "outputs": [],
   "source": [
    "dfaqi2018=dfaqi[dfaqi['date'].dt.year == 2018].sort_values(by='date').reset_index(drop=True)\n",
    "dfaqi2019=dfaqi[dfaqi['date'].dt.year == 2019].sort_values(by='date').reset_index(drop=True)\n",
    "dfaqi2020=dfaqi[dfaqi['date'].dt.year == 2020].sort_values(by='date').reset_index(drop=True)"
   ]
  },
  {
   "cell_type": "code",
   "execution_count": 21,
   "metadata": {},
   "outputs": [],
   "source": [
    "# data frames for weather \n",
    "dfw2018['no2'] = dfaqi2018['no2']\n",
    "dfw2019['no2'] = dfaqi2019['no2']\n",
    "dfw2020['no2'] = dfaqi2020['no2']\n",
    "dfw2018['o3'] = dfaqi2018['o3']\n",
    "dfw2019['o3'] = dfaqi2019['o3']\n",
    "dfw2020['o3'] = dfaqi2020['o3']\n",
    "dfw2018['pm25'] = dfaqi2018['pm25']\n",
    "dfw2019['pm25'] = dfaqi2019['pm25']\n",
    "dfw2020['pm25'] = dfaqi2020['pm25']\n",
    "dfw2018['co'] = dfaqi2018['co']\n",
    "dfw2019['co'] = dfaqi2019['co']\n",
    "dfw2020['co'] = dfaqi2020['co']"
   ]
  },
  {
   "cell_type": "markdown",
   "metadata": {},
   "source": [
    "#### Summary:\n",
    "The data have been checked for missing values, converted into the correct types, filtered to include the relevant dates, and placed under the correct column names. Now that the data are clean, we move on to visualizing and analyzing!"
   ]
  },
  {
   "cell_type": "markdown",
   "metadata": {},
   "source": [
    "# Data Analysis & Results"
   ]
  },
  {
   "cell_type": "markdown",
   "metadata": {},
   "source": [
    "### Line Graphs of Pollution Levels in 2018, 2019, 2020:\n",
    "We create line graphs in order to visualize the pollutant levels over the first phase lockdown time period (March 19th to May 8th). We use this time period for 2018, 2019, and 2020, so that we can clearly compare and see any possible differences in pollution between the years."
   ]
  },
  {
   "cell_type": "markdown",
   "metadata": {},
   "source": [
    "#### Line Graph for pm2.5:"
   ]
  },
  {
   "cell_type": "markdown",
   "metadata": {},
   "source": [
    "First, we set up new dataframes that are filtered from the dfaqi dataframe, in order to only include the data from the lockdown dates for each year. Then, since 2020 has a few missing values during the lockdown period, we remove those dates from the 2020 dataframe."
   ]
  },
  {
   "cell_type": "code",
   "execution_count": null,
   "metadata": {
    "scrolled": true
   },
   "outputs": [],
   "source": [
    "#only use dates from March 19 to May 8\n",
    "lockdown_dates_2018 = (dfaqi['date'] >= '2018-3-19') & (dfaqi['date'] <= '2018-5-8')\n",
    "lockdown_dates_2019 = (dfaqi['date'] >= '2019-3-19') & (dfaqi['date'] <= '2019-5-8')\n",
    "lockdown_dates_2020 = (dfaqi['date'] >= '2020-3-19') & (dfaqi['date'] <= '2020-5-8')\n",
    "\n",
    "#create dataframe for pm25 during lockdown dates\n",
    "df_pm25_lockdown = dfaqi.loc[:,['date', 'pm25']]\n",
    "\n",
    "#separate data into years\n",
    "df_pm25_lockdown2018 = df_pm25_lockdown.loc[lockdown_dates_2018]\n",
    "df_pm25_lockdown2019 = df_pm25_lockdown.loc[lockdown_dates_2019]\n",
    "df_pm25_lockdown2020 = df_pm25_lockdown.loc[lockdown_dates_2020]\n",
    "\n",
    "#drop rows with missing values\n",
    "pm25_dates_missing = ['2020-04-05', '2020-04-06', '2020-04-07']\n",
    "df_pm25_lockdown2020 = df_pm25_lockdown2020[~df_pm25_lockdown2020['date'].isin(pm25_dates_missing)]"
   ]
  },
  {
   "cell_type": "markdown",
   "metadata": {},
   "source": [
    "Next, we set up our x (time in days of lockdown) and y (pm2.5 pollution level) values for the plot. We use a spline interpolation for each year so that the lines can show the overall trend of pm2.5 pollution levels better.  "
   ]
  },
  {
   "cell_type": "code",
   "execution_count": null,
   "metadata": {},
   "outputs": [],
   "source": [
    "#set x to time in days of lockdown and y to pollution level\n",
    "x = list(range(0,51))\n",
    "x = np.array(x)\n",
    "y2018 = df_pm25_lockdown2018['pm25']\n",
    "y2018 = np.array(y2018)\n",
    "y2019 = df_pm25_lockdown2019['pm25']\n",
    "y2019 = np.array(y2019)\n",
    "#since 2020 has 3 missing values, it needs a different x value\n",
    "x2020 = np.delete(x, [17,18,19])\n",
    "y2020 = df_pm25_lockdown2020['pm25']\n",
    "y2020 = np.array(y2020)\n",
    "\n",
    "#resample to get more points - needed to make smooth curve\n",
    "x_smooth = np.linspace(x.min(), x.max(), 200)\n",
    "\n",
    "#create splines\n",
    "spl2018 = interpolate.UnivariateSpline(x, y2018)\n",
    "spl2019 = interpolate.UnivariateSpline(x, y2019)\n",
    "spl2020 = interpolate.UnivariateSpline(x2020, y2020)"
   ]
  },
  {
   "cell_type": "markdown",
   "metadata": {},
   "source": [
    "Finally, we set up the plot with our trend lines from 2018, 2019, and 2020. We also fill in the area where pollution levels in 2020 are below the previous years, in order to make the drop more apparent."
   ]
  },
  {
   "cell_type": "code",
   "execution_count": null,
   "metadata": {},
   "outputs": [],
   "source": [
    "#setup plot\n",
    "fig, ax = plt.subplots(figsize=(20,10))\n",
    "\n",
    "#axes\n",
    "ax.set_xlim(left=0)\n",
    "ax.spines['right'].set_visible(False)\n",
    "ax.spines['top'].set_visible(False)\n",
    "\n",
    "#labels\n",
    "plt.title(\"Pollution from pm2.5 Drops in 2020\", fontsize=25, loc='left')\n",
    "plt.xlabel('Date (during lockdown)', fontsize=20)\n",
    "plt.ylabel('pm2.5 (AQI)', fontsize=20)\n",
    "\n",
    "#get months on x axis\n",
    "plt.xticks([0,10.2,20.4,30.6,40.8,51], [\"March 19th\", \"March 29th\", \"April 8th\", \"April 18th\", \"April 28th\", \"May 8th\"], fontsize=15)\n",
    "plt.yticks(fontsize=15)\n",
    "\n",
    "#plot lines\n",
    "line_2018 = plt.plot(x_smooth, spl2018(x_smooth), 'blue', linewidth=1)\n",
    "line_2019 = plt.plot(x_smooth, spl2019(x_smooth), 'green', linewidth=1)\n",
    "line_2020 = plt.plot(x_smooth, spl2020(x_smooth), 'red', linewidth=1)\n",
    "\n",
    "#fill area above 2020 line and below 2018/2019\n",
    "upper_bound = np.minimum(spl2018(x_smooth), spl2019(x_smooth))\n",
    "ax.fill_between(x_smooth, spl2020(x_smooth), upper_bound, where=upper_bound >= spl2020(x_smooth), facecolor='#FDFD96', interpolate=True)\n",
    "\n",
    "#legend\n",
    "blue_line = mlines.Line2D([], [], color='blue', label='2018')\n",
    "green_line = mlines.Line2D([], [], color='green', label='2019')\n",
    "red_line = mlines.Line2D([], [], color='red', label='2020')\n",
    "plt.legend(handles=[blue_line, green_line, red_line], fontsize=15)\n",
    "\n",
    "#plot\n",
    "plt.show()"
   ]
  },
  {
   "cell_type": "markdown",
   "metadata": {},
   "source": [
    "From this line graph, we can see that for most of the lockdown period, pollution from pm2.5 has dropped relative to the previous years, 2018 and 2019. The only major gap we see from this graph is right before April 8th. However, since we have three missing dates (April 5th, April 6th, and April 7th), the spline interpolation may not have accurately drawn the overall trend. Hence, the gap may be smaller in reality."
   ]
  },
  {
   "cell_type": "markdown",
   "metadata": {},
   "source": [
    "#### Line Graph for O3:"
   ]
  },
  {
   "cell_type": "code",
   "execution_count": null,
   "metadata": {},
   "outputs": [],
   "source": [
    "#create dataframe for o3 during lockdown dates\n",
    "df_o3_lockdown = dfaqi.loc[:,['date', 'o3']]\n",
    "\n",
    "#separate data into years\n",
    "df_o3_lockdown2018 = df_o3_lockdown.loc[lockdown_dates_2018]\n",
    "df_o3_lockdown2019 = df_o3_lockdown.loc[lockdown_dates_2019]\n",
    "df_o3_lockdown2020 = df_o3_lockdown.loc[lockdown_dates_2020]\n",
    "\n",
    "#no rows with missing data from any year: check!"
   ]
  },
  {
   "cell_type": "code",
   "execution_count": null,
   "metadata": {},
   "outputs": [],
   "source": [
    "#set x to time in days of lockdown and y to pollution level\n",
    "x = list(range(0,51))\n",
    "x = np.array(x)\n",
    "y2018 = df_o3_lockdown2018['o3']\n",
    "y2018 = np.array(y2018)\n",
    "y2019 = df_o3_lockdown2019['o3']\n",
    "y2019 = np.array(y2019)\n",
    "y2020 = df_o3_lockdown2020['o3']\n",
    "y2020 = np.array(y2020)\n",
    "\n",
    "#resample to get more points - needed to make smooth curve\n",
    "x_smooth = np.linspace(x.min(), x.max(), 200)\n",
    "\n",
    "#create splines\n",
    "spl2018 = interpolate.UnivariateSpline(x, y2018)\n",
    "spl2019 = interpolate.UnivariateSpline(x, y2019)\n",
    "spl2020 = interpolate.UnivariateSpline(x, y2020)"
   ]
  },
  {
   "cell_type": "code",
   "execution_count": null,
   "metadata": {},
   "outputs": [],
   "source": [
    "#setup plot\n",
    "fig, ax = plt.subplots(figsize=(20,10))\n",
    "\n",
    "#axes\n",
    "ax.set_xlim(left=0)\n",
    "ax.spines['right'].set_visible(False)\n",
    "ax.spines['top'].set_visible(False)\n",
    "\n",
    "#labels\n",
    "plt.title(\"Pollution from O3 Fluctuates in 2020\", fontsize=25, loc='left')\n",
    "plt.xlabel('Date (during lockdown)', fontsize=20)\n",
    "plt.ylabel('O3 (AQI)', fontsize=20)\n",
    "\n",
    "#get months on x axis\n",
    "plt.xticks([0,10.2,20.4,30.6,40.8,51], [\"March 19th\", \"March 29th\", \"April 8th\", \"April 18th\", \"April 28th\", \"May 8th\"], fontsize=15)\n",
    "plt.yticks(fontsize=15)\n",
    "\n",
    "#plot lines\n",
    "line_2018 = plt.plot(x_smooth, spl2018(x_smooth), 'blue', linewidth=1)\n",
    "line_2019 = plt.plot(x_smooth, spl2019(x_smooth), 'green', linewidth=1)\n",
    "line_2020 = plt.plot(x_smooth, spl2020(x_smooth), 'red', linewidth=1)\n",
    "\n",
    "#fill area above 2020 line and below 2018/2019\n",
    "upper_bound = np.minimum(spl2018(x_smooth), spl2019(x_smooth))\n",
    "ax.fill_between(x_smooth, spl2020(x_smooth), upper_bound, where=upper_bound >= spl2020(x_smooth), facecolor='#FDFD96', interpolate=True)\n",
    "\n",
    "#legend\n",
    "blue_line = mlines.Line2D([], [], color='blue', label='2018')\n",
    "green_line = mlines.Line2D([], [], color='green', label='2019')\n",
    "red_line = mlines.Line2D([], [], color='red', label='2020')\n",
    "plt.legend(handles=[blue_line, green_line, red_line], fontsize=15)\n",
    "\n",
    "#plot\n",
    "plt.show()"
   ]
  },
  {
   "cell_type": "markdown",
   "metadata": {},
   "source": [
    "!!!INTERPRETATION & WHAT SHOULD BE LEARNED FROM THIS GRAPH!!!"
   ]
  },
  {
   "cell_type": "markdown",
   "metadata": {},
   "source": [
    "#### Line Graph for NO2:"
   ]
  },
  {
   "cell_type": "code",
   "execution_count": null,
   "metadata": {},
   "outputs": [],
   "source": [
    "#create dataframe for no2 during lockdown dates\n",
    "df_no2_lockdown = dfaqi.loc[:,['date', 'no2']]\n",
    "\n",
    "#separate data into years\n",
    "df_no2_lockdown2018 = df_no2_lockdown.loc[lockdown_dates_2018]\n",
    "df_no2_lockdown2019 = df_no2_lockdown.loc[lockdown_dates_2019]\n",
    "df_no2_lockdown2020 = df_no2_lockdown.loc[lockdown_dates_2020]\n",
    "\n",
    "#no rows with missing data from any year: check!"
   ]
  },
  {
   "cell_type": "code",
   "execution_count": null,
   "metadata": {},
   "outputs": [],
   "source": [
    "#set x to time in days of lockdown and y to pollution level\n",
    "x = list(range(0,51))\n",
    "x = np.array(x)\n",
    "y2018 = df_no2_lockdown2018['no2']\n",
    "y2018 = np.array(y2018)\n",
    "y2019 = df_no2_lockdown2019['no2']\n",
    "y2019 = np.array(y2019)\n",
    "y2020 = df_no2_lockdown2020['no2']\n",
    "y2020 = np.array(y2020)\n",
    "\n",
    "#resample to get more points - needed to make smooth curve\n",
    "x_smooth = np.linspace(x.min(), x.max(), 200)\n",
    "\n",
    "#create splines\n",
    "spl2018 = interpolate.UnivariateSpline(x, y2018)\n",
    "spl2019 = interpolate.UnivariateSpline(x, y2019)\n",
    "spl2020 = interpolate.UnivariateSpline(x, y2020)"
   ]
  },
  {
   "cell_type": "code",
   "execution_count": null,
   "metadata": {
    "scrolled": true
   },
   "outputs": [],
   "source": [
    "#setup plot\n",
    "fig, ax = plt.subplots(figsize=(20,10))\n",
    "\n",
    "#axes\n",
    "ax.set_xlim(left=0)\n",
    "ax.spines['right'].set_visible(False)\n",
    "ax.spines['top'].set_visible(False)\n",
    "\n",
    "#labels\n",
    "plt.title(\"Pollution from NO2 Drops in 2020 But Rises Near the End\", fontsize=25, loc='left')\n",
    "plt.xlabel('Date (during lockdown)', fontsize=20)\n",
    "plt.ylabel('NO2 (AQI)', fontsize=20)\n",
    "\n",
    "#get months on x axis\n",
    "plt.xticks([0,10.2,20.4,30.6,40.8,51], [\"March 19th\", \"March 29th\", \"April 8th\", \"April 18th\", \"April 28th\", \"May 8th\"], fontsize=15)\n",
    "plt.yticks(fontsize=15)\n",
    "\n",
    "#plot lines\n",
    "line_2018 = plt.plot(x_smooth, spl2018(x_smooth), 'blue', linewidth=1)\n",
    "line_2019 = plt.plot(x_smooth, spl2019(x_smooth), 'green', linewidth=1)\n",
    "line_2020 = plt.plot(x_smooth, spl2020(x_smooth), 'red', linewidth=1)\n",
    "\n",
    "#fill area above 2020 line and below 2018/2019\n",
    "upper_bound = np.minimum(spl2018(x_smooth), spl2019(x_smooth))\n",
    "ax.fill_between(x_smooth, spl2020(x_smooth), upper_bound, where=upper_bound >= spl2020(x_smooth), facecolor='#FDFD96', interpolate=True)\n",
    "\n",
    "#legend\n",
    "blue_line = mlines.Line2D([], [], color='blue', label='2018')\n",
    "green_line = mlines.Line2D([], [], color='green', label='2019')\n",
    "red_line = mlines.Line2D([], [], color='red', label='2020')\n",
    "plt.legend(handles=[blue_line, green_line, red_line], fontsize=15)\n",
    "\n",
    "#plot\n",
    "plt.show()"
   ]
  },
  {
   "cell_type": "markdown",
   "metadata": {},
   "source": [
    "!!!INTERPRETATION & WHAT SHOULD BE LEARNED FROM THIS GRAPH!!!\n",
    "\n",
    "NO2 emissions are primarily due to road traffic and other fossil fuel combustion processes. Because May 9th was the start of the California phase one lockdown plan, in which certain businesses and factories were allowed to re-open, this could explain why NO2 rose in the last portion of this graph. Other than that, the rest of the yellow highlighted area shows that pollution from NO2 dropped relative to the previous years."
   ]
  },
  {
   "cell_type": "markdown",
   "metadata": {},
   "source": [
    "#### Line Graph for CO:"
   ]
  },
  {
   "cell_type": "code",
   "execution_count": null,
   "metadata": {},
   "outputs": [],
   "source": [
    "#create dataframe for co during lockdown dates\n",
    "df_co_lockdown = dfaqi.loc[:,['date', 'co']]\n",
    "\n",
    "#separate data into years\n",
    "df_co_lockdown2018 = df_co_lockdown.loc[lockdown_dates_2018]\n",
    "df_co_lockdown2019 = df_co_lockdown.loc[lockdown_dates_2019]\n",
    "df_co_lockdown2020 = df_co_lockdown.loc[lockdown_dates_2020]\n",
    "\n",
    "#no rows with missing data from any year: check!"
   ]
  },
  {
   "cell_type": "code",
   "execution_count": null,
   "metadata": {},
   "outputs": [],
   "source": [
    "#set x to time in days of lockdown and y to pollution level\n",
    "x = list(range(0,51))\n",
    "x = np.array(x)\n",
    "y2018 = df_co_lockdown2018['co']\n",
    "y2018 = np.array(y2018)\n",
    "y2019 = df_co_lockdown2019['co']\n",
    "y2019 = np.array(y2019)\n",
    "y2020 = df_co_lockdown2020['co']\n",
    "y2020 = np.array(y2020)\n",
    "\n",
    "#resample to get more points - needed to make smooth curve\n",
    "x_smooth = np.linspace(x.min(), x.max(), 200)\n",
    "\n",
    "#create splines\n",
    "spl2018 = interpolate.UnivariateSpline(x, y2018)\n",
    "spl2019 = interpolate.UnivariateSpline(x, y2019)\n",
    "spl2020 = interpolate.UnivariateSpline(x, y2020)"
   ]
  },
  {
   "cell_type": "code",
   "execution_count": null,
   "metadata": {},
   "outputs": [],
   "source": [
    "#setup plot\n",
    "fig, ax = plt.subplots(figsize=(20,10))\n",
    "\n",
    "#axes\n",
    "ax.set_xlim(left=0)\n",
    "ax.spines['right'].set_visible(False)\n",
    "ax.spines['top'].set_visible(False)\n",
    "\n",
    "#labels\n",
    "plt.title(\"Pollution from CO Drops in 2020 But Rises Near the End\", fontsize=25, loc='left')\n",
    "plt.xlabel('Date (during lockdown)', fontsize=20)\n",
    "plt.ylabel('CO (AQI)', fontsize=20)\n",
    "\n",
    "#get months on x axis\n",
    "plt.xticks([0,10.2,20.4,30.6,40.8,51], [\"March 19th\", \"March 29th\", \"April 8th\", \"April 18th\", \"April 28th\", \"May 8th\"], fontsize=15)\n",
    "plt.yticks(fontsize=15)\n",
    "\n",
    "#plot lines\n",
    "line_2018 = plt.plot(x_smooth, spl2018(x_smooth), 'blue', linewidth=1)\n",
    "line_2019 = plt.plot(x_smooth, spl2019(x_smooth), 'green', linewidth=1)\n",
    "line_2020 = plt.plot(x_smooth, spl2020(x_smooth), 'red', linewidth=1)\n",
    "\n",
    "#fill area above 2020 line and below 2018/2019\n",
    "upper_bound = np.minimum(spl2018(x_smooth), spl2019(x_smooth))\n",
    "ax.fill_between(x_smooth, spl2020(x_smooth), upper_bound, where=upper_bound >= spl2020(x_smooth), facecolor='#FDFD96', interpolate=True)\n",
    "\n",
    "#legend\n",
    "blue_line = mlines.Line2D([], [], color='blue', label='2018')\n",
    "green_line = mlines.Line2D([], [], color='green', label='2019')\n",
    "red_line = mlines.Line2D([], [], color='red', label='2020')\n",
    "plt.legend(handles=[blue_line, green_line, red_line], fontsize=15)\n",
    "\n",
    "#plot\n",
    "plt.show()"
   ]
  },
  {
   "cell_type": "markdown",
   "metadata": {},
   "source": [
    "!!!INTERPRETATION & WHAT SHOULD BE LEARNED FROM THIS GRAPH!!!"
   ]
  },
  {
   "cell_type": "markdown",
   "metadata": {},
   "source": [
    "### Correlation Table and Heatmap of Pollutants vs. Weather:"
   ]
  },
  {
   "cell_type": "markdown",
   "metadata": {},
   "source": [
    "Because we know from prior research that weather factors affect pollution levels, we would like to see which of those factors have significantly high correlations. This way, we can check if during the 2020 lockdown time period, there was a significant change in those highly correlated weather factors. This is important because a change in weather may be the reason for a change in pollution levels, instead of the lockdown regulations themselves."
   ]
  },
  {
   "cell_type": "code",
   "execution_count": null,
   "metadata": {},
   "outputs": [],
   "source": [
    "df_merged_aqi_weather = pd.merge(dfw, dfaqi, how='inner', on='date')\n",
    "df_merged_aqi_weather.corr()"
   ]
  },
  {
   "cell_type": "code",
   "execution_count": null,
   "metadata": {},
   "outputs": [],
   "source": [
    "#only show half of heatmap grid, so there is no repetition\n",
    "mask = np.zeros(df_merged_aqi_weather.corr().shape, dtype=bool)\n",
    "mask[np.triu_indices(len(mask))] = True\n",
    "\n",
    "#setup plot\n",
    "fig, ax = plt.subplots(figsize=(15,7))\n",
    "plt.title(\"Certain Weather Factors and Pollutants Have a Notable Correlation\", fontsize=20, loc='left')\n",
    "\n",
    "#show heatmap\n",
    "ax = sns.heatmap(df_merged_aqi_weather.corr(), vmin = -1, vmax = 1, center = 0, cmap = 'coolwarm', annot = False, mask = mask)\n",
    "plt.xticks(rotation=0)\n",
    "plt.show()"
   ]
  },
  {
   "cell_type": "markdown",
   "metadata": {},
   "source": [
    "The coloring of the heatmap displays high positive correlations in dark red, and high negative correlations in dark blue. Hence, the stronger the correlation, the darker the color. From the correlation table and heatmap above, we can see that some pollutants have a notable correlation to certain weather factors. For example, pm2.5 does not seem to have a strong correlation to any of the weather factors, as the highest correlation we see is about .31 with temperature. O3, on the other hand, has a decently strong (positive) correlation to temperature, measuring to about .55. Finally, NO2 and CO have a notable (negative) correlation to wind speed, measuring to about -.45."
   ]
  },
  {
   "cell_type": "markdown",
   "metadata": {},
   "source": [
    "### Weather Line Graphs:"
   ]
  },
  {
   "cell_type": "markdown",
   "metadata": {},
   "source": [
    "Now that we have seen which weather factors are highly correlated to which pollutants, we can see if any of these weather factors have had major fluctuations during the 2020 lockdown. If there is indeed any major fluctuation, then this could have been a source for the change in pollution levels, instead of just the lockdown regulations."
   ]
  },
  {
   "cell_type": "markdown",
   "metadata": {},
   "source": [
    "#### Weather Line Graph for pm2.5:"
   ]
  },
  {
   "cell_type": "code",
   "execution_count": null,
   "metadata": {},
   "outputs": [],
   "source": [
    "#setup plot\n",
    "fig, ax = plt.subplots(figsize=(20,10))\n",
    "\n",
    "#axes\n",
    "ax.set_xlim(left=0)\n",
    "ax.spines['right'].set_visible(False)\n",
    "ax.spines['top'].set_visible(False)\n",
    "\n",
    "# no2 2020\n",
    "dfw20s = dfw2020[::11]\n",
    "ytemp = dfw20s['max temp']\n",
    "ywind = dfw20s['average wind speed']\n",
    "ypm25 = dfw20s['pm25']\n",
    "yrain = dfw20s['precipitation']\n",
    "plt.plot(ytemp, color='orange',label=\"temp\")\n",
    "plt.plot(dfw2020['max temp'], color='lightgray')\n",
    "plt.plot(ypm25, color='green',label=\"pm25\")\n",
    "plt.plot(dfw2020['pm25'], color='lightgray')\n",
    "plt.plot(yrain, color='purple',label=\"rain\")\n",
    "plt.plot(ywind, color='blue',label=\"wind\")\n",
    "plt.plot(dfw2020['average wind speed'], color='lightgray')\n",
    "\n",
    "#labels\n",
    "plt.title(\"No Notable Weather Fluctuations to Account for Drop in pm2.5\", fontsize=25)\n",
    "plt.xlabel('Date in 2020', fontsize=20)\n",
    "plt.xticks([0,30,60,90,120], [\"Jan 1st\", \"Feb 1st\", \"March 1st\", \"April 1st\", \"May 1st\"], fontsize=15)\n",
    "plt.ylabel('Normalized Units', fontsize=20)\n",
    "plt.yticks(fontsize=15)\n",
    "\n",
    "#legend\n",
    "blue_line = mlines.Line2D([], [], color='blue', label='Rain')\n",
    "green_line = mlines.Line2D([], [], color='green', label='pm2.5')\n",
    "red_line = mlines.Line2D([], [], color='orange', label='Temperature')\n",
    "purp_line = mlines.Line2D([], [], color='purple', label='Wind')\n",
    "plt.legend(handles=[red_line, green_line,blue_line, purp_line ], fontsize=15)\n",
    "plt.show()"
   ]
  },
  {
   "cell_type": "markdown",
   "metadata": {},
   "source": [
    "#### Weather Line Graph for O3:"
   ]
  },
  {
   "cell_type": "code",
   "execution_count": null,
   "metadata": {},
   "outputs": [],
   "source": [
    "#setup plot\n",
    "fig, ax = plt.subplots(figsize=(20,10))\n",
    "\n",
    "#axes\n",
    "ax.set_xlim(left=0)\n",
    "ax.spines['right'].set_visible(False)\n",
    "ax.spines['top'].set_visible(False)\n",
    "\n",
    "# no2 2020\n",
    "dfw20s = dfw2020[::11]\n",
    "ytemp = dfw20s['max temp']\n",
    "ywind = dfw20s['average wind speed']\n",
    "yo3 = dfw20s['o3']\n",
    "yrain = dfw20s['precipitation']\n",
    "plt.plot(ytemp, color='orange',label=\"temp\")\n",
    "plt.plot(dfw2020['max temp'], color='lightgray')\n",
    "plt.plot(yo3, color='green', label=\"o3\")\n",
    "plt.plot(dfw2020['o3'], color='lightgray')\n",
    "plt.plot(yrain, color='purple',label=\"rain\")\n",
    "plt.plot(ywind, color='blue',label=\"wind\")\n",
    "plt.plot(dfw2020['average wind speed'], color='lightgray')\n",
    "\n",
    "#labels\n",
    "plt.title(\"No Signicant Change in Temperature to Account for Drop in O3\", fontsize=25)\n",
    "plt.ylabel('Normalized Units', fontsize=20)\n",
    "plt.xlabel('Date in 2020', fontsize=20)\n",
    "plt.xticks([0,30,60,90,120], [\"Jan 1st\", \"Feb 1st\", \"March 1st\", \"April 1st\", \"May 1st\"], fontsize=15)\n",
    "plt.yticks(fontsize=15)\n",
    "\n",
    "#legend\n",
    "blue_line = mlines.Line2D([], [], color='blue', label='Rain')\n",
    "green_line = mlines.Line2D([], [], color='green', label='O3')\n",
    "red_line = mlines.Line2D([], [], color='orange', label='Temperature')\n",
    "purp_line = mlines.Line2D([], [], color='purple', label='Wind')\n",
    "plt.legend(handles=[red_line, green_line,blue_line, purp_line ], fontsize=15)\n",
    "plt.show()"
   ]
  },
  {
   "cell_type": "markdown",
   "metadata": {},
   "source": [
    "#### Weather Line Graph for NO2:"
   ]
  },
  {
   "cell_type": "code",
   "execution_count": 3,
   "metadata": {},
   "outputs": [
    {
     "ename": "NameError",
     "evalue": "name 'dfw2020' is not defined",
     "output_type": "error",
     "traceback": [
      "\u001b[0;31m---------------------------------------------------------------------------\u001b[0m",
      "\u001b[0;31mNameError\u001b[0m                                 Traceback (most recent call last)",
      "\u001b[0;32m<ipython-input-3-c6728b2a6e48>\u001b[0m in \u001b[0;36m<module>\u001b[0;34m\u001b[0m\n\u001b[1;32m      8\u001b[0m \u001b[0;34m\u001b[0m\u001b[0m\n\u001b[1;32m      9\u001b[0m \u001b[0;31m# no2 2020\u001b[0m\u001b[0;34m\u001b[0m\u001b[0;34m\u001b[0m\u001b[0m\n\u001b[0;32m---> 10\u001b[0;31m \u001b[0mdfw20s\u001b[0m \u001b[0;34m=\u001b[0m \u001b[0mdfw2020\u001b[0m\u001b[0;34m[\u001b[0m\u001b[0;34m:\u001b[0m\u001b[0;34m:\u001b[0m\u001b[0;36m11\u001b[0m\u001b[0;34m]\u001b[0m\u001b[0;34m\u001b[0m\u001b[0m\n\u001b[0m\u001b[1;32m     11\u001b[0m \u001b[0mytemp\u001b[0m \u001b[0;34m=\u001b[0m \u001b[0mdfw20s\u001b[0m\u001b[0;34m[\u001b[0m\u001b[0;34m'max temp'\u001b[0m\u001b[0;34m]\u001b[0m\u001b[0;34m\u001b[0m\u001b[0m\n\u001b[1;32m     12\u001b[0m \u001b[0mywind\u001b[0m \u001b[0;34m=\u001b[0m \u001b[0mdfw20s\u001b[0m\u001b[0;34m[\u001b[0m\u001b[0;34m'average wind speed'\u001b[0m\u001b[0;34m]\u001b[0m\u001b[0;34m\u001b[0m\u001b[0m\n",
      "\u001b[0;31mNameError\u001b[0m: name 'dfw2020' is not defined"
     ]
    },
    {
     "data": {
      "image/png": "[encoded data removed]",
      "text/plain": [
       "<Figure size 1440x720 with 1 Axes>"
      ]
     },
     "metadata": {
      "needs_background": "light"
     },
     "output_type": "display_data"
    }
   ],
   "source": [
    "#setup plot\n",
    "fig, ax = plt.subplots(figsize=(20,10))\n",
    "\n",
    "#axes\n",
    "ax.set_xlim(left=0)\n",
    "ax.spines['right'].set_visible(False)\n",
    "ax.spines['top'].set_visible(False)\n",
    "\n",
    "# no2 2020\n",
    "dfw20s = dfw2020[::11]\n",
    "ytemp = dfw20s['max temp']\n",
    "ywind = dfw20s['average wind speed']\n",
    "yno = dfw20s['no2']\n",
    "yrain = dfw20s['precipitation']\n",
    "plt.plot(ytemp, color='orange', label=\"temp\")\n",
    "plt.plot(dfw2020['max temp'], color='lightgray')\n",
    "plt.plot(yno, color='green', label=\"no3\")\n",
    "plt.plot(dfw2020['no2'], color='lightgray')\n",
    "plt.plot(yrain, color='purple', label=\"rain\")\n",
    "plt.plot(ywind, color='blue',label=\"wind\")\n",
    "plt.plot(dfw2020['average wind speed'], color='lightgray',)\n",
    "\n",
    "#labels\n",
    "plt.title(\"No Significant Change in Wind to Account for Drop in NO2\", fontsize=25)\n",
    "plt.ylabel('Normalized Units', fontsize=20)\n",
    "plt.xlabel('Date in 2020', fontsize=20)\n",
    "plt.xticks([0,30,60,90,120], [\"Jan 1st\", \"Feb 1st\", \"March 1st\", \"April 1st\", \"May 1st\"], fontsize=15)\n",
    "plt.yticks(fontsize=15)\n",
    "\n",
    "#legend\n",
    "blue_line = mlines.Line2D([], [], color='blue', label='Rain')\n",
    "green_line = mlines.Line2D([], [], color='green', label='NO2')\n",
    "red_line = mlines.Line2D([], [], color='orange', label='Temperature')\n",
    "purp_line = mlines.Line2D([], [], color='purple', label='Wind')\n",
    "plt.legend(handles=[red_line, green_line,blue_line, purp_line ], fontsize=15)\n",
    "plt.show()"
   ]
  },
  {
   "cell_type": "markdown",
   "metadata": {},
   "source": [
    "#### Weather Line Graph for CO:"
   ]
  },
  {
   "cell_type": "code",
   "execution_count": null,
   "metadata": {},
   "outputs": [],
   "source": [
    "#setup plot\n",
    "fig, ax = plt.subplots(figsize=(20,10))\n",
    "\n",
    "#axes\n",
    "ax.set_xlim(left=0)\n",
    "ax.spines['right'].set_visible(False)\n",
    "ax.spines['top'].set_visible(False)\n",
    "\n",
    "# no2 2020\n",
    "dfw20s = dfw2020[::11]\n",
    "ytemp = dfw20s['max temp']\n",
    "ywind = dfw20s['average wind speed']\n",
    "yco = dfw20s['co']\n",
    "yrain = dfw20s['precipitation']\n",
    "plt.plot(ytemp, color='orange')\n",
    "plt.plot(dfw2020['max temp'], color='lightgray')\n",
    "plt.plot(yco, color='green')\n",
    "plt.plot(dfw2020['co'], color='lightgray')\n",
    "plt.plot(yrain, color='purple')\n",
    "plt.plot(ywind, color='blue')\n",
    "plt.plot(dfw2020['average wind speed'], color='lightgray')\n",
    "\n",
    "#labels\n",
    "plt.title(\"No Significant Change in Wind to Account for Drop in CO\", fontsize=25)\n",
    "plt.ylabel('Normalized Units', fontsize=20)\n",
    "plt.xlabel('Date in 2020', fontsize=20)\n",
    "plt.xticks([0,30,60,90,120], [\"Jan 1st\", \"Feb 1st\", \"March 1st\", \"April 1st\", \"May 1st\"], fontsize=15)\n",
    "plt.yticks(fontsize=15)\n",
    "\n",
    "#legend\n",
    "blue_line = mlines.Line2D([], [], color='blue', label='Rain')\n",
    "green_line = mlines.Line2D([], [], color='green', label='CO')\n",
    "red_line = mlines.Line2D([], [], color='orange', label='Temperature')\n",
    "purp_line = mlines.Line2D([], [], color='purple', label='Wind')\n",
    "plt.legend(handles=[red_line, green_line,blue_line, purp_line ], fontsize=15)\n",
    "plt.show()"
   ]
  },
  {
   "cell_type": "markdown",
   "metadata": {},
   "source": [
    "#### Summary:"
   ]
  },
  {
   "cell_type": "markdown",
   "metadata": {},
   "source": [
    "Weather affects air quality in many ways. With an increase in temperature comes an increase in molecule speed and therefore collisions. These collisions result in chemical reactions. The most noteworthy is ozone (O3). In addition to temperature wind and precipitation have an effect on the air quality in a given location. Wind will push contaminants away from the area. Precipitation will act as net of filtration nodes picking up contaminants as gravity pulls this net of nodes to the surface and the ground will filter these contaminants from said nodes. Resulting in less particulate mater (PM25) and all contaminants existing in PM25(all targeted contaminants and more). The above graphs show the relationship between these factors. It is important to note that this typical behavior is not the cause of the decrese in pollutant levels. "
   ]
  },
  {
   "cell_type": "markdown",
   "metadata": {},
   "source": [
    "### Boxplots of Pollution Levels through 2018, 2019, and 2020:"
   ]
  },
  {
   "cell_type": "markdown",
   "metadata": {},
   "source": [
    "These boxplots display the AQI levels of each pollutant. We will use the same timeframe of the first phase lockdown dates of 2020 (March 19th to May 8th), throughout 2018 and 2019 as well. This way, we can compare the air quality during the lockdown in 2020 to previous years' air quality."
   ]
  },
  {
   "cell_type": "markdown",
   "metadata": {},
   "source": [
    "#### Boxplot for pm2.5:"
   ]
  },
  {
   "cell_type": "code",
   "execution_count": 4,
   "metadata": {},
   "outputs": [
    {
     "ename": "NameError",
     "evalue": "name 'df_pm25_lockdown' is not defined",
     "output_type": "error",
     "traceback": [
      "\u001b[0;31m---------------------------------------------------------------------------\u001b[0m",
      "\u001b[0;31mNameError\u001b[0m                                 Traceback (most recent call last)",
      "\u001b[0;32m<ipython-input-4-fa059c6a643a>\u001b[0m in \u001b[0;36m<module>\u001b[0;34m\u001b[0m\n\u001b[1;32m      1\u001b[0m \u001b[0;31m#filter data to only include lockdown dates\u001b[0m\u001b[0;34m\u001b[0m\u001b[0;34m\u001b[0m\u001b[0m\n\u001b[0;32m----> 2\u001b[0;31m \u001b[0mdf_pm25_lockdown\u001b[0m \u001b[0;34m=\u001b[0m \u001b[0mdf_pm25_lockdown\u001b[0m\u001b[0;34m.\u001b[0m\u001b[0mloc\u001b[0m\u001b[0;34m[\u001b[0m\u001b[0mlockdown_dates_2018\u001b[0m \u001b[0;34m|\u001b[0m \u001b[0mlockdown_dates_2019\u001b[0m \u001b[0;34m|\u001b[0m \u001b[0mlockdown_dates_2020\u001b[0m\u001b[0;34m]\u001b[0m\u001b[0;34m\u001b[0m\u001b[0m\n\u001b[0m\u001b[1;32m      3\u001b[0m \u001b[0;34m\u001b[0m\u001b[0m\n\u001b[1;32m      4\u001b[0m \u001b[0;31m#drop rows from each year if at least one year has a missing value\u001b[0m\u001b[0;34m\u001b[0m\u001b[0;34m\u001b[0m\u001b[0m\n\u001b[1;32m      5\u001b[0m pm25_dates_missing_all_years = ['2018-04-05', '2018-04-06', '2018-04-07', '2019-04-05', '2019-04-06', '2019-04-07',\n",
      "\u001b[0;31mNameError\u001b[0m: name 'df_pm25_lockdown' is not defined"
     ]
    }
   ],
   "source": [
    "#filter data to only include lockdown dates\n",
    "df_pm25_lockdown = df_pm25_lockdown.loc[lockdown_dates_2018 | lockdown_dates_2019 | lockdown_dates_2020]\n",
    "\n",
    "#drop rows from each year if at least one year has a missing value\n",
    "pm25_dates_missing_all_years = ['2018-04-05', '2018-04-06', '2018-04-07', '2019-04-05', '2019-04-06', '2019-04-07',\n",
    "                     '2020-04-05', '2020-04-06', '2020-04-07']\n",
    "df_pm25_lockdown = df_pm25_lockdown[~df_pm25_lockdown['date'].isin(pm25_dates_missing)]\n",
    "\n",
    "#add year column\n",
    "df_pm25_lockdown['year'] = df_pm25_lockdown['date'].dt.year\n",
    "\n",
    "#set up color palette\n",
    "years = df_pm25_lockdown['year'].unique()\n",
    "palette = dict(zip(years, sns.color_palette()))\n",
    "\n",
    "#generate boxplots\n",
    "ax = sns.boxplot(x='year', y='pm25', data=df_pm25_lockdown, palette=palette)\n",
    "ax.set_title('pm2.5 Emissions Have Dropped in 2020', loc='left')\n",
    "ax.set_ylabel('AQI Level of pm2.5')\n",
    "ax.set_xlabel('Year');"
   ]
  },
  {
   "cell_type": "markdown",
   "metadata": {},
   "source": [
    "!!!INTERPRETATION & WHAT SHOULD BE LEARNED FROM THIS PLOT!!!"
   ]
  },
  {
   "cell_type": "markdown",
   "metadata": {},
   "source": [
    "\n",
    "#### Boxplot for O3:"
   ]
  },
  {
   "cell_type": "code",
   "execution_count": 35,
   "metadata": {},
   "outputs": [
    {
     "data": {
      "image/png": "[encoded data removed]",
      "text/plain": [
       "<Figure size 432x288 with 1 Axes>"
      ]
     },
     "metadata": {
      "needs_background": "light"
     },
     "output_type": "display_data"
    }
   ],
   "source": [
    "#filter data to only include lockdown dates\n",
    "df_o3_lockdown = df_o3_lockdown.loc[lockdown_dates_2018 | lockdown_dates_2019 | lockdown_dates_2020]\n",
    "\n",
    "#no rows with missing data from any year: check!\n",
    "\n",
    "#add year column\n",
    "df_o3_lockdown['year'] = df_o3_lockdown['date'].dt.year\n",
    "\n",
    "#generate boxplots\n",
    "ax = sns.boxplot(x='year', y='o3', data=df_o3_lockdown, palette=palette)\n",
    "ax.set_title('O3 Emissions Have Dropped in 2020', loc='left')\n",
    "ax.set_ylabel('AQI Level of O3')\n",
    "ax.set_xlabel('Year');"
   ]
  },
  {
   "cell_type": "markdown",
   "metadata": {},
   "source": [
    "!!!INTERPRETATION & WHAT SHOULD BE LEARNED FROM THIS PLOT!!!"
   ]
  },
  {
   "cell_type": "markdown",
   "metadata": {},
   "source": [
    "#### Boxplot for NO2:"
   ]
  },
  {
   "cell_type": "code",
   "execution_count": 36,
   "metadata": {},
   "outputs": [
    {
     "data": {
      "image/png": "[encoded data removed]",
      "text/plain": [
       "<Figure size 432x288 with 1 Axes>"
      ]
     },
     "metadata": {
      "needs_background": "light"
     },
     "output_type": "display_data"
    }
   ],
   "source": [
    "#filter data to only include lockdown dates\n",
    "df_no2_lockdown = df_no2_lockdown.loc[lockdown_dates_2018 | lockdown_dates_2019 | lockdown_dates_2020]\n",
    "\n",
    "#no rows with missing data from any year: check!\n",
    "\n",
    "#add year column\n",
    "df_no2_lockdown['year'] = df_no2_lockdown['date'].dt.year\n",
    "\n",
    "#generate boxplots\n",
    "ax = sns.boxplot(x='year', y='no2', data=df_no2_lockdown, palette=palette)\n",
    "ax.set_title('NO2 Emissions Have Dropped in 2020', loc='left')\n",
    "ax.set_ylabel('AQI Level of NO2')\n",
    "ax.set_xlabel('Year');"
   ]
  },
  {
   "cell_type": "markdown",
   "metadata": {},
   "source": [
    "!!!INTERPRETATION & WHAT SHOULD BE LEARNED FROM THIS PLOT!!!"
   ]
  },
  {
   "cell_type": "markdown",
   "metadata": {},
   "source": [
    "#### Boxplot for CO:"
   ]
  },
  {
   "cell_type": "code",
   "execution_count": 37,
   "metadata": {
    "scrolled": true
   },
   "outputs": [
    {
     "data": {
      "image/png": "[encoded data removed]",
      "text/plain": [
       "<Figure size 432x288 with 1 Axes>"
      ]
     },
     "metadata": {
      "needs_background": "light"
     },
     "output_type": "display_data"
    }
   ],
   "source": [
    "#filter data to only include lockdown dates\n",
    "df_co_lockdown = df_co_lockdown.loc[lockdown_dates_2018 | lockdown_dates_2019 | lockdown_dates_2020]\n",
    "\n",
    "#no rows with missing data from any year: check!\n",
    "\n",
    "#add year column\n",
    "df_co_lockdown['year'] = df_co_lockdown['date'].dt.year\n",
    "\n",
    "#generate boxplots\n",
    "ax = sns.boxplot(x='year', y='co', data=df_co_lockdown, palette=palette)\n",
    "ax.set_title('CO Emissions Have Slightly Dropped in 2020', loc='left')\n",
    "ax.set_ylabel('AQI Level of CO')\n",
    "ax.set_xlabel('Year');"
   ]
  },
  {
   "cell_type": "markdown",
   "metadata": {},
   "source": [
    "!!!INTERPRETATION & WHAT SHOULD BE LEARNED FROM THIS PLOT!!!"
   ]
  },
  {
   "cell_type": "markdown",
   "metadata": {},
   "source": [
    "### ANOVA Test for Change in Pollutant Levels:"
   ]
  },
  {
   "cell_type": "markdown",
   "metadata": {},
   "source": [
    "For each pollutant, we will run an ANOVA Test to find out if there is a significant difference in the means of the pollutant levels during the lockdown time period in 2018, 2019, and 2020. We use this approach because this test works well when there are multiple groups to consider (2018, 2019, and 2020)."
   ]
  },
  {
   "cell_type": "markdown",
   "metadata": {},
   "source": [
    "#### Check Assumptions of ANOVA for pm2.5:\n",
    "- Residuals are normally distributed\n",
    "- Homogeneity of variances\n",
    "- Observations are sampled independently from each other (True)"
   ]
  },
  {
   "cell_type": "markdown",
   "metadata": {},
   "source": [
    "Let's check the first assumption! We use the Shapiro-Wilk test in order to find out if the residuals are normally distributed."
   ]
  },
  {
   "cell_type": "code",
   "execution_count": 38,
   "metadata": {},
   "outputs": [
    {
     "name": "stdout",
     "output_type": "stream",
     "text": [
      "0.9838659167289734 0.07666698843240738\n",
      "Fail to reject null hypothesis. Residuals are normally distributed.\n"
     ]
    }
   ],
   "source": [
    "#get model\n",
    "model = ols('pm25 ~ C(year)', data=df_pm25_lockdown).fit()\n",
    "\n",
    "#Shapiro-Wilk, null hypothesis: data is drawn from normal distribution\n",
    "w, pvalue = sp.stats.shapiro(model.resid)\n",
    "print(w, pvalue)\n",
    "if pvalue > .01:\n",
    "    print(\"Fail to reject null hypothesis. Residuals are normally distributed.\")"
   ]
  },
  {
   "cell_type": "markdown",
   "metadata": {},
   "source": [
    "Great, the first assumption has passed. Let's check the second assumption! We use the Bartlett test in order to find out if the variances are homogeneous."
   ]
  },
  {
   "cell_type": "code",
   "execution_count": 39,
   "metadata": {},
   "outputs": [
    {
     "name": "stdout",
     "output_type": "stream",
     "text": [
      "1.8402806806403973 0.3984631167189966\n",
      "Fail to reject null hypothesis. Variances are equal.\n"
     ]
    }
   ],
   "source": [
    "#separate data into years\n",
    "pm25_2018 = df_pm25_lockdown[df_pm25_lockdown['year'] == 2018]['pm25']\n",
    "pm25_2019 = df_pm25_lockdown[df_pm25_lockdown['year'] == 2019]['pm25']\n",
    "pm25_2020 = df_pm25_lockdown[df_pm25_lockdown['year'] == 2020]['pm25']\n",
    "\n",
    "#Bartlett, null hypothesis: samples from populations have equal variances\n",
    "w, pvalue = sp.stats.bartlett(pm25_2018, pm25_2019, pm25_2020)\n",
    "print(w, pvalue)\n",
    "if pvalue > .01:\n",
    "    print(\"Fail to reject null hypothesis. Variances are equal.\")"
   ]
  },
  {
   "cell_type": "markdown",
   "metadata": {},
   "source": [
    "Great, the second assumption has passed. Lastly, we know that the observations were sampled independently from each other. We are ready to start the test."
   ]
  },
  {
   "cell_type": "markdown",
   "metadata": {},
   "source": [
    "#### Assumptions passed. Now perform test for pm2.5:"
   ]
  },
  {
   "cell_type": "code",
   "execution_count": 40,
   "metadata": {},
   "outputs": [
    {
     "data": {
      "text/html": [
       "<div>\n",
       "<style scoped>\n",
       "    .dataframe tbody tr th:only-of-type {\n",
       "        vertical-align: middle;\n",
       "    }\n",
       "\n",
       "    .dataframe tbody tr th {\n",
       "        vertical-align: top;\n",
       "    }\n",
       "\n",
       "    .dataframe thead th {\n",
       "        text-align: right;\n",
       "    }\n",
       "</style>\n",
       "<table border=\"1\" class=\"dataframe\">\n",
       "  <thead>\n",
       "    <tr style=\"text-align: right;\">\n",
       "      <th></th>\n",
       "      <th>sum_sq</th>\n",
       "      <th>df</th>\n",
       "      <th>F</th>\n",
       "      <th>PR(&gt;F)</th>\n",
       "    </tr>\n",
       "  </thead>\n",
       "  <tbody>\n",
       "    <tr>\n",
       "      <th>C(year)</th>\n",
       "      <td>9738.447500</td>\n",
       "      <td>2.0</td>\n",
       "      <td>18.257658</td>\n",
       "      <td>8.277684e-08</td>\n",
       "    </tr>\n",
       "    <tr>\n",
       "      <th>Residual</th>\n",
       "      <td>39204.145833</td>\n",
       "      <td>147.0</td>\n",
       "      <td>NaN</td>\n",
       "      <td>NaN</td>\n",
       "    </tr>\n",
       "  </tbody>\n",
       "</table>\n",
       "</div>"
      ],
      "text/plain": [
       "                sum_sq     df          F        PR(>F)\n",
       "C(year)    9738.447500    2.0  18.257658  8.277684e-08\n",
       "Residual  39204.145833  147.0        NaN           NaN"
      ]
     },
     "execution_count": 40,
     "metadata": {},
     "output_type": "execute_result"
    }
   ],
   "source": [
    "#get ANOVA table\n",
    "anova_table = sm.stats.anova_lm(model, typ=2)\n",
    "anova_table"
   ]
  },
  {
   "cell_type": "markdown",
   "metadata": {},
   "source": [
    "The p-value we get from the ANOVA test is significant (P<.01) so we can conclude that there are significant differences among the years. To know the pairs of significant different years, we will perform multiple pairwise comparison analysis using the Tukey HSD test."
   ]
  },
  {
   "cell_type": "code",
   "execution_count": 41,
   "metadata": {
    "scrolled": false
   },
   "outputs": [
    {
     "name": "stdout",
     "output_type": "stream",
     "text": [
      "Multiple Comparison of Means - Tukey HSD,FWER=0.05\n",
      "===============================================\n",
      "group1 group2 meandiff  lower    upper   reject\n",
      "-----------------------------------------------\n",
      " 2018   2019  -10.7451 -18.4028 -3.0874   True \n",
      " 2018   2020  -19.8002 -27.5766 -12.0239  True \n",
      " 2019   2020  -9.0551  -16.8315 -1.2788   True \n",
      "-----------------------------------------------\n"
     ]
    }
   ],
   "source": [
    "# perform multiple pairwise comparison (Tukey HSD)\n",
    "m_comp = pairwise_tukeyhsd(endog=df_pm25_lockdown['pm25'], groups=df_pm25_lockdown['year'], alpha=0.05)\n",
    "print(m_comp)"
   ]
  },
  {
   "cell_type": "markdown",
   "metadata": {},
   "source": [
    "The above results from the Tukey HSD test suggest that all pairwise comparisons for the years reject the null hypothesis and indicate statistical significant differences. **In particular, we can conclude that the 2020 lockdown period has pm2.5 pollution levels that are significantly different from the past two years.**\n",
    "\n",
    "Now we can move on to the other three pollutants."
   ]
  },
  {
   "cell_type": "markdown",
   "metadata": {},
   "source": [
    "#### Check Assumptions of ANOVA for O3:\n",
    "- Residuals are normally distributed\n",
    "- Homogeneity of variances\n",
    "- Observation are sampled independently from each another (True)"
   ]
  },
  {
   "cell_type": "markdown",
   "metadata": {},
   "source": [
    "Let's check the first assumption."
   ]
  },
  {
   "cell_type": "code",
   "execution_count": 42,
   "metadata": {},
   "outputs": [
    {
     "name": "stdout",
     "output_type": "stream",
     "text": [
      "0.896828293800354 6.7878551668343334e-09\n",
      "Reject null hypothesis. Residuals are not normally distributed.\n"
     ]
    }
   ],
   "source": [
    "#get model\n",
    "model = ols('o3 ~ C(year)', data=df_o3_lockdown).fit()\n",
    "\n",
    "#Shapiro-Wilk null hypothesis: data is drawn from normal distribution\n",
    "w, pvalue = sp.stats.shapiro(model.resid)\n",
    "print(w, pvalue)\n",
    "if pvalue > .01:\n",
    "    print(\"Fail to reject null hypothesis. Residuals are normally distributed.\")\n",
    "else:\n",
    "    print(\"Reject null hypothesis. Residuals are not normally distributed.\")"
   ]
  },
  {
   "cell_type": "markdown",
   "metadata": {},
   "source": [
    "Looks like we did not pass the first assumption, so we are unable to perform the test. Let's check the remaining two pollutants."
   ]
  },
  {
   "cell_type": "markdown",
   "metadata": {},
   "source": [
    "#### Check Assumptions of ANOVA for NO2:\n",
    "- Residuals are normally distributed\n",
    "- Homogeneity of variances\n",
    "- Observation are sampled independently from each another (True)"
   ]
  },
  {
   "cell_type": "markdown",
   "metadata": {},
   "source": [
    "Let's check the first assumption."
   ]
  },
  {
   "cell_type": "code",
   "execution_count": 44,
   "metadata": {
    "scrolled": true
   },
   "outputs": [
    {
     "name": "stdout",
     "output_type": "stream",
     "text": [
      "0.9748375415802002 0.006635130383074284\n",
      "Reject null hypothesis. Residuals are not normally distributed.\n"
     ]
    }
   ],
   "source": [
    "#get model\n",
    "model = ols('no2 ~ C(year)', data=df_no2_lockdown).fit()\n",
    "\n",
    "#Shapiro-Wilk null hypothesis: data is drawn from normal distribution\n",
    "w, pvalue = sp.stats.shapiro(model.resid)\n",
    "print(w, pvalue)\n",
    "if pvalue > .01:\n",
    "    print(\"Fail to reject null hypothesis. Residuals are normally distributed.\")\n",
    "else:\n",
    "    print(\"Reject null hypothesis. Residuals are not normally distributed.\")"
   ]
  },
  {
   "cell_type": "markdown",
   "metadata": {},
   "source": [
    "Looks like we did not pass the first assumption, so we are unable to perform the test. Let's check the last pollutant."
   ]
  },
  {
   "cell_type": "markdown",
   "metadata": {},
   "source": [
    "#### Check Assumptions of ANOVA for CO:\n",
    "- Residuals are normally distributed\n",
    "- Homogeneity of variances\n",
    "- Observation are sampled independently from each another (True)"
   ]
  },
  {
   "cell_type": "markdown",
   "metadata": {},
   "source": [
    "Let's check the first assumption."
   ]
  },
  {
   "cell_type": "code",
   "execution_count": 46,
   "metadata": {},
   "outputs": [
    {
     "name": "stdout",
     "output_type": "stream",
     "text": [
      "0.9343783259391785 1.645439738240384e-06\n",
      "Reject null hypothesis. Residuals are not normally distributed.\n"
     ]
    }
   ],
   "source": [
    "#get model\n",
    "model = ols('co ~ C(year)', data=df_co_lockdown).fit()\n",
    "\n",
    "#use Shapiro-Wilk test to check normal distribution of residuals\n",
    "#null hypothesis: data is drawn from normal distribution\n",
    "w, pvalue = sp.stats.shapiro(model.resid)\n",
    "print(w, pvalue)\n",
    "if pvalue > .01:\n",
    "    print(\"Fail to reject null hypothesis. Residuals are normally distributed.\")\n",
    "else:\n",
    "    print(\"Reject null hypothesis. Residuals are not normally distributed.\")"
   ]
  },
  {
   "cell_type": "markdown",
   "metadata": {},
   "source": [
    "Looks like we did not pass the first assumption, so we are unable to perform the test. Overall, although the ANOVA test did not work for three of the pollutants, we were still able to come to an important conclusion for pm2.5. Next, we will use the permutation test as this test has less assumptions to pass."
   ]
  },
  {
   "cell_type": "markdown",
   "metadata": {},
   "source": [
    "### Permutation Test:\n",
    "In these permutation tests, we are assessing whether the pollutant in question comes from two different distributions. We want to check if whether or not being in lockdown has affected the level of pollutants recorded. Therefore, we will create an extra boolean column in the data telling whether or not LA county was in lockdown during that date. We are using March 19th as the date that lockdown started. We will compare the data for when LA **was** in lockdown versus when LA **was not**. To do this, we will take the average AQI level of each group (lockdown and not lockdown) and use the difference of their means as the test statistic. When doing this on the actual data, it will be called the observed test statistic.\n",
    "\n",
    "Next, we will simulate data under the null hypothesis which is that being in lockdown has no effect on the AQI levels of the pollutants. To do this, we will shuffle the boolean lockdown column so that they label random data points. We will then calculate the difference in means of the two groups once again. We will repeat this process 1000 times to accumulate 1000 different simulated test statistics that were formed under the null hypothesis. Finally, we will calculate a p-value by counting the number of times the simulated test statistic was greater than or equal to the observed test statistic (difference in means). We will use a significance level of .05 to determine whether or not the results are statistically significant\n",
    "\n",
    "To help visualize this process, we will plot a histogram of the distribution of the test statistic when simulated under the null hypothesis. The red dot on the histogram will represent where the observed test statistic actually lies. We will then use a significance level of .05 to determine whether there is a significant difference between the two groups.\n",
    "\n",
    "The only assumption for the permutation test is that the observations are sampled independently from each other, which we already know is true. Thus, we can start testing!\n",
    "\n",
    "#### Permutation Test for pm2.5:"
   ]
  },
  {
   "cell_type": "code",
   "execution_count": 22,
   "metadata": {},
   "outputs": [
    {
     "data": {
      "text/html": [
       "<div>\n",
       "<style scoped>\n",
       "    .dataframe tbody tr th:only-of-type {\n",
       "        vertical-align: middle;\n",
       "    }\n",
       "\n",
       "    .dataframe tbody tr th {\n",
       "        vertical-align: top;\n",
       "    }\n",
       "\n",
       "    .dataframe thead th {\n",
       "        text-align: right;\n",
       "    }\n",
       "</style>\n",
       "<table border=\"1\" class=\"dataframe\">\n",
       "  <thead>\n",
       "    <tr style=\"text-align: right;\">\n",
       "      <th></th>\n",
       "      <th>date</th>\n",
       "      <th>pm25</th>\n",
       "      <th>o3</th>\n",
       "      <th>no2</th>\n",
       "      <th>co</th>\n",
       "      <th>lockdown</th>\n",
       "    </tr>\n",
       "  </thead>\n",
       "  <tbody>\n",
       "    <tr>\n",
       "      <th>0</th>\n",
       "      <td>2018-01-01</td>\n",
       "      <td>133</td>\n",
       "      <td>31</td>\n",
       "      <td>25</td>\n",
       "      <td>14</td>\n",
       "      <td>False</td>\n",
       "    </tr>\n",
       "    <tr>\n",
       "      <th>1</th>\n",
       "      <td>2018-01-02</td>\n",
       "      <td>148</td>\n",
       "      <td>19</td>\n",
       "      <td>39</td>\n",
       "      <td>24</td>\n",
       "      <td>False</td>\n",
       "    </tr>\n",
       "    <tr>\n",
       "      <th>2</th>\n",
       "      <td>2018-01-03</td>\n",
       "      <td>133</td>\n",
       "      <td>4</td>\n",
       "      <td>41</td>\n",
       "      <td>17</td>\n",
       "      <td>False</td>\n",
       "    </tr>\n",
       "  </tbody>\n",
       "</table>\n",
       "</div>"
      ],
      "text/plain": [
       "        date  pm25  o3  no2  co  lockdown\n",
       "0 2018-01-01   133  31   25  14     False\n",
       "1 2018-01-02   148  19   39  24     False\n",
       "2 2018-01-03   133   4   41  17     False"
      ]
     },
     "execution_count": 22,
     "metadata": {},
     "output_type": "execute_result"
    }
   ],
   "source": [
    "lockdown = pd.to_datetime(\"2020-03-19\")\n",
    "dfaqi2 = dfaqi\n",
    "dfaqi2['lockdown'] = dfaqi['date']>= lockdown\n",
    "dfaqi2 = dfaqi2.reset_index(drop=True)\n",
    "dfaqi2.head(3)"
   ]
  },
  {
   "cell_type": "code",
   "execution_count": 23,
   "metadata": {},
   "outputs": [
    {
     "data": {
      "text/plain": [
       "-14.279166666666661"
      ]
     },
     "execution_count": 23,
     "metadata": {},
     "output_type": "execute_result"
    }
   ],
   "source": [
    "pm25_and_lockdown = dfaqi2[['pm25', 'lockdown']]\n",
    "pm25_and_lockdown = pm25_and_lockdown.replace(0, np.nan)\n",
    "pm25_and_lockdown = pm25_and_lockdown.dropna()\n",
    "\n",
    "obs_diff = (pm25_and_lockdown.groupby('lockdown')['pm25'].mean().diff().iloc[-1])\n",
    "obs_diff"
   ]
  },
  {
   "cell_type": "code",
   "execution_count": 35,
   "metadata": {},
   "outputs": [
    {
     "data": {
      "text/plain": [
       "Text(0.5, 0, 'Difference in means')"
      ]
     },
     "execution_count": 35,
     "metadata": {},
     "output_type": "execute_result"
    },
    {
     "data": {
      "image/png": "[encoded data removed]",
      "text/plain": [
       "<Figure size 432x288 with 1 Axes>"
      ]
     },
     "metadata": {
      "needs_background": "light"
     },
     "output_type": "display_data"
    }
   ],
   "source": [
    "n_repititions = 1000\n",
    "differences = []\n",
    "\n",
    "for _ in range(n_repititions):\n",
    "    shuffled_pm25 = (\n",
    "    pm25_and_lockdown['pm25']\n",
    "    .sample(replace=False, frac=1)\n",
    "    .reset_index(drop=True)\n",
    "    )\n",
    "    \n",
    "    original_and_shuffled = (pm25_and_lockdown.assign(**{'shuffled_pm25': shuffled_pm25}))\n",
    "    group_means = (original_and_shuffled.groupby('lockdown').mean().loc[:, 'shuffled_pm25'])\n",
    "    difference = group_means.diff().iloc[-1]\n",
    "    differences.append(difference)\n",
    "    \n",
    "pd.Series(differences).plot(kind='hist', density=True)\n",
    "plt.scatter(obs_diff, 0, color='red', s=40)\n",
    "plt.title('1000 simulations of difference in means of counts between lockdown groups of pm2.5')\n",
    "plt.xlabel(\"Difference in means\")"
   ]
  },
  {
   "cell_type": "code",
   "execution_count": 51,
   "metadata": {},
   "outputs": [
    {
     "data": {
      "text/plain": [
       "0.0"
      ]
     },
     "execution_count": 51,
     "metadata": {},
     "output_type": "execute_result"
    }
   ],
   "source": [
    "pval = np.count_nonzero(differences<= obs_diff) / n_repititions\n",
    "pval"
   ]
  },
  {
   "cell_type": "code",
   "execution_count": 42,
   "metadata": {},
   "outputs": [
    {
     "data": {
      "text/plain": [
       "Ks_2sampResult(statistic=0.3104166666666667, pvalue=0.00022811685245704982)"
      ]
     },
     "execution_count": 42,
     "metadata": {},
     "output_type": "execute_result"
    }
   ],
   "source": [
    "from scipy.stats import ks_2samp\n",
    "gp1 = pm25_and_lockdown.loc[pm25_and_lockdown.lockdown==True, 'pm25']\n",
    "gp2 = pm25_and_lockdown.loc[pm25_and_lockdown.lockdown==False, 'pm25']\n",
    "ks_2samp(gp1, gp2)"
   ]
  },
  {
   "cell_type": "markdown",
   "metadata": {},
   "source": [
    "With a p value of zero, we can take from this test that it is statistically significant the difference between the counts of pm2.5 during lockdown and when it isn't lockdown."
   ]
  },
  {
   "cell_type": "markdown",
   "metadata": {},
   "source": [
    "#### Permutation Test for O3:"
   ]
  },
  {
   "cell_type": "code",
   "execution_count": 43,
   "metadata": {},
   "outputs": [
    {
     "data": {
      "text/plain": [
       "1.2823383084577102"
      ]
     },
     "execution_count": 43,
     "metadata": {},
     "output_type": "execute_result"
    }
   ],
   "source": [
    "o3_and_lockdown = dfaqi2[['o3', 'lockdown']]\n",
    "o3_and_lockdown = o3_and_lockdown.replace(0, np.nan)\n",
    "o3_and_lockdown = o3_and_lockdown.dropna()\n",
    "\n",
    "obs_diff = (o3_and_lockdown.groupby('lockdown')['o3'].mean().diff().iloc[-1])\n",
    "obs_diff"
   ]
  },
  {
   "cell_type": "code",
   "execution_count": 44,
   "metadata": {},
   "outputs": [
    {
     "data": {
      "text/plain": [
       "Text(0.5, 0, 'Difference in means')"
      ]
     },
     "execution_count": 44,
     "metadata": {},
     "output_type": "execute_result"
    },
    {
     "data": {
      "image/png": "[encoded data removed]",
      "text/plain": [
       "<Figure size 432x288 with 1 Axes>"
      ]
     },
     "metadata": {
      "needs_background": "light"
     },
     "output_type": "display_data"
    }
   ],
   "source": [
    "n_repititions = 1000\n",
    "differences = []\n",
    "\n",
    "for _ in range(n_repititions):\n",
    "    shuffled_o3 = (\n",
    "    o3_and_lockdown['o3']\n",
    "    .sample(replace=False, frac=1)\n",
    "    .reset_index(drop=True)\n",
    "    )\n",
    "    \n",
    "    original_and_shuffled = (o3_and_lockdown.assign(**{'shuffled_o3': shuffled_o3}))\n",
    "    group_means = (original_and_shuffled.groupby('lockdown').mean().loc[:, 'shuffled_o3'])\n",
    "    difference = group_means.diff().iloc[-1]\n",
    "    differences.append(difference)\n",
    "    \n",
    "pd.Series(differences).plot(kind='hist', density=True)\n",
    "plt.scatter(obs_diff, 0, color='red', s=40)\n",
    "plt.title('1000 simulations of difference in means of counts between lockdown groups of o3')\n",
    "plt.xlabel(\"Difference in means\")"
   ]
  },
  {
   "cell_type": "code",
   "execution_count": 45,
   "metadata": {},
   "outputs": [
    {
     "data": {
      "text/plain": [
       "0.82"
      ]
     },
     "execution_count": 45,
     "metadata": {},
     "output_type": "execute_result"
    }
   ],
   "source": [
    "pval = np.count_nonzero(differences<= obs_diff) / n_repititions\n",
    "pval"
   ]
  },
  {
   "cell_type": "code",
   "execution_count": 46,
   "metadata": {},
   "outputs": [
    {
     "data": {
      "text/plain": [
       "Ks_2sampResult(statistic=0.16952004682470004, pvalue=0.11234862308225402)"
      ]
     },
     "execution_count": 46,
     "metadata": {},
     "output_type": "execute_result"
    }
   ],
   "source": [
    "gp1 = o3_and_lockdown.loc[o3_and_lockdown.lockdown==True, 'o3']\n",
    "gp2 = o3_and_lockdown.loc[o3_and_lockdown.lockdown==False, 'o3']\n",
    "ks_2samp(gp1, gp2)"
   ]
  },
  {
   "cell_type": "markdown",
   "metadata": {},
   "source": [
    "With a p value of 0.8, we can take from this test that it is not statistically significant the difference between the counts of o3 during lockdown and when it isn't lockdown. 0.8 is higher than our significant level and therefore does not pass the test."
   ]
  },
  {
   "cell_type": "markdown",
   "metadata": {},
   "source": [
    "#### Permutation Test for NO2:"
   ]
  },
  {
   "cell_type": "code",
   "execution_count": 47,
   "metadata": {},
   "outputs": [
    {
     "data": {
      "text/plain": [
       "-7.29526245280721"
      ]
     },
     "execution_count": 47,
     "metadata": {},
     "output_type": "execute_result"
    }
   ],
   "source": [
    "no2_and_lockdown = dfaqi2[['no2', 'lockdown']]\n",
    "no2_and_lockdown = no2_and_lockdown.replace(0, np.nan)\n",
    "no2_and_lockdown = no2_and_lockdown.dropna()\n",
    "\n",
    "obs_diff = (no2_and_lockdown.groupby('lockdown')['no2'].mean().diff().iloc[-1])\n",
    "obs_diff"
   ]
  },
  {
   "cell_type": "code",
   "execution_count": 51,
   "metadata": {},
   "outputs": [
    {
     "data": {
      "text/plain": [
       "Text(0.5, 0, 'Difference in means')"
      ]
     },
     "execution_count": 51,
     "metadata": {},
     "output_type": "execute_result"
    },
    {
     "data": {
      "image/png": "[encoded data removed]",
      "text/plain": [
       "<Figure size 432x288 with 1 Axes>"
      ]
     },
     "metadata": {
      "needs_background": "light"
     },
     "output_type": "display_data"
    }
   ],
   "source": [
    "n_repititions = 1000\n",
    "differences = []\n",
    "\n",
    "for _ in range(n_repititions):\n",
    "    shuffled_no2 = (\n",
    "    no2_and_lockdown['no2']\n",
    "    .sample(replace=False, frac=1)\n",
    "    .reset_index(drop=True)\n",
    "    )\n",
    "    \n",
    "    original_and_shuffled = (no2_and_lockdown.assign(**{'shuffled_no2': shuffled_no2}))\n",
    "    group_means = (original_and_shuffled.groupby('lockdown').mean().loc[:, 'shuffled_no2'])\n",
    "    difference = group_means.diff().iloc[-1]\n",
    "    differences.append(difference)\n",
    "    \n",
    "pd.Series(differences).plot(kind='hist', density=True)\n",
    "plt.scatter(obs_diff, 0, color='red', s=40)\n",
    "plt.title('1000 simulations of difference in means of counts between lockdown groups of no2')\n",
    "plt.xlabel(\"Difference in means\")"
   ]
  },
  {
   "cell_type": "code",
   "execution_count": 52,
   "metadata": {},
   "outputs": [
    {
     "data": {
      "text/plain": [
       "0.0"
      ]
     },
     "execution_count": 52,
     "metadata": {},
     "output_type": "execute_result"
    }
   ],
   "source": [
    "pval = np.count_nonzero(differences<= obs_diff) / n_repititions\n",
    "pval"
   ]
  },
  {
   "cell_type": "code",
   "execution_count": 53,
   "metadata": {},
   "outputs": [
    {
     "data": {
      "text/plain": [
       "Ks_2sampResult(statistic=0.41439532334673, pvalue=5.898226684841745e-08)"
      ]
     },
     "execution_count": 53,
     "metadata": {},
     "output_type": "execute_result"
    }
   ],
   "source": [
    "gp1 = no2_and_lockdown.loc[no2_and_lockdown.lockdown==True, 'no2']\n",
    "gp2 = no2_and_lockdown.loc[no2_and_lockdown.lockdown==False, 'no2']\n",
    "ks_2samp(gp1, gp2)"
   ]
  },
  {
   "cell_type": "markdown",
   "metadata": {},
   "source": [
    "With a p value of zero, we can take from this test that it is statistically significant the difference between the counts of no2 during lockdown and when it isn't lockdown."
   ]
  },
  {
   "cell_type": "markdown",
   "metadata": {},
   "source": [
    "#### Permutation Test for CO:"
   ]
  },
  {
   "cell_type": "code",
   "execution_count": 54,
   "metadata": {},
   "outputs": [
    {
     "data": {
      "text/plain": [
       "-2.9947058823529416"
      ]
     },
     "execution_count": 54,
     "metadata": {},
     "output_type": "execute_result"
    }
   ],
   "source": [
    "co_and_lockdown = dfaqi2[['co', 'lockdown']]\n",
    "co_and_lockdown = co_and_lockdown.replace(0, np.nan)\n",
    "co_and_lockdown = co_and_lockdown.dropna()\n",
    "\n",
    "obs_diff = (co_and_lockdown.groupby('lockdown')['co'].mean().diff().iloc[-1])\n",
    "obs_diff"
   ]
  },
  {
   "cell_type": "code",
   "execution_count": 55,
   "metadata": {},
   "outputs": [
    {
     "data": {
      "text/plain": [
       "Text(0.5, 0, 'Difference in means')"
      ]
     },
     "execution_count": 55,
     "metadata": {},
     "output_type": "execute_result"
    },
    {
     "data": {
      "image/png": "[encoded data removed]",
      "text/plain": [
       "<Figure size 432x288 with 1 Axes>"
      ]
     },
     "metadata": {
      "needs_background": "light"
     },
     "output_type": "display_data"
    }
   ],
   "source": [
    "n_repititions = 1000\n",
    "differences = []\n",
    "\n",
    "for _ in range(n_repititions):\n",
    "    shuffled_co = (\n",
    "    co_and_lockdown['co']\n",
    "    .sample(replace=False, frac=1)\n",
    "    .reset_index(drop=True)\n",
    "    )\n",
    "    \n",
    "    original_and_shuffled = (co_and_lockdown.assign(**{'shuffled_co': shuffled_co}))\n",
    "    group_means = (original_and_shuffled.groupby('lockdown').mean().loc[:, 'shuffled_co'])\n",
    "    difference = group_means.diff().iloc[-1]\n",
    "    differences.append(difference)\n",
    "    \n",
    "pd.Series(differences).plot(kind='hist', density=True)\n",
    "plt.scatter(obs_diff, 0, color='red', s=40)\n",
    "plt.title('1000 simulations of difference in means of counts between lockdown groups of co')\n",
    "plt.xlabel(\"Difference in means\")"
   ]
  },
  {
   "cell_type": "code",
   "execution_count": 56,
   "metadata": {},
   "outputs": [
    {
     "data": {
      "text/plain": [
       "0.0"
      ]
     },
     "execution_count": 56,
     "metadata": {},
     "output_type": "execute_result"
    }
   ],
   "source": [
    "pval = np.count_nonzero(differences<= obs_diff) / n_repititions\n",
    "pval"
   ]
  },
  {
   "cell_type": "code",
   "execution_count": 57,
   "metadata": {},
   "outputs": [
    {
     "data": {
      "text/plain": [
       "Ks_2sampResult(statistic=0.5753186274509804, pvalue=3.552713678800501e-15)"
      ]
     },
     "execution_count": 57,
     "metadata": {},
     "output_type": "execute_result"
    }
   ],
   "source": [
    "gp1 = co_and_lockdown.loc[co_and_lockdown.lockdown==True, 'co']\n",
    "gp2 = co_and_lockdown.loc[co_and_lockdown.lockdown==False, 'co']\n",
    "ks_2samp(gp1, gp2)"
   ]
  },
  {
   "cell_type": "markdown",
   "metadata": {},
   "source": [
    "With a p value of zero, we can take from this test that it is statistically significant the difference between the counts of co during lockdown and when it isn't lockdown."
   ]
  },
  {
   "cell_type": "markdown",
   "metadata": {},
   "source": [
    "# Ethics & Privacy"
   ]
  },
  {
   "cell_type": "markdown",
   "metadata": {},
   "source": [
    "The datasets we will be using are from the *World Air Quality* and the *National Centers for Environmental Information* project websites. Both host an open data platform allowing anyone to download a csv of air quality indexes and weather measurements of locations around the world. These websites give permission to anyone to utilize the data for projects or research. There are no privacy concerns regarding our datasets as the data are purely scientific, only including pollutant and weather measurements. There is no information on humans, their private data, or any other sensitive subjects. Therefore, there is no need to clean data in a way to preserve privacy.\n",
    "\n",
    "Regarding the collection of the data, we do not believe there are any human biases as the values are obtained through systematic tests. One potential bias, though, is that the station where the weather data are collected is not the same station where the pollutant data are collected. In addition, stations in different parts of LA County may result in different measurements for both weather and pollutant levels. However, by looking up the exact addresses of both the weather and pollutant data stations, we can see that the distance between them is only 5.6 miles, which is minimal relative to the entire county. Both stations are also located in the central downtown area, which is the most populated area of LA County and hence, is the most relevant part of the county to analyze. Therefore, we believe that the potential biases in the station locations will not drastically disrupt our analyses.\n",
    "\n",
    "Regarding our analyses, there may be a potential bias in comparing the non-lockdown time period with the lockdown time period, as there are other factors such as governmental policies that could have affected the pollution levels in the non-lockdown time period. In this case, the difference between lockdown versus non-lockdown pollution levels would be exaggerated due to a factor other than lockdown regulations. Despite this potential bias, though, we believe that since we are comparing the lockdown time period to two years of non-lockdown time period, we have a large timeframe of comparison in which any unusual activity will most likely be minor relative to the overall pollution trend. "
   ]
  },
  {
   "cell_type": "markdown",
   "metadata": {},
   "source": [
    "# Conclusion & Discussion"
   ]
  },
  {
   "cell_type": "markdown",
   "metadata": {},
   "source": [
    "**Conclusion (2-3 paragraphs)**\n",
    "- Summarize data and answer question\n",
    "- Discuss analysis\n",
    "- Summarize results and conclusions\n",
    "- Discuss limitations of analysis\n",
    "- Discuss impact of work on society\n",
    "\n",
    "From our permutation tests, we looked at the difference in means of the two groups if there was no affect by the lockdown. When comparing those values to the actual observed diffence in means from our data, we found that three out of the four pollutants showed a statistical significance in the difference of means between the counts from when LA was in lockdown versus when they weren't. This shows that being in lockdown could possibly affect the counts of the pollutants and they fall under a different distribution. The difference in means of our actual data was a lot greater that those from the simulated difference in means because in the times of lockdown, there were less pollutants for a variety of reasons. From the lockdown, many companies and factories has to close. As a consequence of this close and the discouragement of gatherings, there are less cars on the road being driven. With big industrial factories closed, and less cars being driven, the abscence of the influx of pollutants from those things could be a reason for why the counts of the pollutants recorded in this data during lock were lower."
   ]
  },
  {
   "cell_type": "markdown",
   "metadata": {},
   "source": [
    "# Team Contributions"
   ]
  },
  {
   "cell_type": "markdown",
   "metadata": {},
   "source": [
    "Aaron Chen: Question, Overview, Hypothesis, Pollution Over Time Line Graphs, Ethics and Privacy\n",
    "\n",
    "Cathleen Pena: Question, Hypothesis, Datasets, Setup, Data Cleaning, Correlation Plot, Permutation Tests, Ethics and Privacy\n",
    "\n",
    "Ian Rebmann: Question, Background, Hypothesis, Weather Over Time Line Graphs\n",
    "\n",
    "Sandra Villamar: Question, Overview, Background, Hypothesis, Setup, Data Cleaning, Pollution Over Time Line Graphs, Correlation Plot, Pollution Over Years Boxplots, ANOVA Tests, Ethics and Privacy\n",
    "\n",
    "**ADD IN CONCLUSION"
   ]
  }
 ],
 "metadata": {
  "kernelspec": {
   "display_name": "Python 3",
   "language": "python",
   "name": "python3"
  },
  "language_info": {
   "codemirror_mode": {
    "name": "ipython",
    "version": 3
   },
   "file_extension": ".py",
   "mimetype": "text/x-python",
   "name": "python",
   "nbconvert_exporter": "python",
   "pygments_lexer": "ipython3",
   "version": "3.6.2"
  }
 },
 "nbformat": 4,
 "nbformat_minor": 2
}
